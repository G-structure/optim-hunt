{
 "cells": [
  {
   "cell_type": "code",
   "execution_count": 1,
   "metadata": {},
   "outputs": [],
   "source": [
    "import sys\n",
    "import torch as t\n",
    "from torch import Tensor\n",
    "import torch.nn as nn\n",
    "import torch.nn.functional as F\n",
    "from pathlib import Path\n",
    "import numpy as np\n",
    "import einops\n",
    "from jaxtyping import Int, Float\n",
    "import functools\n",
    "from tqdm import tqdm\n",
    "from IPython.display import display\n",
    "from transformer_lens.hook_points import HookPoint\n",
    "from transformer_lens import (\n",
    "    utils,\n",
    "    HookedTransformer,\n",
    "    HookedTransformerConfig,\n",
    "    FactoredMatrix,\n",
    "    ActivationCache,\n",
    ")\n",
    "import circuitsvis as cv\n",
    "\n",
    "from optim_hunter.plotly_utils import imshow, hist, plot_comp_scores, plot_logit_attribution, plot_loss_difference, line\n",
    "from optim_hunter.utils import prepare_prompt, slice_dataset\n",
    "from optim_hunter.sklearn_regressors import linear_regression, knn_regression, random_forest, baseline_average, baseline_last, baseline_random\n",
    "from optim_hunter.datasets import get_dataset_friedman_2\n",
    "import logging\n",
    "\n",
    "# Configure logging\n",
    "logging.basicConfig(level=logging.WARNING)\n",
    "logger = logging.getLogger(__name__)\n",
    "\n",
    "# Saves computation time, since we don't need it for the contents of this notebook\n",
    "t.set_grad_enabled(False)\n",
    "\n",
    "#device = t.device(\"cuda:0,1\" if t.cuda.is_available() else \"cpu\")\n",
    "device = t.device(\"cuda:0\" if t.cuda.is_available() else \"cpu\")\n",
    "# device = t.device(\"cpu\")\n",
    "\n",
    "MAIN = __name__ == \"__main__\""
   ]
  },
  {
   "cell_type": "code",
   "execution_count": 2,
   "id": "3785158c",
   "metadata": {},
   "outputs": [
    {
     "data": {
      "application/vnd.jupyter.widget-view+json": {
       "model_id": "7e51856996e84b5c853960170088da99",
       "version_major": 2,
       "version_minor": 0
      },
      "text/plain": [
       "Loading checkpoint shards:   0%|          | 0/4 [00:00<?, ?it/s]"
      ]
     },
     "metadata": {},
     "output_type": "display_data"
    },
    {
     "name": "stderr",
     "output_type": "stream",
     "text": [
      "WARNING:root:With reduced precision, it is advised to use `from_pretrained_no_processing` instead of `from_pretrained`.\n",
      "WARNING:root:You are not using LayerNorm, so the writing weights can't be centered! Skipping\n"
     ]
    },
    {
     "name": "stdout",
     "output_type": "stream",
     "text": [
      "Loaded pretrained model meta-llama/Meta-Llama-3-8B-Instruct into HookedTransformer\n"
     ]
    }
   ],
   "source": [
    "# Load directly from model path https://github.com/TransformerLensOrg/TransformerLens/issues/691\n",
    "from transformers import BitsAndBytesConfig, AutoModelForCausalLM, AutoTokenizer\n",
    "\n",
    "MODEL_TYPE = \"meta-llama/Meta-Llama-3-8B-Instruct\"\n",
    "MODEL_PATH = \"/home/freiza/optim_hunter/.models/Llama-3.1-8B-Instruct/\"\n",
    "\n",
    "if MODEL_PATH:\n",
    "    tokenizer = AutoTokenizer.from_pretrained(MODEL_PATH)\n",
    "    hf_model = AutoModelForCausalLM.from_pretrained(MODEL_PATH, low_cpu_mem_usage=True,\n",
    "                                                     #quantization_config=BitsAndBytesConfig(load_in_4bit=True), \n",
    "                                                     #torch_dtype = t.float32, \n",
    "                                                     #device_map = \"cuda:0\"\n",
    "                                                     )\n",
    "\n",
    "    tokenizer.padding_side = 'left'\n",
    "    tokenizer.pad_token = tokenizer.eos_token\n",
    "\n",
    "    model = HookedTransformer.from_pretrained(\n",
    "        MODEL_TYPE,\n",
    "        hf_model=hf_model,\n",
    "        device=\"cuda\",\n",
    "        n_devices=2,\n",
    "        fold_ln=True,\n",
    "        # fold_value_biases=False,\n",
    "        center_writing_weights=True,\n",
    "        # refactor_factored_attn_matrices=True,\n",
    "        center_unembed=True,\n",
    "        # dtype=t.bfloat16,\n",
    "        dtype=t.float16,\n",
    "        default_padding_side='left',\n",
    "        tokenizer=tokenizer\n",
    "    )\n",
    "\n",
    "    #model = model.to(\"cuda\" if t.cuda.is_available() else \"cpu\")\n",
    "    #model.generate(\"The capital of Germany is\", max_new_tokens=20, temperature=0)"
   ]
  },
  {
   "cell_type": "code",
   "execution_count": 3,
   "id": "65997326",
   "metadata": {},
   "outputs": [
    {
     "name": "stdout",
     "output_type": "stream",
     "text": [
      "Linear Regression Prediction: 195.17517623541323\n",
      "Random Forest Prediction: 313.9697103039182\n",
      "KNN Regression Prediction: 96.86399999999999\n",
      "Baseline Average Prediction: 568.5242\n",
      "Baseline Last Prediction: 408.33\n",
      "Baseline Random Prediction: 461.33\n",
      "Gold: 116.73\n",
      "Tokenized prompt: ['<|begin_of_text|>', 'The', ' task', ' is', ' to', ' provide', ' your', ' best', ' estimate', ' for', ' \"', 'Output', '\".', ' Please', ' provide', ' that', ' and', ' only', ' that', ',', ' without', ' any', ' additional', ' text', '.\\n\\n\\n\\n\\n', 'Feature', ' ', '0', ':', ' ', '98', '.', '67', '\\n', 'Feature', ' ', '1', ':', ' ', '677', '.', '92', '\\n', 'Feature', ' ', '2', ':', ' ', '0', '.', '24', '\\n', 'Feature', ' ', '3', ':', ' ', '8', '.', '96', '\\n', 'Output', ':', ' ', '190', '.', '21', '\\n\\n', 'Feature', ' ', '0', ':', ' ', '59', '.', '55', '\\n', 'Feature', ' ', '1', ':', ' ', '164', '8', '.', '45', '\\n', 'Feature', ' ', '2', ':', ' ', '0', '.', '54', '\\n', 'Feature', ' ', '3', ':', ' ', '3', '.', '28', '\\n', 'Output', ':', ' ', '890', '.', '26', '\\n\\n', 'Feature', ' ', '0', ':', ' ', '49', '.', '75', '\\n', 'Feature', ' ', '1', ':', ' ', '118', '5', '.', '43', '\\n', 'Feature', ' ', '2', ':', ' ', '0', '.', '45', '\\n', 'Feature', ' ', '3', ':', ' ', '6', '.', '51', '\\n', 'Output', ':', ' ', '533', '.', '13', '\\n\\n', 'Feature', ' ', '0', ':', ' ', '94', '.', '18', '\\n', 'Feature', ' ', '1', ':', ' ', '151', '5', '.', '55', '\\n', 'Feature', ' ', '2', ':', ' ', '0', '.', '73', '\\n', 'Feature', ' ', '3', ':', ' ', '2', '.', '09', '\\n', 'Output', ':', ' ', '111', '0', '.', '3', '\\n\\n', 'Feature', ' ', '0', ':', ' ', '46', '.', '15', '\\n', 'Feature', ' ', '1', ':', ' ', '248', '.', '19', '\\n', 'Feature', ' ', '2', ':', ' ', '0', '.', '02', '\\n', 'Feature', ' ', '3', ':', ' ', '8', '.', '6', '\\n', 'Output', ':', ' ', '46', '.', '4', '\\n\\n', 'Feature', ' ', '0', ':', ' ', '36', '.', '76', '\\n', 'Feature', ' ', '1', ':', ' ', '401', '.', '79', '\\n', 'Feature', ' ', '2', ':', ' ', '0', '.', '79', '\\n', 'Feature', ' ', '3', ':', ' ', '9', '.', '33', '\\n', 'Output', ':', ' ', '321', '.', '08', '\\n\\n', 'Feature', ' ', '0', ':', ' ', '32', '.', '04', '\\n', 'Feature', ' ', '1', ':', ' ', '613', '.', '64', '\\n', 'Feature', ' ', '2', ':', ' ', '0', '.', '03', '\\n', 'Feature', ' ', '3', ':', ' ', '5', '.', '23', '\\n', 'Output', ':', ' ', '36', '.', '28', '\\n\\n', 'Feature', ' ', '0', ':', ' ', '5', '.', '51', '\\n', 'Feature', ' ', '1', ':', ' ', '150', '8', '.', '53', '\\n', 'Feature', ' ', '2', ':', ' ', '0', '.', '99', '\\n', 'Feature', ' ', '3', ':', ' ', '3', '.', '48', '\\n', 'Output', ':', ' ', '149', '2', '.', '06', '\\n\\n', 'Feature', ' ', '0', ':', ' ', '19', '.', '3', '\\n', 'Feature', ' ', '1', ':', ' ', '137', '9', '.', '69', '\\n', 'Feature', ' ', '2', ':', ' ', '0', '.', '33', '\\n', 'Feature', ' ', '3', ':', ' ', '5', '.', '38', '\\n', 'Output', ':', ' ', '461', '.', '33', '\\n\\n', 'Feature', ' ', '0', ':', ' ', '71', '.', '78', '\\n', 'Feature', ' ', '1', ':', ' ', '110', '9', '.', '21', '\\n', 'Feature', ' ', '2', ':', ' ', '0', '.', '55', '\\n', 'Feature', ' ', '3', ':', ' ', '10', '.', '49', '\\n', 'Output', ':', ' ', '616', '.', '9', '\\n\\n', 'Feature', ' ', '0', ':', ' ', '36', '.', '06', '\\n', 'Feature', ' ', '1', ':', ' ', '529', '.', '17', '\\n', 'Feature', ' ', '2', ':', ' ', '0', '.', '05', '\\n', 'Feature', ' ', '3', ':', ' ', '9', '.', '32', '\\n', 'Output', ':', ' ', '45', '.', '67', '\\n\\n', 'Feature', ' ', '0', ':', ' ', '81', '.', '44', '\\n', 'Feature', ' ', '1', ':', ' ', '437', '.', '23', '\\n', 'Feature', ' ', '2', ':', ' ', '0', '.', '18', '\\n', 'Feature', ' ', '3', ':', ' ', '10', '.', '61', '\\n', 'Output', ':', ' ', '112', '.', '02', '\\n\\n', 'Feature', ' ', '0', ':', ' ', '61', '.', '4', '\\n', 'Feature', ' ', '1', ':', ' ', '636', '.', '25', '\\n', 'Feature', ' ', '2', ':', ' ', '0', '.', '68', '\\n', 'Feature', ' ', '3', ':', ' ', '10', '.', '48', '\\n', 'Output', ':', ' ', '437', '.', '96', '\\n\\n', 'Feature', ' ', '0', ':', ' ', '2', '.', '07', '\\n', 'Feature', ' ', '1', ':', ' ', '138', '4', '.', '45', '\\n', 'Feature', ' ', '2', ':', ' ', '0', '.', '3', '\\n', 'Feature', ' ', '3', ':', ' ', '8', '.', '01', '\\n', 'Output', ':', ' ', '415', '.', '27', '\\n\\n', 'Feature', ' ', '0', ':', ' ', '75', '.', '9', '\\n', 'Feature', ' ', '1', ':', ' ', '146', '2', '.', '42', '\\n', 'Feature', ' ', '2', ':', ' ', '0', '.', '34', '\\n', 'Feature', ' ', '3', ':', ' ', '4', '.', '19', '\\n', 'Output', ':', ' ', '509', '.', '67', '\\n\\n', 'Feature', ' ', '0', ':', ' ', '71', '.', '3', '\\n', 'Feature', ' ', '1', ':', ' ', '977', '.', '72', '\\n', 'Feature', ' ', '2', ':', ' ', '0', '.', '51', '\\n', 'Feature', ' ', '3', ':', ' ', '2', '.', '36', '\\n', 'Output', ':', ' ', '499', '.', '33', '\\n\\n', 'Feature', ' ', '0', ':', ' ', '14', '.', '49', '\\n', 'Feature', ' ', '1', ':', ' ', '164', '4', '.', '29', '\\n', 'Feature', ' ', '2', ':', ' ', '0', '.', '96', '\\n', 'Feature', ' ', '3', ':', ' ', '10', '.', '66', '\\n', 'Output', ':', ' ', '157', '2', '.', '11', '\\n\\n', 'Feature', ' ', '0', ':', ' ', '6', '.', '54', '\\n', 'Feature', ' ', '1', ':', ' ', '106', '4', '.', '44', '\\n', 'Feature', ' ', '2', ':', ' ', '0', '.', '69', '\\n', 'Feature', ' ', '3', ':', ' ', '6', '.', '68', '\\n', 'Output', ':', ' ', '732', '.', '29', '\\n\\n', 'Feature', ' ', '0', ':', ' ', '43', '.', '82', '\\n', 'Feature', ' ', '1', ':', ' ', '275', '.', '0', '\\n', 'Feature', ' ', '2', ':', ' ', '0', '.', '3', '\\n', 'Feature', ' ', '3', ':', ' ', '1', '.', '86', '\\n', 'Output', ':', ' ', '93', '.', '65', '\\n\\n', 'Feature', ' ', '0', ':', ' ', '73', '.', '42', '\\n', 'Feature', ' ', '1', ':', ' ', '155', '5', '.', '57', '\\n', 'Feature', ' ', '2', ':', ' ', '0', '.', '65', '\\n', 'Feature', ' ', '3', ':', ' ', '7', '.', '96', '\\n', 'Output', ':', ' ', '101', '0', '.', '77', '\\n\\n', 'Feature', ' ', '0', ':', ' ', '73', '.', '47', '\\n', 'Feature', ' ', '1', ':', ' ', '164', '9', '.', '68', '\\n', 'Feature', ' ', '2', ':', ' ', '0', '.', '4', '\\n', 'Feature', ' ', '3', ':', ' ', '4', '.', '58', '\\n', 'Output', ':', ' ', '664', '.', '49', '\\n\\n', 'Feature', ' ', '0', ':', ' ', '18', '.', '03', '\\n', 'Feature', ' ', '1', ':', ' ', '157', '.', '48', '\\n', 'Feature', ' ', '2', ':', ' ', '0', '.', '46', '\\n', 'Feature', ' ', '3', ':', ' ', '8', '.', '25', '\\n', 'Output', ':', ' ', '75', '.', '14', '\\n\\n', 'Feature', ' ', '0', ':', ' ', '53', '.', '37', '\\n', 'Feature', ' ', '1', ':', ' ', '161', '4', '.', '1', '\\n', 'Feature', ' ', '2', ':', ' ', '0', '.', '42', '\\n', 'Feature', ' ', '3', ':', ' ', '3', '.', '86', '\\n', 'Output', ':', ' ', '672', '.', '78', '\\n\\n', 'Feature', ' ', '0', ':', ' ', '47', '.', '83', '\\n', 'Feature', ' ', '1', ':', ' ', '162', '1', '.', '26', '\\n', 'Feature', ' ', '2', ':', ' ', '0', '.', '36', '\\n', 'Feature', ' ', '3', ':', ' ', '1', '.', '53', '\\n', 'Output', ':', ' ', '578', '.', '87', '\\n\\n', 'Feature', ' ', '0', ':', ' ', '7', '.', '04', '\\n', 'Feature', ' ', '1', ':', ' ', '599', '.', '85', '\\n', 'Feature', ' ', '2', ':', ' ', '0', '.', '79', '\\n', 'Feature', ' ', '3', ':', ' ', '10', '.', '05', '\\n', 'Output', ':', ' ', '473', '.', '99', '\\n\\n', 'Feature', ' ', '0', ':', ' ', '11', '.', '17', '\\n', 'Feature', ' ', '1', ':', ' ', '262', '.', '81', '\\n', 'Feature', ' ', '2', ':', ' ', '0', '.', '71', '\\n', 'Feature', ' ', '3', ':', ' ', '7', '.', '0', '\\n', 'Output', ':', ' ', '187', '.', '64', '\\n\\n', 'Feature', ' ', '0', ':', ' ', '89', '.', '39', '\\n', 'Feature', ' ', '1', ':', ' ', '152', '5', '.', '94', '\\n', 'Feature', ' ', '2', ':', ' ', '0', '.', '17', '\\n', 'Feature', ' ', '3', ':', ' ', '7', '.', '32', '\\n', 'Output', ':', ' ', '267', '.', '3', '\\n\\n', 'Feature', ' ', '0', ':', ' ', '64', '.', '8', '\\n', 'Feature', ' ', '1', ':', ' ', '212', '.', '14', '\\n', 'Feature', ' ', '2', ':', ' ', '0', '.', '23', '\\n', 'Feature', ' ', '3', ':', ' ', '8', '.', '06', '\\n', 'Output', ':', ' ', '81', '.', '49', '\\n\\n', 'Feature', ' ', '0', ':', ' ', '51', '.', '9', '\\n', 'Feature', ' ', '1', ':', ' ', '163', '2', '.', '6', '\\n', 'Feature', ' ', '2', ':', ' ', '0', '.', '72', '\\n', 'Feature', ' ', '3', ':', ' ', '5', '.', '94', '\\n', 'Output', ':', ' ', '118', '3', '.', '0', '\\n\\n', 'Feature', ' ', '0', ':', ' ', '5', '.', '41', '\\n', 'Feature', ' ', '1', ':', ' ', '172', '6', '.', '12', '\\n', 'Feature', ' ', '2', ':', ' ', '0', '.', '77', '\\n', 'Feature', ' ', '3', ':', ' ', '5', '.', '54', '\\n', 'Output', ':', ' ', '132', '4', '.', '32', '\\n\\n', 'Feature', ' ', '0', ':', ' ', '67', '.', '35', '\\n', 'Feature', ' ', '1', ':', ' ', '531', '.', '49', '\\n', 'Feature', ' ', '2', ':', ' ', '0', '.', '75', '\\n', 'Feature', ' ', '3', ':', ' ', '9', '.', '79', '\\n', 'Output', ':', ' ', '405', '.', '24', '\\n\\n', 'Feature', ' ', '0', ':', ' ', '29', '.', '1', '\\n', 'Feature', ' ', '1', ':', ' ', '141', '7', '.', '23', '\\n', 'Feature', ' ', '2', ':', ' ', '0', '.', '17', '\\n', 'Feature', ' ', '3', ':', ' ', '3', '.', '99', '\\n', 'Output', ':', ' ', '243', '.', '79', '\\n\\n', 'Feature', ' ', '0', ':', ' ', '45', '.', '28', '\\n', 'Feature', ' ', '1', ':', ' ', '114', '3', '.', '14', '\\n', 'Feature', ' ', '2', ':', ' ', '0', '.', '74', '\\n', 'Feature', ' ', '3', ':', ' ', '5', '.', '19', '\\n', 'Output', ':', ' ', '847', '.', '08', '\\n\\n', 'Feature', ' ', '0', ':', ' ', '6', '.', '37', '\\n', 'Feature', ' ', '1', ':', ' ', '721', '.', '31', '\\n', 'Feature', ' ', '2', ':', ' ', '0', '.', '07', '\\n', 'Feature', ' ', '3', ':', ' ', '4', '.', '19', '\\n', 'Output', ':', ' ', '50', '.', '91', '\\n\\n', 'Feature', ' ', '0', ':', ' ', '42', '.', '02', '\\n', 'Feature', ' ', '1', ':', ' ', '918', '.', '67', '\\n', 'Feature', ' ', '2', ':', ' ', '0', '.', '01', '\\n', 'Feature', ' ', '3', ':', ' ', '5', '.', '87', '\\n', 'Output', ':', ' ', '43', '.', '63', '\\n\\n', 'Feature', ' ', '0', ':', ' ', '7', '.', '84', '\\n', 'Feature', ' ', '1', ':', ' ', '168', '1', '.', '16', '\\n', 'Feature', ' ', '2', ':', ' ', '0', '.', '71', '\\n', 'Feature', ' ', '3', ':', ' ', '10', '.', '12', '\\n', 'Output', ':', ' ', '118', '7', '.', '18', '\\n\\n', 'Feature', ' ', '0', ':', ' ', '93', '.', '08', '\\n', 'Feature', ' ', '1', ':', ' ', '515', '.', '03', '\\n', 'Feature', ' ', '2', ':', ' ', '0', '.', '42', '\\n', 'Feature', ' ', '3', ':', ' ', '10', '.', '6', '\\n', 'Output', ':', ' ', '235', '.', '67', '\\n\\n', 'Feature', ' ', '0', ':', ' ', '2', '.', '05', '\\n', 'Feature', ' ', '1', ':', ' ', '316', '.', '37', '\\n', 'Feature', ' ', '2', ':', ' ', '0', '.', '32', '\\n', 'Feature', ' ', '3', ':', ' ', '2', '.', '58', '\\n', 'Output', ':', ' ', '100', '.', '11', '\\n\\n', 'Feature', ' ', '0', ':', ' ', '97', '.', '12', '\\n', 'Feature', ' ', '1', ':', ' ', '164', '8', '.', '88', '\\n', 'Feature', ' ', '2', ':', ' ', '0', '.', '84', '\\n', 'Feature', ' ', '3', ':', ' ', '2', '.', '27', '\\n', 'Output', ':', ' ', '138', '9', '.', '59', '\\n\\n', 'Feature', ' ', '0', ':', ' ', '26', '.', '93', '\\n', 'Feature', ' ', '1', ':', ' ', '119', '8', '.', '48', '\\n', 'Feature', ' ', '2', ':', ' ', '0', '.', '63', '\\n', 'Feature', ' ', '3', ':', ' ', '9', '.', '26', '\\n', 'Output', ':', ' ', '751', '.', '93', '\\n\\n', 'Feature', ' ', '0', ':', ' ', '31', '.', '89', '\\n', 'Feature', ' ', '1', ':', ' ', '105', '4', '.', '04', '\\n', 'Feature', ' ', '2', ':', ' ', '0', '.', '66', '\\n', 'Feature', ' ', '3', ':', ' ', '6', '.', '76', '\\n', 'Output', ':', ' ', '695', '.', '02', '\\n\\n', 'Feature', ' ', '0', ':', ' ', '94', '.', '98', '\\n', 'Feature', ' ', '1', ':', ' ', '671', '.', '89', '\\n', 'Feature', ' ', '2', ':', ' ', '0', '.', '61', '\\n', 'Feature', ' ', '3', ':', ' ', '4', '.', '66', '\\n', 'Output', ':', ' ', '421', '.', '78', '\\n\\n', 'Feature', ' ', '0', ':', ' ', '5', '.', '57', '\\n', 'Feature', ' ', '1', ':', ' ', '909', '.', '47', '\\n', 'Feature', ' ', '2', ':', ' ', '0', '.', '4', '\\n', 'Feature', ' ', '3', ':', ' ', '9', '.', '48', '\\n', 'Output', ':', ' ', '365', '.', '36', '\\n\\n', 'Feature', ' ', '0', ':', ' ', '55', '.', '65', '\\n', 'Feature', ' ', '1', ':', ' ', '724', '.', '27', '\\n', 'Feature', ' ', '2', ':', ' ', '0', '.', '91', '\\n', 'Feature', ' ', '3', ':', ' ', '4', '.', '14', '\\n', 'Output', ':', ' ', '662', '.', '73', '\\n\\n', 'Feature', ' ', '0', ':', ' ', '79', '.', '26', '\\n', 'Feature', ' ', '1', ':', ' ', '104', '3', '.', '47', '\\n', 'Feature', ' ', '2', ':', ' ', '0', '.', '62', '\\n', 'Feature', ' ', '3', ':', ' ', '4', '.', '61', '\\n', 'Output', ':', ' ', '647', '.', '66', '\\n\\n', 'Feature', ' ', '0', ':', ' ', '16', '.', '88', '\\n', 'Feature', ' ', '1', ':', ' ', '838', '.', '32', '\\n', 'Feature', ' ', '2', ':', ' ', '0', '.', '73', '\\n', 'Feature', ' ', '3', ':', ' ', '1', '.', '63', '\\n', 'Output', ':', ' ', '614', '.', '57', '\\n\\n', 'Feature', ' ', '0', ':', ' ', '64', '.', '22', '\\n', 'Feature', ' ', '1', ':', ' ', '168', '9', '.', '77', '\\n', 'Feature', ' ', '2', ':', ' ', '0', '.', '33', '\\n', 'Feature', ' ', '3', ':', ' ', '8', '.', '38', '\\n', 'Output', ':', ' ', '567', '.', '81', '\\n\\n', 'Feature', ' ', '0', ':', ' ', '34', '.', '37', '\\n', 'Feature', ' ', '1', ':', ' ', '128', '4', '.', '4', '\\n', 'Feature', ' ', '2', ':', ' ', '0', '.', '97', '\\n', 'Feature', ' ', '3', ':', ' ', '7', '.', '25', '\\n', 'Output', ':', ' ', '125', '1', '.', '43', '\\n\\n', 'Feature', ' ', '0', ':', ' ', '80', '.', '66', '\\n', 'Feature', ' ', '1', ':', ' ', '137', '4', '.', '56', '\\n', 'Feature', ' ', '2', ':', ' ', '0', '.', '65', '\\n', 'Feature', ' ', '3', ':', ' ', '9', '.', '11', '\\n', 'Output', ':', ' ', '900', '.', '68', '\\n\\n', 'Feature', ' ', '0', ':', ' ', '31', '.', '82', '\\n', 'Feature', ' ', '1', ':', ' ', '481', '.', '8', '\\n', 'Feature', ' ', '2', ':', ' ', '0', '.', '84', '\\n', 'Feature', ' ', '3', ':', ' ', '4', '.', '02', '\\n', 'Output', ':', ' ', '408', '.', '33', '\\n\\n', 'Feature', ' ', '0', ':', ' ', '35', '.', '78', '\\n', 'Feature', ' ', '1', ':', ' ', '200', '.', '6', '\\n', 'Feature', ' ', '2', ':', ' ', '0', '.', '55', '\\n', 'Feature', ' ', '3', ':', ' ', '8', '.', '36', '\\n', 'Output', ':']\n",
      "Tokenized answer: [' ', '116', '.', '73']\n"
     ]
    },
    {
     "data": {
      "text/html": [
       "<pre style=\"white-space:pre;overflow-x:auto;line-height:normal;font-family:Menlo,'DejaVu Sans Mono',consolas,'Courier New',monospace\">Performance on answer token:\n",
       "<span style=\"font-weight: bold\">Rank: </span><span style=\"color: #008080; text-decoration-color: #008080; font-weight: bold\">0</span><span style=\"font-weight: bold\">        Logit: </span><span style=\"color: #008080; text-decoration-color: #008080; font-weight: bold\">22.16</span><span style=\"font-weight: bold\"> Prob: </span><span style=\"color: #008080; text-decoration-color: #008080; font-weight: bold\">99.90</span><span style=\"font-weight: bold\">% Token: | |</span>\n",
       "</pre>\n"
      ],
      "text/plain": [
       "Performance on answer token:\n",
       "\u001b[1mRank: \u001b[0m\u001b[1;36m0\u001b[0m\u001b[1m        Logit: \u001b[0m\u001b[1;36m22.16\u001b[0m\u001b[1m Prob: \u001b[0m\u001b[1;36m99.90\u001b[0m\u001b[1m% Token: | |\u001b[0m\n"
      ]
     },
     "metadata": {},
     "output_type": "display_data"
    },
    {
     "name": "stdout",
     "output_type": "stream",
     "text": [
      "Top 0th token. Logit: 22.16 Prob: 99.90% Token: | |\n",
      "Top 1th token. Logit: 14.30 Prob:  0.04% Token: | -|\n",
      "Top 2th token. Logit: 11.61 Prob:  0.00% Token: | \n",
      "|\n",
      "Top 3th token. Logit: 11.05 Prob:  0.00% Token: | B|\n",
      "Top 4th token. Logit: 10.84 Prob:  0.00% Token: | D|\n",
      "Top 5th token. Logit: 10.58 Prob:  0.00% Token: | .|\n",
      "Top 6th token. Logit: 10.55 Prob:  0.00% Token: | -\n",
      "|\n",
      "Top 7th token. Logit: 10.07 Prob:  0.00% Token: | L|\n",
      "Top 8th token. Logit:  9.91 Prob:  0.00% Token: | E|\n",
      "Top 9th token. Logit:  9.77 Prob:  0.00% Token: |104|\n"
     ]
    },
    {
     "data": {
      "text/html": [
       "<pre style=\"white-space:pre;overflow-x:auto;line-height:normal;font-family:Menlo,'DejaVu Sans Mono',consolas,'Courier New',monospace\">Performance on answer token:\n",
       "<span style=\"font-weight: bold\">Rank: </span><span style=\"color: #008080; text-decoration-color: #008080; font-weight: bold\">118</span><span style=\"font-weight: bold\">      Logit: </span><span style=\"color: #008080; text-decoration-color: #008080; font-weight: bold\">14.70</span><span style=\"font-weight: bold\"> Prob:  </span><span style=\"color: #008080; text-decoration-color: #008080; font-weight: bold\">0.39</span><span style=\"font-weight: bold\">% Token: |</span><span style=\"color: #008080; text-decoration-color: #008080; font-weight: bold\">116</span><span style=\"font-weight: bold\">|</span>\n",
       "</pre>\n"
      ],
      "text/plain": [
       "Performance on answer token:\n",
       "\u001b[1mRank: \u001b[0m\u001b[1;36m118\u001b[0m\u001b[1m      Logit: \u001b[0m\u001b[1;36m14.70\u001b[0m\u001b[1m Prob:  \u001b[0m\u001b[1;36m0.39\u001b[0m\u001b[1m% Token: |\u001b[0m\u001b[1;36m116\u001b[0m\u001b[1m|\u001b[0m\n"
      ]
     },
     "metadata": {},
     "output_type": "display_data"
    },
    {
     "name": "stdout",
     "output_type": "stream",
     "text": [
      "Top 0th token. Logit: 15.74 Prob:  1.10% Token: |123|\n",
      "Top 1th token. Logit: 15.70 Prob:  1.06% Token: |134|\n",
      "Top 2th token. Logit: 15.65 Prob:  1.00% Token: |93|\n",
      "Top 3th token. Logit: 15.62 Prob:  0.98% Token: |144|\n",
      "Top 4th token. Logit: 15.58 Prob:  0.94% Token: |104|\n",
      "Top 5th token. Logit: 15.58 Prob:  0.94% Token: |143|\n",
      "Top 6th token. Logit: 15.53 Prob:  0.89% Token: |97|\n",
      "Top 7th token. Logit: 15.47 Prob:  0.84% Token: |129|\n",
      "Top 8th token. Logit: 15.46 Prob:  0.83% Token: |145|\n",
      "Top 9th token. Logit: 15.45 Prob:  0.82% Token: |108|\n"
     ]
    },
    {
     "data": {
      "text/html": [
       "<pre style=\"white-space:pre;overflow-x:auto;line-height:normal;font-family:Menlo,'DejaVu Sans Mono',consolas,'Courier New',monospace\">Performance on answer token:\n",
       "<span style=\"font-weight: bold\">Rank: </span><span style=\"color: #008080; text-decoration-color: #008080; font-weight: bold\">0</span><span style=\"font-weight: bold\">        Logit: </span><span style=\"color: #008080; text-decoration-color: #008080; font-weight: bold\">25.53</span><span style=\"font-weight: bold\"> Prob: </span><span style=\"color: #008080; text-decoration-color: #008080; font-weight: bold\">100.00</span><span style=\"font-weight: bold\">% Token: |.|</span>\n",
       "</pre>\n"
      ],
      "text/plain": [
       "Performance on answer token:\n",
       "\u001b[1mRank: \u001b[0m\u001b[1;36m0\u001b[0m\u001b[1m        Logit: \u001b[0m\u001b[1;36m25.53\u001b[0m\u001b[1m Prob: \u001b[0m\u001b[1;36m100.00\u001b[0m\u001b[1m% Token: |.|\u001b[0m\n"
      ]
     },
     "metadata": {},
     "output_type": "display_data"
    },
    {
     "name": "stdout",
     "output_type": "stream",
     "text": [
      "Top 0th token. Logit: 25.53 Prob: 100.00% Token: |.|\n",
      "Top 1th token. Logit: 15.41 Prob:  0.00% Token: |\n",
      "\n",
      "|\n",
      "Top 2th token. Logit: 14.54 Prob:  0.00% Token: |6|\n",
      "Top 3th token. Logit: 14.46 Prob:  0.00% Token: |4|\n",
      "Top 4th token. Logit: 14.44 Prob:  0.00% Token: |9|\n",
      "Top 5th token. Logit: 14.36 Prob:  0.00% Token: |5|\n",
      "Top 6th token. Logit: 14.29 Prob:  0.00% Token: |2|\n",
      "Top 7th token. Logit: 14.23 Prob:  0.00% Token: |7|\n",
      "Top 8th token. Logit: 14.22 Prob:  0.00% Token: |3|\n",
      "Top 9th token. Logit: 14.22 Prob:  0.00% Token: |\n",
      "|\n"
     ]
    },
    {
     "data": {
      "text/html": [
       "<pre style=\"white-space:pre;overflow-x:auto;line-height:normal;font-family:Menlo,'DejaVu Sans Mono',consolas,'Courier New',monospace\">Performance on answer token:\n",
       "<span style=\"font-weight: bold\">Rank: </span><span style=\"color: #008080; text-decoration-color: #008080; font-weight: bold\">72</span><span style=\"font-weight: bold\">       Logit: </span><span style=\"color: #008080; text-decoration-color: #008080; font-weight: bold\">14.41</span><span style=\"font-weight: bold\"> Prob:  </span><span style=\"color: #008080; text-decoration-color: #008080; font-weight: bold\">0.86</span><span style=\"font-weight: bold\">% Token: |</span><span style=\"color: #008080; text-decoration-color: #008080; font-weight: bold\">73</span><span style=\"font-weight: bold\">|</span>\n",
       "</pre>\n"
      ],
      "text/plain": [
       "Performance on answer token:\n",
       "\u001b[1mRank: \u001b[0m\u001b[1;36m72\u001b[0m\u001b[1m       Logit: \u001b[0m\u001b[1;36m14.41\u001b[0m\u001b[1m Prob:  \u001b[0m\u001b[1;36m0.86\u001b[0m\u001b[1m% Token: |\u001b[0m\u001b[1;36m73\u001b[0m\u001b[1m|\u001b[0m\n"
      ]
     },
     "metadata": {},
     "output_type": "display_data"
    },
    {
     "name": "stdout",
     "output_type": "stream",
     "text": [
      "Top 0th token. Logit: 15.00 Prob:  1.55% Token: |19|\n",
      "Top 1th token. Logit: 15.00 Prob:  1.55% Token: |49|\n",
      "Top 2th token. Logit: 14.94 Prob:  1.46% Token: |59|\n",
      "Top 3th token. Logit: 14.91 Prob:  1.42% Token: |55|\n",
      "Top 4th token. Logit: 14.90 Prob:  1.40% Token: |98|\n",
      "Top 5th token. Logit: 14.86 Prob:  1.35% Token: |93|\n",
      "Top 6th token. Logit: 14.85 Prob:  1.34% Token: |85|\n",
      "Top 7th token. Logit: 14.84 Prob:  1.32% Token: |68|\n",
      "Top 8th token. Logit: 14.81 Prob:  1.29% Token: |29|\n",
      "Top 9th token. Logit: 14.81 Prob:  1.29% Token: |65|\n"
     ]
    },
    {
     "data": {
      "text/html": [
       "<pre style=\"white-space:pre;overflow-x:auto;line-height:normal;font-family:Menlo,'DejaVu Sans Mono',consolas,'Courier New',monospace\"><span style=\"font-weight: bold\">Ranks of the answer tokens:</span> <span style=\"font-weight: bold\">[(</span><span style=\"color: #008000; text-decoration-color: #008000\">' '</span>, <span style=\"color: #008080; text-decoration-color: #008080; font-weight: bold\">0</span><span style=\"font-weight: bold\">)</span>, <span style=\"font-weight: bold\">(</span><span style=\"color: #008000; text-decoration-color: #008000\">'116'</span>, <span style=\"color: #008080; text-decoration-color: #008080; font-weight: bold\">118</span><span style=\"font-weight: bold\">)</span>, <span style=\"font-weight: bold\">(</span><span style=\"color: #008000; text-decoration-color: #008000\">'.'</span>, <span style=\"color: #008080; text-decoration-color: #008080; font-weight: bold\">0</span><span style=\"font-weight: bold\">)</span>, <span style=\"font-weight: bold\">(</span><span style=\"color: #008000; text-decoration-color: #008000\">'73'</span>, <span style=\"color: #008080; text-decoration-color: #008080; font-weight: bold\">72</span><span style=\"font-weight: bold\">)]</span>\n",
       "</pre>\n"
      ],
      "text/plain": [
       "\u001b[1mRanks of the answer tokens:\u001b[0m \u001b[1m[\u001b[0m\u001b[1m(\u001b[0m\u001b[32m' '\u001b[0m, \u001b[1;36m0\u001b[0m\u001b[1m)\u001b[0m, \u001b[1m(\u001b[0m\u001b[32m'116'\u001b[0m, \u001b[1;36m118\u001b[0m\u001b[1m)\u001b[0m, \u001b[1m(\u001b[0m\u001b[32m'.'\u001b[0m, \u001b[1;36m0\u001b[0m\u001b[1m)\u001b[0m, \u001b[1m(\u001b[0m\u001b[32m'73'\u001b[0m, \u001b[1;36m72\u001b[0m\u001b[1m)\u001b[0m\u001b[1m]\u001b[0m\n"
      ]
     },
     "metadata": {},
     "output_type": "display_data"
    }
   ],
   "source": [
    "seq_len = 5\n",
    "x_train, y_train, x_test, y_test = get_dataset_friedman_2(random_state=11)\n",
    "# x_train, y_train, x_test, y_test =  slice_dataset(x_train, y_train, x_test, y_test, seq_len)\n",
    "linear_regression_prediction = linear_regression(x_train, x_test, y_train, y_test)['y_predict']\n",
    "knn_regression_prediction = knn_regression(x_train, x_test, y_train, y_test)['y_predict']\n",
    "random_forest_prediction = random_forest(x_train, x_test, y_train, y_test)['y_predict']\n",
    "baseline_avg_prediction = baseline_average(x_train, x_test, y_train, y_test)['y_predict']\n",
    "baseline_last_prediction = baseline_last(x_train, x_test, y_train, y_test)['y_predict']\n",
    "baseline_random_prediction = baseline_random(x_train, x_test, y_train, y_test)['y_predict']\n",
    "gold = y_test.values[0]\n",
    "\n",
    "print(\"Linear Regression Prediction:\", linear_regression_prediction[0])\n",
    "print(\"Random Forest Prediction:\", random_forest_prediction[0])\n",
    "print(\"KNN Regression Prediction:\", knn_regression_prediction[0])\n",
    "print(\"Baseline Average Prediction:\", baseline_avg_prediction[0])\n",
    "print(\"Baseline Last Prediction:\", baseline_last_prediction[0]) \n",
    "print(\"Baseline Random Prediction:\", baseline_random_prediction[0])\n",
    "print(\"Gold:\", gold)\n",
    "\n",
    "prompt = prepare_prompt(x_train, y_train, x_test)\n",
    "prompt = prompt + \"\"\n",
    "# example_answer = f\"{baseline_last_prediction[0]}\"\n",
    "# example_answer = f\"{random_forest_prediction[0]}\"\n",
    "example_answer = f\"{gold}\"\n",
    "utils.test_prompt(prompt, example_answer, model, prepend_bos=True)"
   ]
  },
  {
   "cell_type": "code",
   "execution_count": 4,
   "id": "b8f361e3",
   "metadata": {},
   "outputs": [],
   "source": [
    "def create_comparison_data(model, dataset_func, regressors, random_state=1, seq_len=None):\n",
    "    \"\"\"\n",
    "    Creates a structured comparison dataset for analyzing different regression models against gold values.\n",
    "    \n",
    "    Args:\n",
    "        model (HookedTransformer): The transformer model used for tokenization\n",
    "        dataset_func (callable): Function that returns (x_train, y_train, x_test, y_test)\n",
    "        regressors (list): List of regression functions to compare\n",
    "        random_state (int, optional): Random seed for dataset generation. Defaults to 11\n",
    "    \n",
    "    Returns:\n",
    "        dict: A structured dictionary containing:\n",
    "        {\n",
    "            'dataset_name': str,  # Name of the dataset function\n",
    "            'prompt': str,        # Generated prompt text for the model\n",
    "            'predictions': {      # Dictionary of predictions from each model\n",
    "                'gold': float,    # True value\n",
    "                'model_name1': float,  # Prediction from first model\n",
    "                'model_name2': float,  # Prediction from second model\n",
    "                ...\n",
    "            },\n",
    "            'comparison_names': [  # List of comparison descriptors\n",
    "                'model1 vs model2',\n",
    "                'model1 vs model3',\n",
    "                ...\n",
    "            ],\n",
    "            'token_pairs': tensor  # Shape: [num_comparisons, 1, 2]\n",
    "                                  # Each pair contains the first tokens of two predictions\n",
    "                                  # being compared\n",
    "        }\n",
    "    \n",
    "    Note:\n",
    "        - The function generates unique combinations (not permutations) of comparisons\n",
    "        - Only the first token of each prediction is stored in token_pairs\n",
    "        - All possible combinations between gold and regressors are included\n",
    "        - Token pairs maintain the order specified in comparison_names\n",
    "    \"\"\"\n",
    "    # Get dataset\n",
    "    x_train, y_train, x_test, y_test = dataset_func(random_state=random_state)\n",
    "    if seq_len:\n",
    "        x_train, y_train, x_test, y_test = slice_dataset(x_train, y_train, x_test, y_test, seq_len)\n",
    "    \n",
    "    # Get prompt\n",
    "    prompt = prepare_prompt(x_train, y_train, x_test)\n",
    "    \n",
    "    # Get gold value\n",
    "    gold = y_test.values[0]\n",
    "    \n",
    "    # Get predictions from each regressor\n",
    "    predictions = {}\n",
    "    predictions['gold'] = gold\n",
    "    for regressor in regressors:\n",
    "        result = regressor(x_train, x_test, y_train, y_test)\n",
    "        predictions[result['model_name']] = result['y_predict'][0]\n",
    "    \n",
    "    # Create comparison names and token pairs\n",
    "    comparison_names = []\n",
    "    token_pairs = []\n",
    "    \n",
    "    # Create list of all predictors (including gold)\n",
    "    all_predictors = ['gold'] + [reg(x_train, x_test, y_train, y_test)['model_name'] for reg in regressors]\n",
    "    \n",
    "    # Generate unique combinations (not permutations)\n",
    "    for i, pred1 in enumerate(all_predictors):\n",
    "        for j, pred2 in enumerate(all_predictors[i+1:], i+1):  # Start from i+1 to avoid duplicates\n",
    "            comparison_name = f\"{pred1} vs {pred2}\"\n",
    "            comparison_names.append(comparison_name)\n",
    "            \n",
    "            # Tokenize each prediction separately and get their first tokens\n",
    "            tokens1 = model.to_tokens(str(predictions[pred1]), prepend_bos=False)[0, 0]  # First token of first prediction\n",
    "            tokens2 = model.to_tokens(str(predictions[pred2]), prepend_bos=False)[0, 0]  # First token of second prediction\n",
    "            \n",
    "            # Combine the first tokens into a pair\n",
    "            first_tokens = t.tensor([tokens1, tokens2], device=tokens1.device).unsqueeze(0)  # Shape: [1, 2]\n",
    "            token_pairs.append(first_tokens)\n",
    "\n",
    "    # Verification Step: Ensure that each comparison_name matches the corresponding token_pair\n",
    "    for idx, (comp_name, token_pair) in enumerate(zip(comparison_names, token_pairs)):\n",
    "        pred1_name, pred2_name = comp_name.split(' vs ')\n",
    "        pred1_value = predictions[pred1_name]\n",
    "        pred2_value = predictions[pred2_name]\n",
    "        \n",
    "        # Tokenize the actual prediction values\n",
    "        actual_tokens1 = model.to_tokens(str(pred1_value), prepend_bos=False)[0, 0].item()\n",
    "        actual_tokens2 = model.to_tokens(str(pred2_value), prepend_bos=False)[0, 0].item()\n",
    "        \n",
    "        # Extract tokens from token_pair\n",
    "        token1, token2 = token_pair.squeeze(0).tolist()\n",
    "        \n",
    "        # Assert that tokens match\n",
    "        assert token1 == actual_tokens1, f\"Mismatch in token1 for comparison '{comp_name}' at index {idx}\"\n",
    "        assert token2 == actual_tokens2, f\"Mismatch in token2 for comparison '{comp_name}' at index {idx}\"\n",
    "    \n",
    "    \n",
    "    return {\n",
    "        'dataset_name': dataset_func.__name__,\n",
    "        'prompt': prompt,\n",
    "        'predictions': predictions,\n",
    "        'comparison_names': comparison_names,\n",
    "        'token_pairs': t.stack(token_pairs),  # Shape: [num_comparisons, 1, 2]\n",
    "    }\n",
    "\n",
    "# # Create the data store\n",
    "# datasets = [ get_dataset_friedman_2 ]\n",
    "# regressors = [ linear_regression, knn_regression, random_forest, baseline_average, baseline_last, baseline_random ]\n",
    "# data_store = {}\n",
    "# for dataset_func in datasets:\n",
    "#     data_store[dataset_func.__name__] = create_comparison_data(model, dataset_func, regressors)\n",
    "# # Print out the token pairs and comparison names\n",
    "# for dataset_name, dataset_info in data_store.items():\n",
    "#     print(f\"\\nDataset: {dataset_name}\")\n",
    "#     print(\"Token pairs:\")\n",
    "#     print(dataset_info['token_pairs'])\n",
    "#     print(\"\\nComparison names:\")\n",
    "#     print(dataset_info['comparison_names'])\n",
    "\n",
    "# # Get the first token pair from the first dataset\n",
    "# first_dataset_name = next(iter(data_store))\n",
    "# first_token_pair = data_store[first_dataset_name]['token_pairs'][0]  # Shape: [1, 2]\n",
    "# print(\"\\nFirst token pair:\")\n",
    "# print(first_token_pair)"
   ]
  },
  {
   "cell_type": "code",
   "execution_count": 5,
   "id": "a91e6939",
   "metadata": {},
   "outputs": [],
   "source": [
    "regressors = [ linear_regression, knn_regression, random_forest, baseline_average, baseline_last, baseline_random ]\n",
    "\n",
    "def generate_linreg_tokens(\n",
    "    model: HookedTransformer,\n",
    "    dataset,\n",
    "    seq_len = 5,\n",
    "    batch: int = 1\n",
    ") -> Int[Tensor, \"batch full_seq_len\"]:\n",
    "    '''\n",
    "    Generates a sequence of linear regression ICL tokens\n",
    "\n",
    "    Outputs are:\n",
    "        linreg_tokens: [batch, 1+linreg]\n",
    "    '''\n",
    "    prefix = (t.ones(batch, 1) * model.tokenizer.bos_token_id).long().to(device)\n",
    "    zero_token = model.to_tokens('0', truncate=True)[0][-1]\n",
    "    \n",
    "    # Create list to store tokens for each batch\n",
    "    batch_tokens = []\n",
    "    data_store = []\n",
    "\n",
    "    dataset_func = get_dataset_friedman_2\n",
    "    \n",
    "    # Generate tokens for each batch with different random seeds\n",
    "    for i in range(batch):\n",
    "        data = create_comparison_data(model, dataset_func, regressors, random_state=i, seq_len=seq_len)\n",
    "        tokens = model.to_tokens(data['prompt'], truncate=True)\n",
    "        batch_tokens.append(tokens[0])\n",
    "        data_store.append(data)\n",
    "    \n",
    "    # Find the longest sequence length\n",
    "    max_len = max(len(tokens) for tokens in batch_tokens)\n",
    "    \n",
    "    # Pad shorter sequences with token 0 at position -4\n",
    "    for i in range(len(batch_tokens)):\n",
    "        while len(batch_tokens[i]) < max_len:\n",
    "            # Insert 0 at position -4 from the end\n",
    "            print(f\"Found mismatch in token length for batch {i}!\\nLargest length: {max_len}\\nBatch {i} length: {len(batch_tokens[i])}\\nApplying padding...\")\n",
    "            print(f\"\\nBefore Zero Token Padding:\\n#####\\n{model.to_string(batch_tokens[i][-50:])}\\n#####\")\n",
    "            batch_tokens[i] = t.cat([\n",
    "                batch_tokens[i][:len(batch_tokens[i])-3],  \n",
    "                zero_token.unsqueeze(0), # Add unsqueeze to make zero_token 1-dimensional\n",
    "                batch_tokens[i][len(batch_tokens[i])-3:]\n",
    "            ])\n",
    "            print(f\"\\nAfter Zero Token Padding:\\n#####\\n{model.to_string(batch_tokens[i][-50:])}\\n#####\")\n",
    "\n",
    "    \n",
    "    # Stack all batches together \n",
    "    linreg_tokens = t.stack(batch_tokens).to(device)\n",
    "    \n",
    "    # Add prefix to each batch\n",
    "    linreg_tokens = t.cat([prefix, linreg_tokens], dim=-1).to(device)\n",
    "    return linreg_tokens, data_store\n",
    "\n",
    "def run_and_cache_model_linreg_tokens(model: HookedTransformer, seq_len: int, batch: int = 1) -> tuple[Tensor, Tensor, ActivationCache]:\n",
    "    '''\n",
    "    Generates a sequence of linear regression ICL tokens, and runs the model on it, returning (tokens, logits, cache)\n",
    "\n",
    "    Should use the `generate_linreg_tokens` function above\n",
    "\n",
    "    Outputs are:\n",
    "        linreg_tokens: [batch, 1+linreg]\n",
    "        linreg_logits: [batch, 1+linreg, d_vocab]\n",
    "        linreg_cache: The cache of the model run on linreg_tokens\n",
    "    '''\n",
    "    linreg_tokens, linreg_data_store = generate_linreg_tokens(model, get_dataset_friedman_2, seq_len, batch)\n",
    "    linreg_logits, linreg_cache = model.run_with_cache(linreg_tokens)\n",
    "    return linreg_tokens, linreg_logits, linreg_cache, linreg_data_store"
   ]
  },
  {
   "cell_type": "code",
   "execution_count": 12,
   "id": "c49d3138",
   "metadata": {},
   "outputs": [
    {
     "data": {
      "application/vnd.jupyter.widget-view+json": {
       "model_id": "dffc23ab01654bb0a8ca7635acc64bf1",
       "version_major": 2,
       "version_minor": 0
      },
      "text/plain": [
       "  0%|          | 0/4 [00:00<?, ?it/s]"
      ]
     },
     "metadata": {},
     "output_type": "display_data"
    },
    {
     "data": {
      "application/vnd.jupyter.widget-view+json": {
       "model_id": "8e08514906e74a8ea7ce7851ac41f718",
       "version_major": 2,
       "version_minor": 0
      },
      "text/plain": [
       "  0%|          | 0/4 [00:00<?, ?it/s]"
      ]
     },
     "metadata": {},
     "output_type": "display_data"
    },
    {
     "data": {
      "application/vnd.jupyter.widget-view+json": {
       "model_id": "c8f807aaeed542629dc3e8800247c7d0",
       "version_major": 2,
       "version_minor": 0
      },
      "text/plain": [
       "  0%|          | 0/4 [00:00<?, ?it/s]"
      ]
     },
     "metadata": {},
     "output_type": "display_data"
    },
    {
     "data": {
      "application/vnd.jupyter.widget-view+json": {
       "model_id": "bd3fb506b536418aa27e333e81e8d3d3",
       "version_major": 2,
       "version_minor": 0
      },
      "text/plain": [
       "  0%|          | 0/4 [00:00<?, ?it/s]"
      ]
     },
     "metadata": {},
     "output_type": "display_data"
    },
    {
     "data": {
      "application/vnd.jupyter.widget-view+json": {
       "model_id": "e053095a8a50473c93a1131858dc269f",
       "version_major": 2,
       "version_minor": 0
      },
      "text/plain": [
       "  0%|          | 0/4 [00:00<?, ?it/s]"
      ]
     },
     "metadata": {},
     "output_type": "display_data"
    },
    {
     "data": {
      "application/vnd.jupyter.widget-view+json": {
       "model_id": "404430ed2ab845ba85af5b813fec3df5",
       "version_major": 2,
       "version_minor": 0
      },
      "text/plain": [
       "  0%|          | 0/4 [00:00<?, ?it/s]"
      ]
     },
     "metadata": {},
     "output_type": "display_data"
    },
    {
     "data": {
      "application/vnd.jupyter.widget-view+json": {
       "model_id": "bccb3ead5d1f4d5686f244b66614ee4b",
       "version_major": 2,
       "version_minor": 0
      },
      "text/plain": [
       "  0%|          | 0/4 [00:00<?, ?it/s]"
      ]
     },
     "metadata": {},
     "output_type": "display_data"
    },
    {
     "data": {
      "application/vnd.jupyter.widget-view+json": {
       "model_id": "762704999301484da7a9654ca764e156",
       "version_major": 2,
       "version_minor": 0
      },
      "text/plain": [
       "  0%|          | 0/4 [00:00<?, ?it/s]"
      ]
     },
     "metadata": {},
     "output_type": "display_data"
    },
    {
     "data": {
      "application/vnd.jupyter.widget-view+json": {
       "model_id": "e115cde782004a478dfbc9ac79866ad3",
       "version_major": 2,
       "version_minor": 0
      },
      "text/plain": [
       "  0%|          | 0/4 [00:00<?, ?it/s]"
      ]
     },
     "metadata": {},
     "output_type": "display_data"
    },
    {
     "data": {
      "application/vnd.jupyter.widget-view+json": {
       "model_id": "a935bfb05afa4f9e9b70711cbf9ad90b",
       "version_major": 2,
       "version_minor": 0
      },
      "text/plain": [
       "  0%|          | 0/4 [00:00<?, ?it/s]"
      ]
     },
     "metadata": {},
     "output_type": "display_data"
    },
    {
     "data": {
      "application/vnd.jupyter.widget-view+json": {
       "model_id": "e46cffcad5a64b0ea5e1805df363c8e2",
       "version_major": 2,
       "version_minor": 0
      },
      "text/plain": [
       "  0%|          | 0/4 [00:00<?, ?it/s]"
      ]
     },
     "metadata": {},
     "output_type": "display_data"
    },
    {
     "data": {
      "application/vnd.jupyter.widget-view+json": {
       "model_id": "cd92e35d7c16409eb1bcd0d16e8f181b",
       "version_major": 2,
       "version_minor": 0
      },
      "text/plain": [
       "  0%|          | 0/4 [00:00<?, ?it/s]"
      ]
     },
     "metadata": {},
     "output_type": "display_data"
    },
    {
     "data": {
      "application/vnd.jupyter.widget-view+json": {
       "model_id": "591b67f6f3b4409d88ea394410b47871",
       "version_major": 2,
       "version_minor": 0
      },
      "text/plain": [
       "  0%|          | 0/4 [00:00<?, ?it/s]"
      ]
     },
     "metadata": {},
     "output_type": "display_data"
    },
    {
     "data": {
      "application/vnd.jupyter.widget-view+json": {
       "model_id": "6db79781f7e64a119320fb2c656f8294",
       "version_major": 2,
       "version_minor": 0
      },
      "text/plain": [
       "  0%|          | 0/4 [00:00<?, ?it/s]"
      ]
     },
     "metadata": {},
     "output_type": "display_data"
    },
    {
     "data": {
      "application/vnd.jupyter.widget-view+json": {
       "model_id": "56ec340a94f34b5fb1f9c554bab95512",
       "version_major": 2,
       "version_minor": 0
      },
      "text/plain": [
       "  0%|          | 0/4 [00:00<?, ?it/s]"
      ]
     },
     "metadata": {},
     "output_type": "display_data"
    },
    {
     "data": {
      "application/vnd.jupyter.widget-view+json": {
       "model_id": "5375d7c6940e4c9681eecfed1268f3d6",
       "version_major": 2,
       "version_minor": 0
      },
      "text/plain": [
       "  0%|          | 0/4 [00:00<?, ?it/s]"
      ]
     },
     "metadata": {},
     "output_type": "display_data"
    },
    {
     "data": {
      "application/vnd.jupyter.widget-view+json": {
       "model_id": "ac84b520010f4898893f7499e5e042a7",
       "version_major": 2,
       "version_minor": 0
      },
      "text/plain": [
       "  0%|          | 0/4 [00:00<?, ?it/s]"
      ]
     },
     "metadata": {},
     "output_type": "display_data"
    },
    {
     "data": {
      "application/vnd.jupyter.widget-view+json": {
       "model_id": "92409386d06f4f93822cabc33ffb3116",
       "version_major": 2,
       "version_minor": 0
      },
      "text/plain": [
       "  0%|          | 0/4 [00:00<?, ?it/s]"
      ]
     },
     "metadata": {},
     "output_type": "display_data"
    },
    {
     "data": {
      "application/vnd.jupyter.widget-view+json": {
       "model_id": "d26c8820c6464a8ea5930dc72647a70c",
       "version_major": 2,
       "version_minor": 0
      },
      "text/plain": [
       "  0%|          | 0/4 [00:00<?, ?it/s]"
      ]
     },
     "metadata": {},
     "output_type": "display_data"
    },
    {
     "data": {
      "application/vnd.jupyter.widget-view+json": {
       "model_id": "7df4faa5a27b4123a961a51de362d692",
       "version_major": 2,
       "version_minor": 0
      },
      "text/plain": [
       "  0%|          | 0/4 [00:00<?, ?it/s]"
      ]
     },
     "metadata": {},
     "output_type": "display_data"
    },
    {
     "data": {
      "application/vnd.jupyter.widget-view+json": {
       "model_id": "ca0a22bb420c4f08a62bcefe2ed5482b",
       "version_major": 2,
       "version_minor": 0
      },
      "text/plain": [
       "  0%|          | 0/4 [00:00<?, ?it/s]"
      ]
     },
     "metadata": {},
     "output_type": "display_data"
    },
    {
     "data": {
      "application/vnd.jupyter.widget-view+json": {
       "model_id": "d434b271f6a44a598f51b9d81827b72b",
       "version_major": 2,
       "version_minor": 0
      },
      "text/plain": [
       "  0%|          | 0/4 [00:00<?, ?it/s]"
      ]
     },
     "metadata": {},
     "output_type": "display_data"
    },
    {
     "data": {
      "application/vnd.jupyter.widget-view+json": {
       "model_id": "2fc1b2a9b90242d88f21be9c2ff8d609",
       "version_major": 2,
       "version_minor": 0
      },
      "text/plain": [
       "  0%|          | 0/4 [00:00<?, ?it/s]"
      ]
     },
     "metadata": {},
     "output_type": "display_data"
    },
    {
     "data": {
      "application/vnd.jupyter.widget-view+json": {
       "model_id": "8d2a10b8797048f2a2e6f758d0a3c86f",
       "version_major": 2,
       "version_minor": 0
      },
      "text/plain": [
       "  0%|          | 0/4 [00:00<?, ?it/s]"
      ]
     },
     "metadata": {},
     "output_type": "display_data"
    },
    {
     "data": {
      "application/vnd.jupyter.widget-view+json": {
       "model_id": "98bc55c57e744c79a7d093dae7696934",
       "version_major": 2,
       "version_minor": 0
      },
      "text/plain": [
       "  0%|          | 0/4 [00:00<?, ?it/s]"
      ]
     },
     "metadata": {},
     "output_type": "display_data"
    },
    {
     "data": {
      "application/vnd.jupyter.widget-view+json": {
       "model_id": "48e2588d00cc41e2a5c068dc84d1ae4d",
       "version_major": 2,
       "version_minor": 0
      },
      "text/plain": [
       "  0%|          | 0/4 [00:00<?, ?it/s]"
      ]
     },
     "metadata": {},
     "output_type": "display_data"
    },
    {
     "data": {
      "application/vnd.jupyter.widget-view+json": {
       "model_id": "667c45c0e01c4405aa9ad2fbcd7aa157",
       "version_major": 2,
       "version_minor": 0
      },
      "text/plain": [
       "  0%|          | 0/4 [00:00<?, ?it/s]"
      ]
     },
     "metadata": {},
     "output_type": "display_data"
    },
    {
     "data": {
      "application/vnd.jupyter.widget-view+json": {
       "model_id": "70a2658ee29d48c79e2cf0491952fb1f",
       "version_major": 2,
       "version_minor": 0
      },
      "text/plain": [
       "  0%|          | 0/4 [00:00<?, ?it/s]"
      ]
     },
     "metadata": {},
     "output_type": "display_data"
    },
    {
     "data": {
      "application/vnd.jupyter.widget-view+json": {
       "model_id": "0c4196a8608245e79b008d1feffa6414",
       "version_major": 2,
       "version_minor": 0
      },
      "text/plain": [
       "  0%|          | 0/4 [00:00<?, ?it/s]"
      ]
     },
     "metadata": {},
     "output_type": "display_data"
    },
    {
     "data": {
      "application/vnd.jupyter.widget-view+json": {
       "model_id": "c6c4e713a0434e0a9a14f7041e7ed0ef",
       "version_major": 2,
       "version_minor": 0
      },
      "text/plain": [
       "  0%|          | 0/4 [00:00<?, ?it/s]"
      ]
     },
     "metadata": {},
     "output_type": "display_data"
    },
    {
     "data": {
      "application/vnd.jupyter.widget-view+json": {
       "model_id": "71d86f4508cd42fc91e41d64ea8cdac8",
       "version_major": 2,
       "version_minor": 0
      },
      "text/plain": [
       "  0%|          | 0/4 [00:00<?, ?it/s]"
      ]
     },
     "metadata": {},
     "output_type": "display_data"
    },
    {
     "data": {
      "application/vnd.jupyter.widget-view+json": {
       "model_id": "bd7a3100789c40a2a83efe2c40d83269",
       "version_major": 2,
       "version_minor": 0
      },
      "text/plain": [
       "  0%|          | 0/4 [00:00<?, ?it/s]"
      ]
     },
     "metadata": {},
     "output_type": "display_data"
    },
    {
     "data": {
      "application/vnd.jupyter.widget-view+json": {
       "model_id": "e3d525e03c4f49dda74e2334ee20725e",
       "version_major": 2,
       "version_minor": 0
      },
      "text/plain": [
       "  0%|          | 0/4 [00:00<?, ?it/s]"
      ]
     },
     "metadata": {},
     "output_type": "display_data"
    },
    {
     "data": {
      "application/vnd.jupyter.widget-view+json": {
       "model_id": "0f2f109c43824e51b351bc29145f1096",
       "version_major": 2,
       "version_minor": 0
      },
      "text/plain": [
       "  0%|          | 0/4 [00:00<?, ?it/s]"
      ]
     },
     "metadata": {},
     "output_type": "display_data"
    },
    {
     "data": {
      "application/vnd.jupyter.widget-view+json": {
       "model_id": "1eb9e67d8fa9499b833e5ac163ce440a",
       "version_major": 2,
       "version_minor": 0
      },
      "text/plain": [
       "  0%|          | 0/4 [00:00<?, ?it/s]"
      ]
     },
     "metadata": {},
     "output_type": "display_data"
    },
    {
     "data": {
      "application/vnd.jupyter.widget-view+json": {
       "model_id": "05a9927cbf7f4d08a290189ba13e20c8",
       "version_major": 2,
       "version_minor": 0
      },
      "text/plain": [
       "  0%|          | 0/4 [00:00<?, ?it/s]"
      ]
     },
     "metadata": {},
     "output_type": "display_data"
    },
    {
     "data": {
      "application/vnd.jupyter.widget-view+json": {
       "model_id": "2afdf4535b8c458987401e7c20d6eb44",
       "version_major": 2,
       "version_minor": 0
      },
      "text/plain": [
       "  0%|          | 0/4 [00:00<?, ?it/s]"
      ]
     },
     "metadata": {},
     "output_type": "display_data"
    },
    {
     "data": {
      "application/vnd.jupyter.widget-view+json": {
       "model_id": "35605ade77364b69b6ea9a62adbf1bba",
       "version_major": 2,
       "version_minor": 0
      },
      "text/plain": [
       "  0%|          | 0/4 [00:00<?, ?it/s]"
      ]
     },
     "metadata": {},
     "output_type": "display_data"
    },
    {
     "data": {
      "application/vnd.jupyter.widget-view+json": {
       "model_id": "78b777b685d14d90b2c559688942e13c",
       "version_major": 2,
       "version_minor": 0
      },
      "text/plain": [
       "  0%|          | 0/4 [00:00<?, ?it/s]"
      ]
     },
     "metadata": {},
     "output_type": "display_data"
    },
    {
     "data": {
      "application/vnd.jupyter.widget-view+json": {
       "model_id": "65424e6d318b4d98ac21b403b0df7a59",
       "version_major": 2,
       "version_minor": 0
      },
      "text/plain": [
       "  0%|          | 0/4 [00:00<?, ?it/s]"
      ]
     },
     "metadata": {},
     "output_type": "display_data"
    },
    {
     "data": {
      "application/vnd.jupyter.widget-view+json": {
       "model_id": "b2c1ccf17b4f4207a262de4bd13e3fb5",
       "version_major": 2,
       "version_minor": 0
      },
      "text/plain": [
       "  0%|          | 0/4 [00:00<?, ?it/s]"
      ]
     },
     "metadata": {},
     "output_type": "display_data"
    },
    {
     "data": {
      "application/vnd.jupyter.widget-view+json": {
       "model_id": "4963b1f506ff4cacb4e64b0517d6e53d",
       "version_major": 2,
       "version_minor": 0
      },
      "text/plain": [
       "  0%|          | 0/4 [00:00<?, ?it/s]"
      ]
     },
     "metadata": {},
     "output_type": "display_data"
    },
    {
     "data": {
      "application/vnd.jupyter.widget-view+json": {
       "model_id": "da18e524a62e4176bf9c7a0c4b11119a",
       "version_major": 2,
       "version_minor": 0
      },
      "text/plain": [
       "  0%|          | 0/4 [00:00<?, ?it/s]"
      ]
     },
     "metadata": {},
     "output_type": "display_data"
    },
    {
     "data": {
      "application/vnd.jupyter.widget-view+json": {
       "model_id": "c6d859b205a8474687a0046152304183",
       "version_major": 2,
       "version_minor": 0
      },
      "text/plain": [
       "  0%|          | 0/4 [00:00<?, ?it/s]"
      ]
     },
     "metadata": {},
     "output_type": "display_data"
    },
    {
     "data": {
      "application/vnd.jupyter.widget-view+json": {
       "model_id": "669cf45d5f4f415db8b215b7a144785e",
       "version_major": 2,
       "version_minor": 0
      },
      "text/plain": [
       "  0%|          | 0/4 [00:00<?, ?it/s]"
      ]
     },
     "metadata": {},
     "output_type": "display_data"
    },
    {
     "data": {
      "application/vnd.jupyter.widget-view+json": {
       "model_id": "05c41f6e757d4724bbf75c3bd90026bb",
       "version_major": 2,
       "version_minor": 0
      },
      "text/plain": [
       "  0%|          | 0/4 [00:00<?, ?it/s]"
      ]
     },
     "metadata": {},
     "output_type": "display_data"
    },
    {
     "data": {
      "application/vnd.jupyter.widget-view+json": {
       "model_id": "cfd23f2f79f8422d9a3a38e5984e3b44",
       "version_major": 2,
       "version_minor": 0
      },
      "text/plain": [
       "  0%|          | 0/4 [00:00<?, ?it/s]"
      ]
     },
     "metadata": {},
     "output_type": "display_data"
    },
    {
     "data": {
      "application/vnd.jupyter.widget-view+json": {
       "model_id": "efa4fc2a6db94881938b31062daef551",
       "version_major": 2,
       "version_minor": 0
      },
      "text/plain": [
       "  0%|          | 0/4 [00:00<?, ?it/s]"
      ]
     },
     "metadata": {},
     "output_type": "display_data"
    },
    {
     "data": {
      "application/vnd.jupyter.widget-view+json": {
       "model_id": "0708e8c35bf44ef68288d22165c81b05",
       "version_major": 2,
       "version_minor": 0
      },
      "text/plain": [
       "  0%|          | 0/4 [00:00<?, ?it/s]"
      ]
     },
     "metadata": {},
     "output_type": "display_data"
    },
    {
     "data": {
      "application/vnd.jupyter.widget-view+json": {
       "model_id": "c58cafb795864b6684205c889b79fb39",
       "version_major": 2,
       "version_minor": 0
      },
      "text/plain": [
       "  0%|          | 0/4 [00:00<?, ?it/s]"
      ]
     },
     "metadata": {},
     "output_type": "display_data"
    },
    {
     "data": {
      "application/vnd.jupyter.widget-view+json": {
       "model_id": "4a268040ac514bc9a6df5b47a20f10be",
       "version_major": 2,
       "version_minor": 0
      },
      "text/plain": [
       "  0%|          | 0/4 [00:00<?, ?it/s]"
      ]
     },
     "metadata": {},
     "output_type": "display_data"
    },
    {
     "data": {
      "application/vnd.jupyter.widget-view+json": {
       "model_id": "f13f676ffccd4723be2f9b1d698564be",
       "version_major": 2,
       "version_minor": 0
      },
      "text/plain": [
       "  0%|          | 0/4 [00:00<?, ?it/s]"
      ]
     },
     "metadata": {},
     "output_type": "display_data"
    },
    {
     "data": {
      "application/vnd.jupyter.widget-view+json": {
       "model_id": "ae7df3121f144a529c4309a0ef3292ac",
       "version_major": 2,
       "version_minor": 0
      },
      "text/plain": [
       "  0%|          | 0/4 [00:00<?, ?it/s]"
      ]
     },
     "metadata": {},
     "output_type": "display_data"
    },
    {
     "data": {
      "application/vnd.jupyter.widget-view+json": {
       "model_id": "a66acf2b69da4c6595d10e0d8da236c2",
       "version_major": 2,
       "version_minor": 0
      },
      "text/plain": [
       "  0%|          | 0/4 [00:00<?, ?it/s]"
      ]
     },
     "metadata": {},
     "output_type": "display_data"
    },
    {
     "data": {
      "application/vnd.jupyter.widget-view+json": {
       "model_id": "6e8de2a54c7c4d3b80597bc3c97e897f",
       "version_major": 2,
       "version_minor": 0
      },
      "text/plain": [
       "  0%|          | 0/4 [00:00<?, ?it/s]"
      ]
     },
     "metadata": {},
     "output_type": "display_data"
    },
    {
     "data": {
      "application/vnd.jupyter.widget-view+json": {
       "model_id": "926aff620f2149d7a4023d6b8ac3b30c",
       "version_major": 2,
       "version_minor": 0
      },
      "text/plain": [
       "  0%|          | 0/4 [00:00<?, ?it/s]"
      ]
     },
     "metadata": {},
     "output_type": "display_data"
    },
    {
     "data": {
      "application/vnd.jupyter.widget-view+json": {
       "model_id": "f915f3a1ace64005b52aa96e07f2b023",
       "version_major": 2,
       "version_minor": 0
      },
      "text/plain": [
       "  0%|          | 0/4 [00:00<?, ?it/s]"
      ]
     },
     "metadata": {},
     "output_type": "display_data"
    },
    {
     "data": {
      "application/vnd.jupyter.widget-view+json": {
       "model_id": "55d2e88248954e778f7c3e4fd37c1c9d",
       "version_major": 2,
       "version_minor": 0
      },
      "text/plain": [
       "  0%|          | 0/4 [00:00<?, ?it/s]"
      ]
     },
     "metadata": {},
     "output_type": "display_data"
    },
    {
     "data": {
      "application/vnd.jupyter.widget-view+json": {
       "model_id": "6b580ced8eb34ae791bbe0515c305eba",
       "version_major": 2,
       "version_minor": 0
      },
      "text/plain": [
       "  0%|          | 0/4 [00:00<?, ?it/s]"
      ]
     },
     "metadata": {},
     "output_type": "display_data"
    },
    {
     "data": {
      "application/vnd.jupyter.widget-view+json": {
       "model_id": "815ef76b909d4e11b04151daffdb15a5",
       "version_major": 2,
       "version_minor": 0
      },
      "text/plain": [
       "  0%|          | 0/4 [00:00<?, ?it/s]"
      ]
     },
     "metadata": {},
     "output_type": "display_data"
    },
    {
     "data": {
      "application/vnd.jupyter.widget-view+json": {
       "model_id": "af34e509dc3e4b0995ed3d04d0187a82",
       "version_major": 2,
       "version_minor": 0
      },
      "text/plain": [
       "  0%|          | 0/4 [00:00<?, ?it/s]"
      ]
     },
     "metadata": {},
     "output_type": "display_data"
    },
    {
     "data": {
      "application/vnd.jupyter.widget-view+json": {
       "model_id": "f1ee7cd8e0aa430682dfb40609c4f538",
       "version_major": 2,
       "version_minor": 0
      },
      "text/plain": [
       "  0%|          | 0/4 [00:00<?, ?it/s]"
      ]
     },
     "metadata": {},
     "output_type": "display_data"
    },
    {
     "data": {
      "application/vnd.jupyter.widget-view+json": {
       "model_id": "40bef5a936c24044a7920f5a79bc3b8f",
       "version_major": 2,
       "version_minor": 0
      },
      "text/plain": [
       "  0%|          | 0/4 [00:00<?, ?it/s]"
      ]
     },
     "metadata": {},
     "output_type": "display_data"
    },
    {
     "data": {
      "application/vnd.jupyter.widget-view+json": {
       "model_id": "c063cca5e8ca472caa30c5f01bed7246",
       "version_major": 2,
       "version_minor": 0
      },
      "text/plain": [
       "  0%|          | 0/4 [00:00<?, ?it/s]"
      ]
     },
     "metadata": {},
     "output_type": "display_data"
    },
    {
     "data": {
      "application/vnd.jupyter.widget-view+json": {
       "model_id": "98dbbd5493d04282900b42d34c89db93",
       "version_major": 2,
       "version_minor": 0
      },
      "text/plain": [
       "  0%|          | 0/4 [00:00<?, ?it/s]"
      ]
     },
     "metadata": {},
     "output_type": "display_data"
    },
    {
     "data": {
      "application/vnd.jupyter.widget-view+json": {
       "model_id": "ef10391672ed4cb98551022610b45945",
       "version_major": 2,
       "version_minor": 0
      },
      "text/plain": [
       "  0%|          | 0/4 [00:00<?, ?it/s]"
      ]
     },
     "metadata": {},
     "output_type": "display_data"
    },
    {
     "data": {
      "application/vnd.jupyter.widget-view+json": {
       "model_id": "98b16df55e1e42008c21066c1057aa4b",
       "version_major": 2,
       "version_minor": 0
      },
      "text/plain": [
       "  0%|          | 0/4 [00:00<?, ?it/s]"
      ]
     },
     "metadata": {},
     "output_type": "display_data"
    },
    {
     "data": {
      "application/vnd.jupyter.widget-view+json": {
       "model_id": "087182ef6d4747cf9d0c546ab130ad7d",
       "version_major": 2,
       "version_minor": 0
      },
      "text/plain": [
       "  0%|          | 0/4 [00:00<?, ?it/s]"
      ]
     },
     "metadata": {},
     "output_type": "display_data"
    },
    {
     "data": {
      "application/vnd.jupyter.widget-view+json": {
       "model_id": "524a43649ae7440bad7c313a7eab90f9",
       "version_major": 2,
       "version_minor": 0
      },
      "text/plain": [
       "  0%|          | 0/4 [00:00<?, ?it/s]"
      ]
     },
     "metadata": {},
     "output_type": "display_data"
    },
    {
     "data": {
      "application/vnd.jupyter.widget-view+json": {
       "model_id": "adfff693a2d6417d8729834d8d1b08e0",
       "version_major": 2,
       "version_minor": 0
      },
      "text/plain": [
       "  0%|          | 0/4 [00:00<?, ?it/s]"
      ]
     },
     "metadata": {},
     "output_type": "display_data"
    },
    {
     "data": {
      "application/vnd.jupyter.widget-view+json": {
       "model_id": "e3e68a98d0f945f09589e39657d4cc0f",
       "version_major": 2,
       "version_minor": 0
      },
      "text/plain": [
       "  0%|          | 0/4 [00:00<?, ?it/s]"
      ]
     },
     "metadata": {},
     "output_type": "display_data"
    },
    {
     "data": {
      "application/vnd.jupyter.widget-view+json": {
       "model_id": "27b5f3f8fee94f22a8a23c6b6cf71246",
       "version_major": 2,
       "version_minor": 0
      },
      "text/plain": [
       "  0%|          | 0/4 [00:00<?, ?it/s]"
      ]
     },
     "metadata": {},
     "output_type": "display_data"
    },
    {
     "data": {
      "application/vnd.jupyter.widget-view+json": {
       "model_id": "74b6d9a963b94161b2c0498040730c75",
       "version_major": 2,
       "version_minor": 0
      },
      "text/plain": [
       "  0%|          | 0/4 [00:00<?, ?it/s]"
      ]
     },
     "metadata": {},
     "output_type": "display_data"
    },
    {
     "data": {
      "application/vnd.jupyter.widget-view+json": {
       "model_id": "03fbb8b062804a47829908c7c41ef792",
       "version_major": 2,
       "version_minor": 0
      },
      "text/plain": [
       "  0%|          | 0/4 [00:00<?, ?it/s]"
      ]
     },
     "metadata": {},
     "output_type": "display_data"
    },
    {
     "data": {
      "application/vnd.jupyter.widget-view+json": {
       "model_id": "837b9db158c54893ada476c6b02c7946",
       "version_major": 2,
       "version_minor": 0
      },
      "text/plain": [
       "  0%|          | 0/4 [00:00<?, ?it/s]"
      ]
     },
     "metadata": {},
     "output_type": "display_data"
    },
    {
     "data": {
      "application/vnd.jupyter.widget-view+json": {
       "model_id": "c6124540a3ba474fa0a6689990deed80",
       "version_major": 2,
       "version_minor": 0
      },
      "text/plain": [
       "  0%|          | 0/4 [00:00<?, ?it/s]"
      ]
     },
     "metadata": {},
     "output_type": "display_data"
    },
    {
     "data": {
      "application/vnd.jupyter.widget-view+json": {
       "model_id": "1906c561c4a84b74ac48c7c74017c91b",
       "version_major": 2,
       "version_minor": 0
      },
      "text/plain": [
       "  0%|          | 0/4 [00:00<?, ?it/s]"
      ]
     },
     "metadata": {},
     "output_type": "display_data"
    },
    {
     "data": {
      "application/vnd.jupyter.widget-view+json": {
       "model_id": "2cf7cc843425418fbcf9ce7eef7ba8d2",
       "version_major": 2,
       "version_minor": 0
      },
      "text/plain": [
       "  0%|          | 0/4 [00:00<?, ?it/s]"
      ]
     },
     "metadata": {},
     "output_type": "display_data"
    },
    {
     "data": {
      "application/vnd.jupyter.widget-view+json": {
       "model_id": "a4e0a8535db546feb6cbf406e5c5927c",
       "version_major": 2,
       "version_minor": 0
      },
      "text/plain": [
       "  0%|          | 0/4 [00:00<?, ?it/s]"
      ]
     },
     "metadata": {},
     "output_type": "display_data"
    },
    {
     "data": {
      "application/vnd.jupyter.widget-view+json": {
       "model_id": "90858eba03364bcdb40cab9fca055f4a",
       "version_major": 2,
       "version_minor": 0
      },
      "text/plain": [
       "  0%|          | 0/4 [00:00<?, ?it/s]"
      ]
     },
     "metadata": {},
     "output_type": "display_data"
    },
    {
     "data": {
      "application/vnd.jupyter.widget-view+json": {
       "model_id": "497e07e424e74db5a2ab8bc8d7fca062",
       "version_major": 2,
       "version_minor": 0
      },
      "text/plain": [
       "  0%|          | 0/4 [00:00<?, ?it/s]"
      ]
     },
     "metadata": {},
     "output_type": "display_data"
    },
    {
     "data": {
      "application/vnd.jupyter.widget-view+json": {
       "model_id": "2e0c8ada8dcb4d1591ef39c67d36ade0",
       "version_major": 2,
       "version_minor": 0
      },
      "text/plain": [
       "  0%|          | 0/4 [00:00<?, ?it/s]"
      ]
     },
     "metadata": {},
     "output_type": "display_data"
    },
    {
     "data": {
      "application/vnd.jupyter.widget-view+json": {
       "model_id": "41d82804684e41f0a80ff3b7bb08376d",
       "version_major": 2,
       "version_minor": 0
      },
      "text/plain": [
       "  0%|          | 0/4 [00:00<?, ?it/s]"
      ]
     },
     "metadata": {},
     "output_type": "display_data"
    },
    {
     "data": {
      "application/vnd.jupyter.widget-view+json": {
       "model_id": "55b6930b7bf14efa97ed159387067a8a",
       "version_major": 2,
       "version_minor": 0
      },
      "text/plain": [
       "  0%|          | 0/4 [00:00<?, ?it/s]"
      ]
     },
     "metadata": {},
     "output_type": "display_data"
    },
    {
     "data": {
      "application/vnd.jupyter.widget-view+json": {
       "model_id": "1453a2febacc464785bb3407edf47815",
       "version_major": 2,
       "version_minor": 0
      },
      "text/plain": [
       "  0%|          | 0/4 [00:00<?, ?it/s]"
      ]
     },
     "metadata": {},
     "output_type": "display_data"
    },
    {
     "data": {
      "application/vnd.jupyter.widget-view+json": {
       "model_id": "a3ac3a37a86b4622bc51991408e566d0",
       "version_major": 2,
       "version_minor": 0
      },
      "text/plain": [
       "  0%|          | 0/4 [00:00<?, ?it/s]"
      ]
     },
     "metadata": {},
     "output_type": "display_data"
    },
    {
     "data": {
      "application/vnd.jupyter.widget-view+json": {
       "model_id": "73347e85657043f090c742718ee93e0a",
       "version_major": 2,
       "version_minor": 0
      },
      "text/plain": [
       "  0%|          | 0/4 [00:00<?, ?it/s]"
      ]
     },
     "metadata": {},
     "output_type": "display_data"
    },
    {
     "data": {
      "application/vnd.jupyter.widget-view+json": {
       "model_id": "7b241a3369c748fc8786bb03c107c3db",
       "version_major": 2,
       "version_minor": 0
      },
      "text/plain": [
       "  0%|          | 0/4 [00:00<?, ?it/s]"
      ]
     },
     "metadata": {},
     "output_type": "display_data"
    },
    {
     "data": {
      "application/vnd.jupyter.widget-view+json": {
       "model_id": "e3a2acfbe4784637940b6ef6d6ca5df3",
       "version_major": 2,
       "version_minor": 0
      },
      "text/plain": [
       "  0%|          | 0/4 [00:00<?, ?it/s]"
      ]
     },
     "metadata": {},
     "output_type": "display_data"
    },
    {
     "data": {
      "application/vnd.jupyter.widget-view+json": {
       "model_id": "520091ee1b6f470c846260c1b8a0dee2",
       "version_major": 2,
       "version_minor": 0
      },
      "text/plain": [
       "  0%|          | 0/4 [00:00<?, ?it/s]"
      ]
     },
     "metadata": {},
     "output_type": "display_data"
    },
    {
     "data": {
      "application/vnd.jupyter.widget-view+json": {
       "model_id": "2979ada2b714415d9696d4f80b0c2beb",
       "version_major": 2,
       "version_minor": 0
      },
      "text/plain": [
       "  0%|          | 0/4 [00:00<?, ?it/s]"
      ]
     },
     "metadata": {},
     "output_type": "display_data"
    },
    {
     "data": {
      "application/vnd.jupyter.widget-view+json": {
       "model_id": "501f925c5ac24d8690a8f18a832951e0",
       "version_major": 2,
       "version_minor": 0
      },
      "text/plain": [
       "  0%|          | 0/4 [00:00<?, ?it/s]"
      ]
     },
     "metadata": {},
     "output_type": "display_data"
    },
    {
     "data": {
      "application/vnd.jupyter.widget-view+json": {
       "model_id": "844a8b586aab428cb53a64b5fe6985d8",
       "version_major": 2,
       "version_minor": 0
      },
      "text/plain": [
       "  0%|          | 0/4 [00:00<?, ?it/s]"
      ]
     },
     "metadata": {},
     "output_type": "display_data"
    },
    {
     "data": {
      "application/vnd.jupyter.widget-view+json": {
       "model_id": "92949abe55c94903932d7b1476313e3c",
       "version_major": 2,
       "version_minor": 0
      },
      "text/plain": [
       "  0%|          | 0/4 [00:00<?, ?it/s]"
      ]
     },
     "metadata": {},
     "output_type": "display_data"
    },
    {
     "data": {
      "application/vnd.jupyter.widget-view+json": {
       "model_id": "b229604f29854a5b93cc54165cb8e89c",
       "version_major": 2,
       "version_minor": 0
      },
      "text/plain": [
       "  0%|          | 0/4 [00:00<?, ?it/s]"
      ]
     },
     "metadata": {},
     "output_type": "display_data"
    },
    {
     "data": {
      "application/vnd.jupyter.widget-view+json": {
       "model_id": "43afe434d7504f229f398602fd9d5b52",
       "version_major": 2,
       "version_minor": 0
      },
      "text/plain": [
       "  0%|          | 0/4 [00:00<?, ?it/s]"
      ]
     },
     "metadata": {},
     "output_type": "display_data"
    },
    {
     "data": {
      "application/vnd.jupyter.widget-view+json": {
       "model_id": "f0730cd5aec44dd1b80d6918706ef24a",
       "version_major": 2,
       "version_minor": 0
      },
      "text/plain": [
       "  0%|          | 0/4 [00:00<?, ?it/s]"
      ]
     },
     "metadata": {},
     "output_type": "display_data"
    },
    {
     "data": {
      "application/vnd.jupyter.widget-view+json": {
       "model_id": "e11367294e9f4594abf7fbf64dd09864",
       "version_major": 2,
       "version_minor": 0
      },
      "text/plain": [
       "  0%|          | 0/4 [00:00<?, ?it/s]"
      ]
     },
     "metadata": {},
     "output_type": "display_data"
    },
    {
     "data": {
      "application/vnd.jupyter.widget-view+json": {
       "model_id": "1c3e52b4c6574ebfb7720a93c81c91e6",
       "version_major": 2,
       "version_minor": 0
      },
      "text/plain": [
       "  0%|          | 0/4 [00:00<?, ?it/s]"
      ]
     },
     "metadata": {},
     "output_type": "display_data"
    },
    {
     "data": {
      "application/vnd.jupyter.widget-view+json": {
       "model_id": "78897f5c9476433ba53ef6c69ccc623e",
       "version_major": 2,
       "version_minor": 0
      },
      "text/plain": [
       "  0%|          | 0/4 [00:00<?, ?it/s]"
      ]
     },
     "metadata": {},
     "output_type": "display_data"
    },
    {
     "data": {
      "application/vnd.plotly.v1+json": {
       "config": {
        "plotlyServerURL": "https://plot.ly"
       },
       "data": [
        {
         "line": {
          "color": "rgb(141,211,199)"
         },
         "mode": "lines+markers",
         "name": "llama",
         "type": "scatter",
         "x": [
          "Sample 0",
          "Sample 1",
          "Sample 2",
          "Sample 3",
          "Sample 4",
          "Sample 5",
          "Sample 6",
          "Sample 7",
          "Sample 8",
          "Sample 9",
          "Sample 10",
          "Sample 11",
          "Sample 12",
          "Sample 13",
          "Sample 14",
          "Sample 15",
          "Sample 16",
          "Sample 17",
          "Sample 18",
          "Sample 19",
          "Sample 20",
          "Sample 21",
          "Sample 22",
          "Sample 23",
          "Sample 24",
          "Sample 25",
          "Sample 26",
          "Sample 27",
          "Sample 28",
          "Sample 29",
          "Sample 30",
          "Sample 31",
          "Sample 32",
          "Sample 33",
          "Sample 34",
          "Sample 35",
          "Sample 36",
          "Sample 37",
          "Sample 38",
          "Sample 39",
          "Sample 40",
          "Sample 41",
          "Sample 42",
          "Sample 43",
          "Sample 44",
          "Sample 45",
          "Sample 46",
          "Sample 47",
          "Sample 48",
          "Sample 49",
          "Sample 50",
          "Sample 51",
          "Sample 52",
          "Sample 53",
          "Sample 54",
          "Sample 55",
          "Sample 56",
          "Sample 57",
          "Sample 58",
          "Sample 59",
          "Sample 60",
          "Sample 61",
          "Sample 62",
          "Sample 63",
          "Sample 64",
          "Sample 65",
          "Sample 66",
          "Sample 67",
          "Sample 68",
          "Sample 69",
          "Sample 70",
          "Sample 71",
          "Sample 72",
          "Sample 73",
          "Sample 74",
          "Sample 75",
          "Sample 76",
          "Sample 77",
          "Sample 78",
          "Sample 79",
          "Sample 80",
          "Sample 81",
          "Sample 82",
          "Sample 83",
          "Sample 84",
          "Sample 85",
          "Sample 86",
          "Sample 87",
          "Sample 88",
          "Sample 89",
          "Sample 90",
          "Sample 91",
          "Sample 92",
          "Sample 93",
          "Sample 94",
          "Sample 95",
          "Sample 96",
          "Sample 97",
          "Sample 98",
          "Sample 99"
         ],
         "xaxis": "x",
         "y": [
          1033,
          114.19,
          444.19,
          213.55,
          1033,
          81.35,
          1033,
          341.19,
          54.19,
          283.55,
          173.19,
          123.19,
          144.19,
          444.93,
          246.55,
          103.19,
          123.19,
          444.19,
          1233,
          246.19,
          1033,
          143.19,
          1033,
          155.93,
          246.19,
          34.19,
          1033,
          341.19,
          246.59,
          1033,
          1033,
          1033,
          246.19,
          246.19,
          246.19,
          555.93,
          444.93,
          1036,
          444.93,
          1233,
          123.93,
          206.93,
          246.19,
          34.59,
          1234,
          1034,
          143.19,
          341.93,
          373.19,
          1234,
          143.19,
          173.19,
          1033,
          1033,
          69.93,
          103.19,
          1033,
          1035,
          1034,
          434.93,
          444.19,
          234.19,
          341.93,
          1033,
          246.19,
          341.93,
          555.93,
          246.19,
          104.19,
          246.19,
          246.19,
          93.19,
          1035,
          34.93,
          1043,
          173.19,
          44.19,
          103.35,
          1033,
          246.19,
          1033,
          341.19,
          173.19,
          246.19,
          114.19,
          1033,
          246.93,
          555.93,
          246.19,
          134.19,
          123.55,
          123.19,
          104.19,
          555.19,
          143.19,
          93.35,
          1031,
          143.19,
          1433,
          143.19
         ],
         "yaxis": "y"
        },
        {
         "line": {
          "color": "black",
          "dash": "dash"
         },
         "mode": "lines+markers",
         "name": "Gold",
         "type": "scatter",
         "x": [
          "Sample 0",
          "Sample 1",
          "Sample 2",
          "Sample 3",
          "Sample 4",
          "Sample 5",
          "Sample 6",
          "Sample 7",
          "Sample 8",
          "Sample 9",
          "Sample 10",
          "Sample 11",
          "Sample 12",
          "Sample 13",
          "Sample 14",
          "Sample 15",
          "Sample 16",
          "Sample 17",
          "Sample 18",
          "Sample 19",
          "Sample 20",
          "Sample 21",
          "Sample 22",
          "Sample 23",
          "Sample 24",
          "Sample 25",
          "Sample 26",
          "Sample 27",
          "Sample 28",
          "Sample 29",
          "Sample 30",
          "Sample 31",
          "Sample 32",
          "Sample 33",
          "Sample 34",
          "Sample 35",
          "Sample 36",
          "Sample 37",
          "Sample 38",
          "Sample 39",
          "Sample 40",
          "Sample 41",
          "Sample 42",
          "Sample 43",
          "Sample 44",
          "Sample 45",
          "Sample 46",
          "Sample 47",
          "Sample 48",
          "Sample 49",
          "Sample 50",
          "Sample 51",
          "Sample 52",
          "Sample 53",
          "Sample 54",
          "Sample 55",
          "Sample 56",
          "Sample 57",
          "Sample 58",
          "Sample 59",
          "Sample 60",
          "Sample 61",
          "Sample 62",
          "Sample 63",
          "Sample 64",
          "Sample 65",
          "Sample 66",
          "Sample 67",
          "Sample 68",
          "Sample 69",
          "Sample 70",
          "Sample 71",
          "Sample 72",
          "Sample 73",
          "Sample 74",
          "Sample 75",
          "Sample 76",
          "Sample 77",
          "Sample 78",
          "Sample 79",
          "Sample 80",
          "Sample 81",
          "Sample 82",
          "Sample 83",
          "Sample 84",
          "Sample 85",
          "Sample 86",
          "Sample 87",
          "Sample 88",
          "Sample 89",
          "Sample 90",
          "Sample 91",
          "Sample 92",
          "Sample 93",
          "Sample 94",
          "Sample 95",
          "Sample 96",
          "Sample 97",
          "Sample 98",
          "Sample 99"
         ],
         "xaxis": "x",
         "y": [
          952.17,
          146.8,
          434.54,
          180.52,
          516.99,
          88.66,
          1158.02,
          130.88,
          20.57,
          115.4,
          315.39,
          116.73,
          210.54,
          967.5,
          81.76,
          114.71,
          120.35,
          837.27,
          1187.24,
          422.17,
          1206.54,
          195.2,
          1007.3,
          121.86,
          99.43,
          38.9,
          1000.18,
          555.98,
          217.89,
          863.29,
          832.03,
          1670.3,
          72.07,
          338.11,
          393.56,
          574.09,
          503.25,
          960.33,
          629.38,
          1337.17,
          138.24,
          114.53,
          323.87,
          45.73,
          1251.47,
          965.32,
          248.38,
          386.95,
          572.52,
          559.48,
          158.19,
          270.53,
          462.88,
          1413.16,
          87.54,
          929.85,
          1392.6,
          873.01,
          776.17,
          917.19,
          410.46,
          400.8,
          519.01,
          871.45,
          267.18,
          576.85,
          670.53,
          348.42,
          227.75,
          144.23,
          210.8,
          132.16,
          751.94,
          32.71,
          676.49,
          52.45,
          106.68,
          1244.28,
          688.56,
          696.93,
          1011.15,
          112.31,
          109.65,
          408.61,
          135.23,
          1488.87,
          155.34,
          915.23,
          81.01,
          131.91,
          378.78,
          176.81,
          177.71,
          542.31,
          78.36,
          46,
          1221.6,
          147.87,
          1634.67,
          184.49
         ],
         "yaxis": "y"
        },
        {
         "line": {
          "color": "rgb(255,255,179)"
         },
         "mode": "lines+markers",
         "name": "linear_regression",
         "type": "scatter",
         "x": [
          "Sample 0",
          "Sample 1",
          "Sample 2",
          "Sample 3",
          "Sample 4",
          "Sample 5",
          "Sample 6",
          "Sample 7",
          "Sample 8",
          "Sample 9",
          "Sample 10",
          "Sample 11",
          "Sample 12",
          "Sample 13",
          "Sample 14",
          "Sample 15",
          "Sample 16",
          "Sample 17",
          "Sample 18",
          "Sample 19",
          "Sample 20",
          "Sample 21",
          "Sample 22",
          "Sample 23",
          "Sample 24",
          "Sample 25",
          "Sample 26",
          "Sample 27",
          "Sample 28",
          "Sample 29",
          "Sample 30",
          "Sample 31",
          "Sample 32",
          "Sample 33",
          "Sample 34",
          "Sample 35",
          "Sample 36",
          "Sample 37",
          "Sample 38",
          "Sample 39",
          "Sample 40",
          "Sample 41",
          "Sample 42",
          "Sample 43",
          "Sample 44",
          "Sample 45",
          "Sample 46",
          "Sample 47",
          "Sample 48",
          "Sample 49",
          "Sample 50",
          "Sample 51",
          "Sample 52",
          "Sample 53",
          "Sample 54",
          "Sample 55",
          "Sample 56",
          "Sample 57",
          "Sample 58",
          "Sample 59",
          "Sample 60",
          "Sample 61",
          "Sample 62",
          "Sample 63",
          "Sample 64",
          "Sample 65",
          "Sample 66",
          "Sample 67",
          "Sample 68",
          "Sample 69",
          "Sample 70",
          "Sample 71",
          "Sample 72",
          "Sample 73",
          "Sample 74",
          "Sample 75",
          "Sample 76",
          "Sample 77",
          "Sample 78",
          "Sample 79",
          "Sample 80",
          "Sample 81",
          "Sample 82",
          "Sample 83",
          "Sample 84",
          "Sample 85",
          "Sample 86",
          "Sample 87",
          "Sample 88",
          "Sample 89",
          "Sample 90",
          "Sample 91",
          "Sample 92",
          "Sample 93",
          "Sample 94",
          "Sample 95",
          "Sample 96",
          "Sample 97",
          "Sample 98",
          "Sample 99"
         ],
         "xaxis": "x",
         "y": [
          854.8651321602488,
          195.3513204842639,
          395.62426665187246,
          178.71668337833773,
          574.6307789050422,
          -79.39015826482517,
          965.6361648056403,
          102.73845148607359,
          -253.55641892004473,
          32.95234738781318,
          295.7825743486977,
          195.17517623541323,
          213.99901377846743,
          852.6032984219853,
          -86.88150167640708,
          489.9215049003784,
          -38.4074094015005,
          849.4724773083155,
          1017.0223974088626,
          626.7417948402726,
          1116.4453425049694,
          145.12870710588942,
          903.4814767265696,
          104.42181582950093,
          -187.5662091699238,
          -280.41965480625765,
          902.9205966216126,
          799.8852307651996,
          166.00297886884732,
          792.6872935585588,
          804.3370358159647,
          1196.7971769103024,
          152.97601506792802,
          369.7483927805911,
          629.7355526635988,
          572.8689625645779,
          472.8449525146253,
          1000.4371273598059,
          875.5777854089523,
          1120.234278405558,
          219.30685351772115,
          -6.132317980887308,
          362.69866177634896,
          -212.95949908824497,
          1074.039148451257,
          935.5628060150505,
          361.1493270613337,
          407.3916730379626,
          669.2367008918143,
          642.1380907703617,
          333.7785126189111,
          330.01275362321803,
          587.4739871297436,
          1207.8614735062995,
          -24.716122733736142,
          693.9285035997691,
          1170.8828958603058,
          784.6747787364595,
          803.8007305571548,
          925.5954227890957,
          451.1430596816568,
          434.94619849823704,
          574.697810955359,
          843.9225642152459,
          269.1864767290358,
          592.1784502152366,
          606.3417390445225,
          400.0442236943361,
          475.06492786947837,
          109.82989836102655,
          151.3162268543524,
          365.9265904666975,
          728.9051748765453,
          -16.825159030641714,
          670.3555644570241,
          -252.4951127862422,
          133.69493644382942,
          1177.1605721800308,
          740.4342686332886,
          685.6072599650315,
          925.6329907862473,
          390.5358613703418,
          0.20322764690831718,
          631.2600965180982,
          224.8717882061993,
          1036.6233815503151,
          143.17808174835898,
          940.1775937665657,
          -104.17698473083806,
          224.26114978515216,
          516.1422793854832,
          277.47948527537216,
          195.81445334578927,
          629.0703792771528,
          332.29993777791043,
          297.91002054075943,
          1072.3259273508359,
          83.6753502921353,
          1252.713777210653,
          293.2741113534104
         ],
         "yaxis": "y"
        },
        {
         "line": {
          "color": "rgb(190,186,218)"
         },
         "mode": "lines+markers",
         "name": "knn",
         "type": "scatter",
         "x": [
          "Sample 0",
          "Sample 1",
          "Sample 2",
          "Sample 3",
          "Sample 4",
          "Sample 5",
          "Sample 6",
          "Sample 7",
          "Sample 8",
          "Sample 9",
          "Sample 10",
          "Sample 11",
          "Sample 12",
          "Sample 13",
          "Sample 14",
          "Sample 15",
          "Sample 16",
          "Sample 17",
          "Sample 18",
          "Sample 19",
          "Sample 20",
          "Sample 21",
          "Sample 22",
          "Sample 23",
          "Sample 24",
          "Sample 25",
          "Sample 26",
          "Sample 27",
          "Sample 28",
          "Sample 29",
          "Sample 30",
          "Sample 31",
          "Sample 32",
          "Sample 33",
          "Sample 34",
          "Sample 35",
          "Sample 36",
          "Sample 37",
          "Sample 38",
          "Sample 39",
          "Sample 40",
          "Sample 41",
          "Sample 42",
          "Sample 43",
          "Sample 44",
          "Sample 45",
          "Sample 46",
          "Sample 47",
          "Sample 48",
          "Sample 49",
          "Sample 50",
          "Sample 51",
          "Sample 52",
          "Sample 53",
          "Sample 54",
          "Sample 55",
          "Sample 56",
          "Sample 57",
          "Sample 58",
          "Sample 59",
          "Sample 60",
          "Sample 61",
          "Sample 62",
          "Sample 63",
          "Sample 64",
          "Sample 65",
          "Sample 66",
          "Sample 67",
          "Sample 68",
          "Sample 69",
          "Sample 70",
          "Sample 71",
          "Sample 72",
          "Sample 73",
          "Sample 74",
          "Sample 75",
          "Sample 76",
          "Sample 77",
          "Sample 78",
          "Sample 79",
          "Sample 80",
          "Sample 81",
          "Sample 82",
          "Sample 83",
          "Sample 84",
          "Sample 85",
          "Sample 86",
          "Sample 87",
          "Sample 88",
          "Sample 89",
          "Sample 90",
          "Sample 91",
          "Sample 92",
          "Sample 93",
          "Sample 94",
          "Sample 95",
          "Sample 96",
          "Sample 97",
          "Sample 98",
          "Sample 99"
         ],
         "xaxis": "x",
         "y": [
          395.062,
          684.5840000000001,
          458.988,
          264.45799999999997,
          567.578,
          245.26999999999998,
          586.012,
          350.044,
          325.52,
          375.91999999999996,
          271.71999999999997,
          96.86399999999999,
          357.008,
          678.204,
          365.288,
          989.85,
          152.858,
          423.74800000000005,
          996.508,
          228.96800000000002,
          450.60999999999996,
          288.23400000000004,
          993.966,
          441,
          205.47199999999998,
          126.418,
          442.67600000000004,
          435.5780000000001,
          299.66399999999993,
          544.1099999999999,
          568.262,
          1218.972,
          392.594,
          224.23200000000003,
          109.67999999999999,
          633.17,
          357.198,
          1226.3100000000002,
          295.12399999999997,
          808.6660000000002,
          164.26,
          324.604,
          146.814,
          183.342,
          680.194,
          658.334,
          243.74200000000002,
          366.86,
          219.138,
          770.2780000000001,
          125.376,
          311.39799999999997,
          795.148,
          1095.9,
          204.698,
          337.53599999999994,
          804.642,
          807.1180000000002,
          790.23,
          635.652,
          301.534,
          206.56599999999997,
          734.5939999999999,
          1060.22,
          291.782,
          340.264,
          572.5040000000001,
          201.786,
          739.94,
          228.51799999999997,
          266.094,
          142.76799999999997,
          901.698,
          257.576,
          481.218,
          200.392,
          122.208,
          779.2439999999999,
          704.574,
          550.046,
          642.204,
          928.7740000000001,
          186.66000000000003,
          186.182,
          687.484,
          537.926,
          221.82399999999998,
          604.786,
          220.81799999999998,
          504.078,
          810.424,
          194.204,
          144.358,
          364.34999999999997,
          433.79599999999994,
          486.274,
          806.1719999999999,
          326.868,
          974.9979999999999,
          111.18800000000002
         ],
         "yaxis": "y"
        },
        {
         "line": {
          "color": "rgb(251,128,114)"
         },
         "mode": "lines+markers",
         "name": "random_forest",
         "type": "scatter",
         "x": [
          "Sample 0",
          "Sample 1",
          "Sample 2",
          "Sample 3",
          "Sample 4",
          "Sample 5",
          "Sample 6",
          "Sample 7",
          "Sample 8",
          "Sample 9",
          "Sample 10",
          "Sample 11",
          "Sample 12",
          "Sample 13",
          "Sample 14",
          "Sample 15",
          "Sample 16",
          "Sample 17",
          "Sample 18",
          "Sample 19",
          "Sample 20",
          "Sample 21",
          "Sample 22",
          "Sample 23",
          "Sample 24",
          "Sample 25",
          "Sample 26",
          "Sample 27",
          "Sample 28",
          "Sample 29",
          "Sample 30",
          "Sample 31",
          "Sample 32",
          "Sample 33",
          "Sample 34",
          "Sample 35",
          "Sample 36",
          "Sample 37",
          "Sample 38",
          "Sample 39",
          "Sample 40",
          "Sample 41",
          "Sample 42",
          "Sample 43",
          "Sample 44",
          "Sample 45",
          "Sample 46",
          "Sample 47",
          "Sample 48",
          "Sample 49",
          "Sample 50",
          "Sample 51",
          "Sample 52",
          "Sample 53",
          "Sample 54",
          "Sample 55",
          "Sample 56",
          "Sample 57",
          "Sample 58",
          "Sample 59",
          "Sample 60",
          "Sample 61",
          "Sample 62",
          "Sample 63",
          "Sample 64",
          "Sample 65",
          "Sample 66",
          "Sample 67",
          "Sample 68",
          "Sample 69",
          "Sample 70",
          "Sample 71",
          "Sample 72",
          "Sample 73",
          "Sample 74",
          "Sample 75",
          "Sample 76",
          "Sample 77",
          "Sample 78",
          "Sample 79",
          "Sample 80",
          "Sample 81",
          "Sample 82",
          "Sample 83",
          "Sample 84",
          "Sample 85",
          "Sample 86",
          "Sample 87",
          "Sample 88",
          "Sample 89",
          "Sample 90",
          "Sample 91",
          "Sample 92",
          "Sample 93",
          "Sample 94",
          "Sample 95",
          "Sample 96",
          "Sample 97",
          "Sample 98",
          "Sample 99"
         ],
         "xaxis": "x",
         "y": [
          769.4054168342998,
          113.27732924425248,
          490.04636230677875,
          180.9916758140389,
          540.308340646571,
          102.30794596523576,
          1025.143878029017,
          208.7535060212275,
          118.35665875277904,
          258.95571771510294,
          312.7814451027865,
          313.9697103039182,
          335.67480399247916,
          942.4136663076918,
          159.25925601414667,
          270.0166442198519,
          188.97784647531392,
          767.2259190327536,
          1042.2465131042052,
          315.47013565061184,
          876.3544584466738,
          175.64684065809703,
          963.4668719042908,
          143.27160185576392,
          254.18824435742607,
          99.70056915534639,
          759.893944329739,
          537.7328393037518,
          325.3651540113557,
          802.7452020396973,
          598.1382155709288,
          1410.6088148809517,
          166.79725393606145,
          297.46713697592884,
          287.04220682539676,
          559.7886842286115,
          398.68992652845714,
          704.960639834348,
          680.468619822024,
          1164.403712611903,
          264.2885453049555,
          175.95577895136697,
          358.1574831881672,
          99.71594684966313,
          1133.0920474278494,
          847.1312692397207,
          365.5830152380954,
          360.40100841661314,
          541.9545705857882,
          338.461620241311,
          265.50357495582625,
          238.73346353724696,
          498.7011032339885,
          1225.6877054761908,
          110.09725481794774,
          845.5905164092355,
          1182.7995300030523,
          730.4109367687216,
          743.2294700005738,
          998.224705830208,
          354.4382703703297,
          362.15822873253927,
          329.13857295164604,
          933.382396447278,
          191.4608011479946,
          468.963000235126,
          626.9088321103513,
          340.56393562844386,
          211.49953930452443,
          305.0058564638139,
          328.18968538799777,
          355.2280938487873,
          667.1276983262256,
          151.15556709961263,
          552.2015527748985,
          140.14227981036936,
          320.33154313714056,
          1058.8225154881231,
          569.218024430999,
          561.017994394848,
          913.1385305337884,
          642.2051488095238,
          141.15942257426855,
          340.3486244383797,
          168.38929569972257,
          945.5200368029192,
          230.60580358282056,
          835.5008779614529,
          106.84041906665556,
          129.10278169179344,
          409.86095274558784,
          366.5394278706075,
          246.67144497584545,
          359.3344952328538,
          157.16450750201693,
          247.9722433232945,
          1069.4089890265127,
          157.47982369529484,
          1200.819023391053,
          214.02212036890353
         ],
         "yaxis": "y"
        },
        {
         "line": {
          "color": "rgb(128,177,211)"
         },
         "mode": "lines+markers",
         "name": "average",
         "type": "scatter",
         "x": [
          "Sample 0",
          "Sample 1",
          "Sample 2",
          "Sample 3",
          "Sample 4",
          "Sample 5",
          "Sample 6",
          "Sample 7",
          "Sample 8",
          "Sample 9",
          "Sample 10",
          "Sample 11",
          "Sample 12",
          "Sample 13",
          "Sample 14",
          "Sample 15",
          "Sample 16",
          "Sample 17",
          "Sample 18",
          "Sample 19",
          "Sample 20",
          "Sample 21",
          "Sample 22",
          "Sample 23",
          "Sample 24",
          "Sample 25",
          "Sample 26",
          "Sample 27",
          "Sample 28",
          "Sample 29",
          "Sample 30",
          "Sample 31",
          "Sample 32",
          "Sample 33",
          "Sample 34",
          "Sample 35",
          "Sample 36",
          "Sample 37",
          "Sample 38",
          "Sample 39",
          "Sample 40",
          "Sample 41",
          "Sample 42",
          "Sample 43",
          "Sample 44",
          "Sample 45",
          "Sample 46",
          "Sample 47",
          "Sample 48",
          "Sample 49",
          "Sample 50",
          "Sample 51",
          "Sample 52",
          "Sample 53",
          "Sample 54",
          "Sample 55",
          "Sample 56",
          "Sample 57",
          "Sample 58",
          "Sample 59",
          "Sample 60",
          "Sample 61",
          "Sample 62",
          "Sample 63",
          "Sample 64",
          "Sample 65",
          "Sample 66",
          "Sample 67",
          "Sample 68",
          "Sample 69",
          "Sample 70",
          "Sample 71",
          "Sample 72",
          "Sample 73",
          "Sample 74",
          "Sample 75",
          "Sample 76",
          "Sample 77",
          "Sample 78",
          "Sample 79",
          "Sample 80",
          "Sample 81",
          "Sample 82",
          "Sample 83",
          "Sample 84",
          "Sample 85",
          "Sample 86",
          "Sample 87",
          "Sample 88",
          "Sample 89",
          "Sample 90",
          "Sample 91",
          "Sample 92",
          "Sample 93",
          "Sample 94",
          "Sample 95",
          "Sample 96",
          "Sample 97",
          "Sample 98",
          "Sample 99"
         ],
         "xaxis": "x",
         "y": [
          440.9045999999999,
          401.7214,
          374.04799999999994,
          517.8476,
          507.51359999999994,
          498.46359999999993,
          402.9914,
          442.9968,
          541.9448,
          519.9964,
          369.8402,
          568.5242,
          554.913,
          400.22520000000003,
          458.96659999999997,
          480.26199999999994,
          472.5364,
          522.6392000000001,
          553.2204,
          419.55299999999994,
          508.6778,
          468.29119999999995,
          441.7824,
          460.3742,
          562.2692000000001,
          404.67240000000004,
          433.90280000000007,
          664.4062000000001,
          441.8306,
          473.5248,
          492.361,
          433.48079999999993,
          384.88559999999995,
          496.69180000000006,
          483.5608,
          488.07840000000004,
          393.0828000000001,
          538.9900000000001,
          465.3106,
          538.8745999999999,
          451.15659999999997,
          467.4632,
          475.42040000000003,
          531.4222,
          484.0116000000001,
          511.957,
          484.81360000000006,
          515.828,
          484.59240000000005,
          539.5688,
          548.6436,
          439.4100000000001,
          496.441,
          410.16020000000003,
          492.32099999999997,
          374.3354,
          491.37700000000007,
          507.69020000000006,
          514.6022,
          552.9442,
          478.20099999999996,
          386.68299999999994,
          618.0956000000001,
          468.1332,
          411.7002,
          360.84340000000003,
          404.16159999999996,
          494.1382000000001,
          427.83099999999996,
          454.6617999999999,
          506.3672000000001,
          494.54019999999997,
          442.7854,
          421.09340000000003,
          484.01559999999995,
          505.5064,
          547.1322000000001,
          484.35380000000004,
          575.7344,
          486.68019999999996,
          464.5965999999999,
          390.29720000000003,
          495.9531999999999,
          449.1994,
          325.38579999999996,
          386.72020000000003,
          453.4974,
          561.9698,
          457.31019999999995,
          447.5985999999999,
          501.375,
          484.1872,
          477.66020000000003,
          425.6102,
          432.26399999999995,
          428.45539999999994,
          570.0067999999999,
          461.31059999999997,
          421.36979999999994,
          468.60940000000005
         ],
         "yaxis": "y"
        },
        {
         "line": {
          "color": "rgb(253,180,98)"
         },
         "mode": "lines+markers",
         "name": "last",
         "type": "scatter",
         "x": [
          "Sample 0",
          "Sample 1",
          "Sample 2",
          "Sample 3",
          "Sample 4",
          "Sample 5",
          "Sample 6",
          "Sample 7",
          "Sample 8",
          "Sample 9",
          "Sample 10",
          "Sample 11",
          "Sample 12",
          "Sample 13",
          "Sample 14",
          "Sample 15",
          "Sample 16",
          "Sample 17",
          "Sample 18",
          "Sample 19",
          "Sample 20",
          "Sample 21",
          "Sample 22",
          "Sample 23",
          "Sample 24",
          "Sample 25",
          "Sample 26",
          "Sample 27",
          "Sample 28",
          "Sample 29",
          "Sample 30",
          "Sample 31",
          "Sample 32",
          "Sample 33",
          "Sample 34",
          "Sample 35",
          "Sample 36",
          "Sample 37",
          "Sample 38",
          "Sample 39",
          "Sample 40",
          "Sample 41",
          "Sample 42",
          "Sample 43",
          "Sample 44",
          "Sample 45",
          "Sample 46",
          "Sample 47",
          "Sample 48",
          "Sample 49",
          "Sample 50",
          "Sample 51",
          "Sample 52",
          "Sample 53",
          "Sample 54",
          "Sample 55",
          "Sample 56",
          "Sample 57",
          "Sample 58",
          "Sample 59",
          "Sample 60",
          "Sample 61",
          "Sample 62",
          "Sample 63",
          "Sample 64",
          "Sample 65",
          "Sample 66",
          "Sample 67",
          "Sample 68",
          "Sample 69",
          "Sample 70",
          "Sample 71",
          "Sample 72",
          "Sample 73",
          "Sample 74",
          "Sample 75",
          "Sample 76",
          "Sample 77",
          "Sample 78",
          "Sample 79",
          "Sample 80",
          "Sample 81",
          "Sample 82",
          "Sample 83",
          "Sample 84",
          "Sample 85",
          "Sample 86",
          "Sample 87",
          "Sample 88",
          "Sample 89",
          "Sample 90",
          "Sample 91",
          "Sample 92",
          "Sample 93",
          "Sample 94",
          "Sample 95",
          "Sample 96",
          "Sample 97",
          "Sample 98",
          "Sample 99"
         ],
         "xaxis": "x",
         "y": [
          1157.03,
          56.95,
          522.95,
          1259.45,
          540.64,
          858.1,
          536.62,
          182.78,
          802.64,
          887.14,
          70.31,
          408.33,
          381.36,
          187.32,
          633.46,
          454,
          964.86,
          398.73,
          1182.45,
          1086.52,
          1377.9,
          356.23,
          1189.07,
          73.95,
          1358.65,
          465.68,
          825.54,
          161.54,
          192.07,
          355.91,
          1194.82,
          762.8,
          1083.04,
          200.5,
          61.77,
          994.06,
          318.25,
          831.22,
          678.65,
          70.01,
          608.07,
          138.31,
          912.09,
          63.74,
          167.33,
          1168.32,
          29.55,
          229.05,
          450.7,
          31.54,
          199.5,
          381.84,
          840.6,
          287.97,
          86.27,
          143.35,
          607.04,
          165.53,
          287.45,
          140.43,
          1442.19,
          204.29,
          518.63,
          769.03,
          260.92,
          275.15,
          982.98,
          122.9,
          664.07,
          20.69,
          702.49,
          300.43,
          179.18,
          79.11,
          380.67,
          637.93,
          1039.02,
          100.41,
          643.82,
          112.12,
          400.73,
          268.96,
          587.02,
          1368.11,
          160.51,
          240.25,
          111.83,
          157.51,
          95.41,
          495.92,
          319.21,
          301.56,
          134.93,
          1562.66,
          159.21,
          140.32,
          907.53,
          1250.96,
          379.02,
          322.69
         ],
         "yaxis": "y"
        },
        {
         "line": {
          "color": "rgb(179,222,105)"
         },
         "mode": "lines+markers",
         "name": "random",
         "type": "scatter",
         "x": [
          "Sample 0",
          "Sample 1",
          "Sample 2",
          "Sample 3",
          "Sample 4",
          "Sample 5",
          "Sample 6",
          "Sample 7",
          "Sample 8",
          "Sample 9",
          "Sample 10",
          "Sample 11",
          "Sample 12",
          "Sample 13",
          "Sample 14",
          "Sample 15",
          "Sample 16",
          "Sample 17",
          "Sample 18",
          "Sample 19",
          "Sample 20",
          "Sample 21",
          "Sample 22",
          "Sample 23",
          "Sample 24",
          "Sample 25",
          "Sample 26",
          "Sample 27",
          "Sample 28",
          "Sample 29",
          "Sample 30",
          "Sample 31",
          "Sample 32",
          "Sample 33",
          "Sample 34",
          "Sample 35",
          "Sample 36",
          "Sample 37",
          "Sample 38",
          "Sample 39",
          "Sample 40",
          "Sample 41",
          "Sample 42",
          "Sample 43",
          "Sample 44",
          "Sample 45",
          "Sample 46",
          "Sample 47",
          "Sample 48",
          "Sample 49",
          "Sample 50",
          "Sample 51",
          "Sample 52",
          "Sample 53",
          "Sample 54",
          "Sample 55",
          "Sample 56",
          "Sample 57",
          "Sample 58",
          "Sample 59",
          "Sample 60",
          "Sample 61",
          "Sample 62",
          "Sample 63",
          "Sample 64",
          "Sample 65",
          "Sample 66",
          "Sample 67",
          "Sample 68",
          "Sample 69",
          "Sample 70",
          "Sample 71",
          "Sample 72",
          "Sample 73",
          "Sample 74",
          "Sample 75",
          "Sample 76",
          "Sample 77",
          "Sample 78",
          "Sample 79",
          "Sample 80",
          "Sample 81",
          "Sample 82",
          "Sample 83",
          "Sample 84",
          "Sample 85",
          "Sample 86",
          "Sample 87",
          "Sample 88",
          "Sample 89",
          "Sample 90",
          "Sample 91",
          "Sample 92",
          "Sample 93",
          "Sample 94",
          "Sample 95",
          "Sample 96",
          "Sample 97",
          "Sample 98",
          "Sample 99"
         ],
         "xaxis": "x",
         "y": [
          1156.23,
          310.23,
          156.9,
          432.48,
          696.05,
          341.01,
          54.42,
          987.17,
          82,
          96.23,
          265.26,
          461.33,
          1076.95,
          146.15,
          389.03,
          607.29,
          364.34,
          138.28,
          278.84,
          428.85,
          183.76,
          115.56,
          184.55,
          141.41,
          77.68,
          829.53,
          554.15,
          400.02,
          123.16,
          736.44,
          88.71,
          307.87,
          117.93,
          707.81,
          254.94,
          58.81,
          172.99,
          483.02,
          788.1,
          117.99,
          1225.43,
          111.66,
          511.89,
          110.06,
          157.71,
          715.43,
          58.33,
          132.81,
          63.21,
          391.92,
          457.8,
          95.64,
          662.38,
          151.09,
          347.54,
          248.74,
          248.9,
          152.23,
          174.07,
          530.87,
          337.1,
          339.23,
          1522.01,
          266.75,
          627.76,
          167.94,
          1149.28,
          926.67,
          732.59,
          52.73,
          316.4,
          159.24,
          434.53,
          87.77,
          210.39,
          428.44,
          598.25,
          407.94,
          156.62,
          966.28,
          775.08,
          31.49,
          1354,
          825.33,
          155.02,
          375.99,
          261.54,
          187.93,
          824.93,
          270.93,
          419.08,
          331.11,
          275.86,
          321.08,
          901.96,
          388.17,
          59.2,
          604.44,
          672.41,
          262.32
         ],
         "yaxis": "y"
        },
        {
         "marker": {
          "color": [
           "rgb(141,211,199)",
           "rgb(255,255,179)",
           "rgb(190,186,218)",
           "rgb(251,128,114)",
           "rgb(128,177,211)",
           "rgb(253,180,98)",
           "rgb(179,222,105)"
          ]
         },
         "name": "Average MSE",
         "type": "bar",
         "x": [
          "llama",
          "linear_regression",
          "knn",
          "random_forest",
          "average",
          "last",
          "random"
         ],
         "xaxis": "x2",
         "y": [
          63821.827749,
          24899.851092326677,
          105285.75593239996,
          21799.98956386101,
          187452.500750902,
          312698.28588,
          320765.3498700001
         ],
         "yaxis": "y2"
        }
       ],
       "layout": {
        "annotations": [
         {
          "font": {
           "size": 16
          },
          "showarrow": false,
          "text": "Individual Sample Predictions",
          "x": 0.5,
          "xanchor": "center",
          "xref": "paper",
          "y": 0.9999999999999999,
          "yanchor": "bottom",
          "yref": "paper"
         },
         {
          "font": {
           "size": 16
          },
          "showarrow": false,
          "text": "Average MSE Across Samples",
          "x": 0.5,
          "xanchor": "center",
          "xref": "paper",
          "y": 0.35,
          "yanchor": "bottom",
          "yref": "paper"
         }
        ],
        "height": 1000,
        "legend": {
         "orientation": "h",
         "x": 1,
         "xanchor": "right",
         "y": 1.02,
         "yanchor": "bottom"
        },
        "showlegend": true,
        "template": {
         "data": {
          "bar": [
           {
            "error_x": {
             "color": "#2a3f5f"
            },
            "error_y": {
             "color": "#2a3f5f"
            },
            "marker": {
             "line": {
              "color": "#E5ECF6",
              "width": 0.5
             },
             "pattern": {
              "fillmode": "overlay",
              "size": 10,
              "solidity": 0.2
             }
            },
            "type": "bar"
           }
          ],
          "barpolar": [
           {
            "marker": {
             "line": {
              "color": "#E5ECF6",
              "width": 0.5
             },
             "pattern": {
              "fillmode": "overlay",
              "size": 10,
              "solidity": 0.2
             }
            },
            "type": "barpolar"
           }
          ],
          "carpet": [
           {
            "aaxis": {
             "endlinecolor": "#2a3f5f",
             "gridcolor": "white",
             "linecolor": "white",
             "minorgridcolor": "white",
             "startlinecolor": "#2a3f5f"
            },
            "baxis": {
             "endlinecolor": "#2a3f5f",
             "gridcolor": "white",
             "linecolor": "white",
             "minorgridcolor": "white",
             "startlinecolor": "#2a3f5f"
            },
            "type": "carpet"
           }
          ],
          "choropleth": [
           {
            "colorbar": {
             "outlinewidth": 0,
             "ticks": ""
            },
            "type": "choropleth"
           }
          ],
          "contour": [
           {
            "colorbar": {
             "outlinewidth": 0,
             "ticks": ""
            },
            "colorscale": [
             [
              0,
              "#0d0887"
             ],
             [
              0.1111111111111111,
              "#46039f"
             ],
             [
              0.2222222222222222,
              "#7201a8"
             ],
             [
              0.3333333333333333,
              "#9c179e"
             ],
             [
              0.4444444444444444,
              "#bd3786"
             ],
             [
              0.5555555555555556,
              "#d8576b"
             ],
             [
              0.6666666666666666,
              "#ed7953"
             ],
             [
              0.7777777777777778,
              "#fb9f3a"
             ],
             [
              0.8888888888888888,
              "#fdca26"
             ],
             [
              1,
              "#f0f921"
             ]
            ],
            "type": "contour"
           }
          ],
          "contourcarpet": [
           {
            "colorbar": {
             "outlinewidth": 0,
             "ticks": ""
            },
            "type": "contourcarpet"
           }
          ],
          "heatmap": [
           {
            "colorbar": {
             "outlinewidth": 0,
             "ticks": ""
            },
            "colorscale": [
             [
              0,
              "#0d0887"
             ],
             [
              0.1111111111111111,
              "#46039f"
             ],
             [
              0.2222222222222222,
              "#7201a8"
             ],
             [
              0.3333333333333333,
              "#9c179e"
             ],
             [
              0.4444444444444444,
              "#bd3786"
             ],
             [
              0.5555555555555556,
              "#d8576b"
             ],
             [
              0.6666666666666666,
              "#ed7953"
             ],
             [
              0.7777777777777778,
              "#fb9f3a"
             ],
             [
              0.8888888888888888,
              "#fdca26"
             ],
             [
              1,
              "#f0f921"
             ]
            ],
            "type": "heatmap"
           }
          ],
          "heatmapgl": [
           {
            "colorbar": {
             "outlinewidth": 0,
             "ticks": ""
            },
            "colorscale": [
             [
              0,
              "#0d0887"
             ],
             [
              0.1111111111111111,
              "#46039f"
             ],
             [
              0.2222222222222222,
              "#7201a8"
             ],
             [
              0.3333333333333333,
              "#9c179e"
             ],
             [
              0.4444444444444444,
              "#bd3786"
             ],
             [
              0.5555555555555556,
              "#d8576b"
             ],
             [
              0.6666666666666666,
              "#ed7953"
             ],
             [
              0.7777777777777778,
              "#fb9f3a"
             ],
             [
              0.8888888888888888,
              "#fdca26"
             ],
             [
              1,
              "#f0f921"
             ]
            ],
            "type": "heatmapgl"
           }
          ],
          "histogram": [
           {
            "marker": {
             "pattern": {
              "fillmode": "overlay",
              "size": 10,
              "solidity": 0.2
             }
            },
            "type": "histogram"
           }
          ],
          "histogram2d": [
           {
            "colorbar": {
             "outlinewidth": 0,
             "ticks": ""
            },
            "colorscale": [
             [
              0,
              "#0d0887"
             ],
             [
              0.1111111111111111,
              "#46039f"
             ],
             [
              0.2222222222222222,
              "#7201a8"
             ],
             [
              0.3333333333333333,
              "#9c179e"
             ],
             [
              0.4444444444444444,
              "#bd3786"
             ],
             [
              0.5555555555555556,
              "#d8576b"
             ],
             [
              0.6666666666666666,
              "#ed7953"
             ],
             [
              0.7777777777777778,
              "#fb9f3a"
             ],
             [
              0.8888888888888888,
              "#fdca26"
             ],
             [
              1,
              "#f0f921"
             ]
            ],
            "type": "histogram2d"
           }
          ],
          "histogram2dcontour": [
           {
            "colorbar": {
             "outlinewidth": 0,
             "ticks": ""
            },
            "colorscale": [
             [
              0,
              "#0d0887"
             ],
             [
              0.1111111111111111,
              "#46039f"
             ],
             [
              0.2222222222222222,
              "#7201a8"
             ],
             [
              0.3333333333333333,
              "#9c179e"
             ],
             [
              0.4444444444444444,
              "#bd3786"
             ],
             [
              0.5555555555555556,
              "#d8576b"
             ],
             [
              0.6666666666666666,
              "#ed7953"
             ],
             [
              0.7777777777777778,
              "#fb9f3a"
             ],
             [
              0.8888888888888888,
              "#fdca26"
             ],
             [
              1,
              "#f0f921"
             ]
            ],
            "type": "histogram2dcontour"
           }
          ],
          "mesh3d": [
           {
            "colorbar": {
             "outlinewidth": 0,
             "ticks": ""
            },
            "type": "mesh3d"
           }
          ],
          "parcoords": [
           {
            "line": {
             "colorbar": {
              "outlinewidth": 0,
              "ticks": ""
             }
            },
            "type": "parcoords"
           }
          ],
          "pie": [
           {
            "automargin": true,
            "type": "pie"
           }
          ],
          "scatter": [
           {
            "fillpattern": {
             "fillmode": "overlay",
             "size": 10,
             "solidity": 0.2
            },
            "type": "scatter"
           }
          ],
          "scatter3d": [
           {
            "line": {
             "colorbar": {
              "outlinewidth": 0,
              "ticks": ""
             }
            },
            "marker": {
             "colorbar": {
              "outlinewidth": 0,
              "ticks": ""
             }
            },
            "type": "scatter3d"
           }
          ],
          "scattercarpet": [
           {
            "marker": {
             "colorbar": {
              "outlinewidth": 0,
              "ticks": ""
             }
            },
            "type": "scattercarpet"
           }
          ],
          "scattergeo": [
           {
            "marker": {
             "colorbar": {
              "outlinewidth": 0,
              "ticks": ""
             }
            },
            "type": "scattergeo"
           }
          ],
          "scattergl": [
           {
            "marker": {
             "colorbar": {
              "outlinewidth": 0,
              "ticks": ""
             }
            },
            "type": "scattergl"
           }
          ],
          "scattermapbox": [
           {
            "marker": {
             "colorbar": {
              "outlinewidth": 0,
              "ticks": ""
             }
            },
            "type": "scattermapbox"
           }
          ],
          "scatterpolar": [
           {
            "marker": {
             "colorbar": {
              "outlinewidth": 0,
              "ticks": ""
             }
            },
            "type": "scatterpolar"
           }
          ],
          "scatterpolargl": [
           {
            "marker": {
             "colorbar": {
              "outlinewidth": 0,
              "ticks": ""
             }
            },
            "type": "scatterpolargl"
           }
          ],
          "scatterternary": [
           {
            "marker": {
             "colorbar": {
              "outlinewidth": 0,
              "ticks": ""
             }
            },
            "type": "scatterternary"
           }
          ],
          "surface": [
           {
            "colorbar": {
             "outlinewidth": 0,
             "ticks": ""
            },
            "colorscale": [
             [
              0,
              "#0d0887"
             ],
             [
              0.1111111111111111,
              "#46039f"
             ],
             [
              0.2222222222222222,
              "#7201a8"
             ],
             [
              0.3333333333333333,
              "#9c179e"
             ],
             [
              0.4444444444444444,
              "#bd3786"
             ],
             [
              0.5555555555555556,
              "#d8576b"
             ],
             [
              0.6666666666666666,
              "#ed7953"
             ],
             [
              0.7777777777777778,
              "#fb9f3a"
             ],
             [
              0.8888888888888888,
              "#fdca26"
             ],
             [
              1,
              "#f0f921"
             ]
            ],
            "type": "surface"
           }
          ],
          "table": [
           {
            "cells": {
             "fill": {
              "color": "#EBF0F8"
             },
             "line": {
              "color": "white"
             }
            },
            "header": {
             "fill": {
              "color": "#C8D4E3"
             },
             "line": {
              "color": "white"
             }
            },
            "type": "table"
           }
          ]
         },
         "layout": {
          "annotationdefaults": {
           "arrowcolor": "#2a3f5f",
           "arrowhead": 0,
           "arrowwidth": 1
          },
          "autotypenumbers": "strict",
          "coloraxis": {
           "colorbar": {
            "outlinewidth": 0,
            "ticks": ""
           }
          },
          "colorscale": {
           "diverging": [
            [
             0,
             "#8e0152"
            ],
            [
             0.1,
             "#c51b7d"
            ],
            [
             0.2,
             "#de77ae"
            ],
            [
             0.3,
             "#f1b6da"
            ],
            [
             0.4,
             "#fde0ef"
            ],
            [
             0.5,
             "#f7f7f7"
            ],
            [
             0.6,
             "#e6f5d0"
            ],
            [
             0.7,
             "#b8e186"
            ],
            [
             0.8,
             "#7fbc41"
            ],
            [
             0.9,
             "#4d9221"
            ],
            [
             1,
             "#276419"
            ]
           ],
           "sequential": [
            [
             0,
             "#0d0887"
            ],
            [
             0.1111111111111111,
             "#46039f"
            ],
            [
             0.2222222222222222,
             "#7201a8"
            ],
            [
             0.3333333333333333,
             "#9c179e"
            ],
            [
             0.4444444444444444,
             "#bd3786"
            ],
            [
             0.5555555555555556,
             "#d8576b"
            ],
            [
             0.6666666666666666,
             "#ed7953"
            ],
            [
             0.7777777777777778,
             "#fb9f3a"
            ],
            [
             0.8888888888888888,
             "#fdca26"
            ],
            [
             1,
             "#f0f921"
            ]
           ],
           "sequentialminus": [
            [
             0,
             "#0d0887"
            ],
            [
             0.1111111111111111,
             "#46039f"
            ],
            [
             0.2222222222222222,
             "#7201a8"
            ],
            [
             0.3333333333333333,
             "#9c179e"
            ],
            [
             0.4444444444444444,
             "#bd3786"
            ],
            [
             0.5555555555555556,
             "#d8576b"
            ],
            [
             0.6666666666666666,
             "#ed7953"
            ],
            [
             0.7777777777777778,
             "#fb9f3a"
            ],
            [
             0.8888888888888888,
             "#fdca26"
            ],
            [
             1,
             "#f0f921"
            ]
           ]
          },
          "colorway": [
           "#636efa",
           "#EF553B",
           "#00cc96",
           "#ab63fa",
           "#FFA15A",
           "#19d3f3",
           "#FF6692",
           "#B6E880",
           "#FF97FF",
           "#FECB52"
          ],
          "font": {
           "color": "#2a3f5f"
          },
          "geo": {
           "bgcolor": "white",
           "lakecolor": "white",
           "landcolor": "#E5ECF6",
           "showlakes": true,
           "showland": true,
           "subunitcolor": "white"
          },
          "hoverlabel": {
           "align": "left"
          },
          "hovermode": "closest",
          "mapbox": {
           "style": "light"
          },
          "paper_bgcolor": "white",
          "plot_bgcolor": "#E5ECF6",
          "polar": {
           "angularaxis": {
            "gridcolor": "white",
            "linecolor": "white",
            "ticks": ""
           },
           "bgcolor": "#E5ECF6",
           "radialaxis": {
            "gridcolor": "white",
            "linecolor": "white",
            "ticks": ""
           }
          },
          "scene": {
           "xaxis": {
            "backgroundcolor": "#E5ECF6",
            "gridcolor": "white",
            "gridwidth": 2,
            "linecolor": "white",
            "showbackground": true,
            "ticks": "",
            "zerolinecolor": "white"
           },
           "yaxis": {
            "backgroundcolor": "#E5ECF6",
            "gridcolor": "white",
            "gridwidth": 2,
            "linecolor": "white",
            "showbackground": true,
            "ticks": "",
            "zerolinecolor": "white"
           },
           "zaxis": {
            "backgroundcolor": "#E5ECF6",
            "gridcolor": "white",
            "gridwidth": 2,
            "linecolor": "white",
            "showbackground": true,
            "ticks": "",
            "zerolinecolor": "white"
           }
          },
          "shapedefaults": {
           "line": {
            "color": "#2a3f5f"
           }
          },
          "ternary": {
           "aaxis": {
            "gridcolor": "white",
            "linecolor": "white",
            "ticks": ""
           },
           "baxis": {
            "gridcolor": "white",
            "linecolor": "white",
            "ticks": ""
           },
           "bgcolor": "#E5ECF6",
           "caxis": {
            "gridcolor": "white",
            "linecolor": "white",
            "ticks": ""
           }
          },
          "title": {
           "x": 0.05
          },
          "xaxis": {
           "automargin": true,
           "gridcolor": "white",
           "linecolor": "white",
           "ticks": "",
           "title": {
            "standoff": 15
           },
           "zerolinecolor": "white",
           "zerolinewidth": 2
          },
          "yaxis": {
           "automargin": true,
           "gridcolor": "white",
           "linecolor": "white",
           "ticks": "",
           "title": {
            "standoff": 15
           },
           "zerolinecolor": "white",
           "zerolinewidth": 2
          }
         }
        },
        "title": {
         "text": "Model vs Regression Methods Comparison Across Multiple Samples"
        },
        "xaxis": {
         "anchor": "y",
         "domain": [
          0,
          1
         ]
        },
        "xaxis2": {
         "anchor": "y2",
         "domain": [
          0,
          1
         ]
        },
        "yaxis": {
         "anchor": "x",
         "domain": [
          0.6499999999999999,
          0.9999999999999999
         ],
         "title": {
          "text": "Prediction Value"
         }
        },
        "yaxis2": {
         "anchor": "x2",
         "domain": [
          0,
          0.35
         ],
         "title": {
          "text": "MSE"
         }
        }
       }
      },
      "text/html": [
       "<div>                            <div id=\"01471729-2568-4fe3-8f44-b7d2b7d27a73\" class=\"plotly-graph-div\" style=\"height:1000px; width:100%;\"></div>            <script type=\"text/javascript\">                require([\"plotly\"], function(Plotly) {                    window.PLOTLYENV=window.PLOTLYENV || {};                                    if (document.getElementById(\"01471729-2568-4fe3-8f44-b7d2b7d27a73\")) {                    Plotly.newPlot(                        \"01471729-2568-4fe3-8f44-b7d2b7d27a73\",                        [{\"line\":{\"color\":\"rgb(141,211,199)\"},\"mode\":\"lines+markers\",\"name\":\"llama\",\"x\":[\"Sample 0\",\"Sample 1\",\"Sample 2\",\"Sample 3\",\"Sample 4\",\"Sample 5\",\"Sample 6\",\"Sample 7\",\"Sample 8\",\"Sample 9\",\"Sample 10\",\"Sample 11\",\"Sample 12\",\"Sample 13\",\"Sample 14\",\"Sample 15\",\"Sample 16\",\"Sample 17\",\"Sample 18\",\"Sample 19\",\"Sample 20\",\"Sample 21\",\"Sample 22\",\"Sample 23\",\"Sample 24\",\"Sample 25\",\"Sample 26\",\"Sample 27\",\"Sample 28\",\"Sample 29\",\"Sample 30\",\"Sample 31\",\"Sample 32\",\"Sample 33\",\"Sample 34\",\"Sample 35\",\"Sample 36\",\"Sample 37\",\"Sample 38\",\"Sample 39\",\"Sample 40\",\"Sample 41\",\"Sample 42\",\"Sample 43\",\"Sample 44\",\"Sample 45\",\"Sample 46\",\"Sample 47\",\"Sample 48\",\"Sample 49\",\"Sample 50\",\"Sample 51\",\"Sample 52\",\"Sample 53\",\"Sample 54\",\"Sample 55\",\"Sample 56\",\"Sample 57\",\"Sample 58\",\"Sample 59\",\"Sample 60\",\"Sample 61\",\"Sample 62\",\"Sample 63\",\"Sample 64\",\"Sample 65\",\"Sample 66\",\"Sample 67\",\"Sample 68\",\"Sample 69\",\"Sample 70\",\"Sample 71\",\"Sample 72\",\"Sample 73\",\"Sample 74\",\"Sample 75\",\"Sample 76\",\"Sample 77\",\"Sample 78\",\"Sample 79\",\"Sample 80\",\"Sample 81\",\"Sample 82\",\"Sample 83\",\"Sample 84\",\"Sample 85\",\"Sample 86\",\"Sample 87\",\"Sample 88\",\"Sample 89\",\"Sample 90\",\"Sample 91\",\"Sample 92\",\"Sample 93\",\"Sample 94\",\"Sample 95\",\"Sample 96\",\"Sample 97\",\"Sample 98\",\"Sample 99\"],\"y\":[1033.0,114.19,444.19,213.55,1033.0,81.35,1033.0,341.19,54.19,283.55,173.19,123.19,144.19,444.93,246.55,103.19,123.19,444.19,1233.0,246.19,1033.0,143.19,1033.0,155.93,246.19,34.19,1033.0,341.19,246.59,1033.0,1033.0,1033.0,246.19,246.19,246.19,555.93,444.93,1036.0,444.93,1233.0,123.93,206.93,246.19,34.59,1234.0,1034.0,143.19,341.93,373.19,1234.0,143.19,173.19,1033.0,1033.0,69.93,103.19,1033.0,1035.0,1034.0,434.93,444.19,234.19,341.93,1033.0,246.19,341.93,555.93,246.19,104.19,246.19,246.19,93.19,1035.0,34.93,1043.0,173.19,44.19,103.35,1033.0,246.19,1033.0,341.19,173.19,246.19,114.19,1033.0,246.93,555.93,246.19,134.19,123.55,123.19,104.19,555.19,143.19,93.35,1031.0,143.19,1433.0,143.19],\"type\":\"scatter\",\"xaxis\":\"x\",\"yaxis\":\"y\"},{\"line\":{\"color\":\"black\",\"dash\":\"dash\"},\"mode\":\"lines+markers\",\"name\":\"Gold\",\"x\":[\"Sample 0\",\"Sample 1\",\"Sample 2\",\"Sample 3\",\"Sample 4\",\"Sample 5\",\"Sample 6\",\"Sample 7\",\"Sample 8\",\"Sample 9\",\"Sample 10\",\"Sample 11\",\"Sample 12\",\"Sample 13\",\"Sample 14\",\"Sample 15\",\"Sample 16\",\"Sample 17\",\"Sample 18\",\"Sample 19\",\"Sample 20\",\"Sample 21\",\"Sample 22\",\"Sample 23\",\"Sample 24\",\"Sample 25\",\"Sample 26\",\"Sample 27\",\"Sample 28\",\"Sample 29\",\"Sample 30\",\"Sample 31\",\"Sample 32\",\"Sample 33\",\"Sample 34\",\"Sample 35\",\"Sample 36\",\"Sample 37\",\"Sample 38\",\"Sample 39\",\"Sample 40\",\"Sample 41\",\"Sample 42\",\"Sample 43\",\"Sample 44\",\"Sample 45\",\"Sample 46\",\"Sample 47\",\"Sample 48\",\"Sample 49\",\"Sample 50\",\"Sample 51\",\"Sample 52\",\"Sample 53\",\"Sample 54\",\"Sample 55\",\"Sample 56\",\"Sample 57\",\"Sample 58\",\"Sample 59\",\"Sample 60\",\"Sample 61\",\"Sample 62\",\"Sample 63\",\"Sample 64\",\"Sample 65\",\"Sample 66\",\"Sample 67\",\"Sample 68\",\"Sample 69\",\"Sample 70\",\"Sample 71\",\"Sample 72\",\"Sample 73\",\"Sample 74\",\"Sample 75\",\"Sample 76\",\"Sample 77\",\"Sample 78\",\"Sample 79\",\"Sample 80\",\"Sample 81\",\"Sample 82\",\"Sample 83\",\"Sample 84\",\"Sample 85\",\"Sample 86\",\"Sample 87\",\"Sample 88\",\"Sample 89\",\"Sample 90\",\"Sample 91\",\"Sample 92\",\"Sample 93\",\"Sample 94\",\"Sample 95\",\"Sample 96\",\"Sample 97\",\"Sample 98\",\"Sample 99\"],\"y\":[952.17,146.8,434.54,180.52,516.99,88.66,1158.02,130.88,20.57,115.4,315.39,116.73,210.54,967.5,81.76,114.71,120.35,837.27,1187.24,422.17,1206.54,195.2,1007.3,121.86,99.43,38.9,1000.18,555.98,217.89,863.29,832.03,1670.3,72.07,338.11,393.56,574.09,503.25,960.33,629.38,1337.17,138.24,114.53,323.87,45.73,1251.47,965.32,248.38,386.95,572.52,559.48,158.19,270.53,462.88,1413.16,87.54,929.85,1392.6,873.01,776.17,917.19,410.46,400.8,519.01,871.45,267.18,576.85,670.53,348.42,227.75,144.23,210.8,132.16,751.94,32.71,676.49,52.45,106.68,1244.28,688.56,696.93,1011.15,112.31,109.65,408.61,135.23,1488.87,155.34,915.23,81.01,131.91,378.78,176.81,177.71,542.31,78.36,46.0,1221.6,147.87,1634.67,184.49],\"type\":\"scatter\",\"xaxis\":\"x\",\"yaxis\":\"y\"},{\"line\":{\"color\":\"rgb(255,255,179)\"},\"mode\":\"lines+markers\",\"name\":\"linear_regression\",\"x\":[\"Sample 0\",\"Sample 1\",\"Sample 2\",\"Sample 3\",\"Sample 4\",\"Sample 5\",\"Sample 6\",\"Sample 7\",\"Sample 8\",\"Sample 9\",\"Sample 10\",\"Sample 11\",\"Sample 12\",\"Sample 13\",\"Sample 14\",\"Sample 15\",\"Sample 16\",\"Sample 17\",\"Sample 18\",\"Sample 19\",\"Sample 20\",\"Sample 21\",\"Sample 22\",\"Sample 23\",\"Sample 24\",\"Sample 25\",\"Sample 26\",\"Sample 27\",\"Sample 28\",\"Sample 29\",\"Sample 30\",\"Sample 31\",\"Sample 32\",\"Sample 33\",\"Sample 34\",\"Sample 35\",\"Sample 36\",\"Sample 37\",\"Sample 38\",\"Sample 39\",\"Sample 40\",\"Sample 41\",\"Sample 42\",\"Sample 43\",\"Sample 44\",\"Sample 45\",\"Sample 46\",\"Sample 47\",\"Sample 48\",\"Sample 49\",\"Sample 50\",\"Sample 51\",\"Sample 52\",\"Sample 53\",\"Sample 54\",\"Sample 55\",\"Sample 56\",\"Sample 57\",\"Sample 58\",\"Sample 59\",\"Sample 60\",\"Sample 61\",\"Sample 62\",\"Sample 63\",\"Sample 64\",\"Sample 65\",\"Sample 66\",\"Sample 67\",\"Sample 68\",\"Sample 69\",\"Sample 70\",\"Sample 71\",\"Sample 72\",\"Sample 73\",\"Sample 74\",\"Sample 75\",\"Sample 76\",\"Sample 77\",\"Sample 78\",\"Sample 79\",\"Sample 80\",\"Sample 81\",\"Sample 82\",\"Sample 83\",\"Sample 84\",\"Sample 85\",\"Sample 86\",\"Sample 87\",\"Sample 88\",\"Sample 89\",\"Sample 90\",\"Sample 91\",\"Sample 92\",\"Sample 93\",\"Sample 94\",\"Sample 95\",\"Sample 96\",\"Sample 97\",\"Sample 98\",\"Sample 99\"],\"y\":[854.8651321602488,195.3513204842639,395.62426665187246,178.71668337833773,574.6307789050422,-79.39015826482517,965.6361648056403,102.73845148607359,-253.55641892004473,32.95234738781318,295.7825743486977,195.17517623541323,213.99901377846743,852.6032984219853,-86.88150167640708,489.9215049003784,-38.4074094015005,849.4724773083155,1017.0223974088626,626.7417948402726,1116.4453425049694,145.12870710588942,903.4814767265696,104.42181582950093,-187.5662091699238,-280.41965480625765,902.9205966216126,799.8852307651996,166.00297886884732,792.6872935585588,804.3370358159647,1196.7971769103024,152.97601506792802,369.7483927805911,629.7355526635988,572.8689625645779,472.8449525146253,1000.4371273598059,875.5777854089523,1120.234278405558,219.30685351772115,-6.132317980887308,362.69866177634896,-212.95949908824497,1074.039148451257,935.5628060150505,361.1493270613337,407.3916730379626,669.2367008918143,642.1380907703617,333.7785126189111,330.01275362321803,587.4739871297436,1207.8614735062995,-24.716122733736142,693.9285035997691,1170.8828958603058,784.6747787364595,803.8007305571548,925.5954227890957,451.1430596816568,434.94619849823704,574.697810955359,843.9225642152459,269.1864767290358,592.1784502152366,606.3417390445225,400.0442236943361,475.06492786947837,109.82989836102655,151.3162268543524,365.9265904666975,728.9051748765453,-16.825159030641714,670.3555644570241,-252.4951127862422,133.69493644382942,1177.1605721800308,740.4342686332886,685.6072599650315,925.6329907862473,390.5358613703418,0.20322764690831718,631.2600965180982,224.8717882061993,1036.6233815503151,143.17808174835898,940.1775937665657,-104.17698473083806,224.26114978515216,516.1422793854832,277.47948527537216,195.81445334578927,629.0703792771528,332.29993777791043,297.91002054075943,1072.3259273508359,83.6753502921353,1252.713777210653,293.2741113534104],\"type\":\"scatter\",\"xaxis\":\"x\",\"yaxis\":\"y\"},{\"line\":{\"color\":\"rgb(190,186,218)\"},\"mode\":\"lines+markers\",\"name\":\"knn\",\"x\":[\"Sample 0\",\"Sample 1\",\"Sample 2\",\"Sample 3\",\"Sample 4\",\"Sample 5\",\"Sample 6\",\"Sample 7\",\"Sample 8\",\"Sample 9\",\"Sample 10\",\"Sample 11\",\"Sample 12\",\"Sample 13\",\"Sample 14\",\"Sample 15\",\"Sample 16\",\"Sample 17\",\"Sample 18\",\"Sample 19\",\"Sample 20\",\"Sample 21\",\"Sample 22\",\"Sample 23\",\"Sample 24\",\"Sample 25\",\"Sample 26\",\"Sample 27\",\"Sample 28\",\"Sample 29\",\"Sample 30\",\"Sample 31\",\"Sample 32\",\"Sample 33\",\"Sample 34\",\"Sample 35\",\"Sample 36\",\"Sample 37\",\"Sample 38\",\"Sample 39\",\"Sample 40\",\"Sample 41\",\"Sample 42\",\"Sample 43\",\"Sample 44\",\"Sample 45\",\"Sample 46\",\"Sample 47\",\"Sample 48\",\"Sample 49\",\"Sample 50\",\"Sample 51\",\"Sample 52\",\"Sample 53\",\"Sample 54\",\"Sample 55\",\"Sample 56\",\"Sample 57\",\"Sample 58\",\"Sample 59\",\"Sample 60\",\"Sample 61\",\"Sample 62\",\"Sample 63\",\"Sample 64\",\"Sample 65\",\"Sample 66\",\"Sample 67\",\"Sample 68\",\"Sample 69\",\"Sample 70\",\"Sample 71\",\"Sample 72\",\"Sample 73\",\"Sample 74\",\"Sample 75\",\"Sample 76\",\"Sample 77\",\"Sample 78\",\"Sample 79\",\"Sample 80\",\"Sample 81\",\"Sample 82\",\"Sample 83\",\"Sample 84\",\"Sample 85\",\"Sample 86\",\"Sample 87\",\"Sample 88\",\"Sample 89\",\"Sample 90\",\"Sample 91\",\"Sample 92\",\"Sample 93\",\"Sample 94\",\"Sample 95\",\"Sample 96\",\"Sample 97\",\"Sample 98\",\"Sample 99\"],\"y\":[395.062,684.5840000000001,458.988,264.45799999999997,567.578,245.26999999999998,586.012,350.044,325.52,375.91999999999996,271.71999999999997,96.86399999999999,357.008,678.204,365.288,989.85,152.858,423.74800000000005,996.508,228.96800000000002,450.60999999999996,288.23400000000004,993.966,441.0,205.47199999999998,126.418,442.67600000000004,435.5780000000001,299.66399999999993,544.1099999999999,568.262,1218.972,392.594,224.23200000000003,109.67999999999999,633.17,357.198,1226.3100000000002,295.12399999999997,808.6660000000002,164.26,324.604,146.814,183.342,680.194,658.334,243.74200000000002,366.86,219.138,770.2780000000001,125.376,311.39799999999997,795.148,1095.9,204.698,337.53599999999994,804.642,807.1180000000002,790.23,635.652,301.534,206.56599999999997,734.5939999999999,1060.22,291.782,340.264,572.5040000000001,201.786,739.94,228.51799999999997,266.094,142.76799999999997,901.698,257.576,481.218,200.392,122.208,779.2439999999999,704.574,550.046,642.204,928.7740000000001,186.66000000000003,186.182,687.484,537.926,221.82399999999998,604.786,220.81799999999998,504.078,810.424,194.204,144.358,364.34999999999997,433.79599999999994,486.274,806.1719999999999,326.868,974.9979999999999,111.18800000000002],\"type\":\"scatter\",\"xaxis\":\"x\",\"yaxis\":\"y\"},{\"line\":{\"color\":\"rgb(251,128,114)\"},\"mode\":\"lines+markers\",\"name\":\"random_forest\",\"x\":[\"Sample 0\",\"Sample 1\",\"Sample 2\",\"Sample 3\",\"Sample 4\",\"Sample 5\",\"Sample 6\",\"Sample 7\",\"Sample 8\",\"Sample 9\",\"Sample 10\",\"Sample 11\",\"Sample 12\",\"Sample 13\",\"Sample 14\",\"Sample 15\",\"Sample 16\",\"Sample 17\",\"Sample 18\",\"Sample 19\",\"Sample 20\",\"Sample 21\",\"Sample 22\",\"Sample 23\",\"Sample 24\",\"Sample 25\",\"Sample 26\",\"Sample 27\",\"Sample 28\",\"Sample 29\",\"Sample 30\",\"Sample 31\",\"Sample 32\",\"Sample 33\",\"Sample 34\",\"Sample 35\",\"Sample 36\",\"Sample 37\",\"Sample 38\",\"Sample 39\",\"Sample 40\",\"Sample 41\",\"Sample 42\",\"Sample 43\",\"Sample 44\",\"Sample 45\",\"Sample 46\",\"Sample 47\",\"Sample 48\",\"Sample 49\",\"Sample 50\",\"Sample 51\",\"Sample 52\",\"Sample 53\",\"Sample 54\",\"Sample 55\",\"Sample 56\",\"Sample 57\",\"Sample 58\",\"Sample 59\",\"Sample 60\",\"Sample 61\",\"Sample 62\",\"Sample 63\",\"Sample 64\",\"Sample 65\",\"Sample 66\",\"Sample 67\",\"Sample 68\",\"Sample 69\",\"Sample 70\",\"Sample 71\",\"Sample 72\",\"Sample 73\",\"Sample 74\",\"Sample 75\",\"Sample 76\",\"Sample 77\",\"Sample 78\",\"Sample 79\",\"Sample 80\",\"Sample 81\",\"Sample 82\",\"Sample 83\",\"Sample 84\",\"Sample 85\",\"Sample 86\",\"Sample 87\",\"Sample 88\",\"Sample 89\",\"Sample 90\",\"Sample 91\",\"Sample 92\",\"Sample 93\",\"Sample 94\",\"Sample 95\",\"Sample 96\",\"Sample 97\",\"Sample 98\",\"Sample 99\"],\"y\":[769.4054168342998,113.27732924425248,490.04636230677875,180.9916758140389,540.308340646571,102.30794596523576,1025.143878029017,208.7535060212275,118.35665875277904,258.95571771510294,312.7814451027865,313.9697103039182,335.67480399247916,942.4136663076918,159.25925601414667,270.0166442198519,188.97784647531392,767.2259190327536,1042.2465131042052,315.47013565061184,876.3544584466738,175.64684065809703,963.4668719042908,143.27160185576392,254.18824435742607,99.70056915534639,759.893944329739,537.7328393037518,325.3651540113557,802.7452020396973,598.1382155709288,1410.6088148809517,166.79725393606145,297.46713697592884,287.04220682539676,559.7886842286115,398.68992652845714,704.960639834348,680.468619822024,1164.403712611903,264.2885453049555,175.95577895136697,358.1574831881672,99.71594684966313,1133.0920474278494,847.1312692397207,365.5830152380954,360.40100841661314,541.9545705857882,338.461620241311,265.50357495582625,238.73346353724696,498.7011032339885,1225.6877054761908,110.09725481794774,845.5905164092355,1182.7995300030523,730.4109367687216,743.2294700005738,998.224705830208,354.4382703703297,362.15822873253927,329.13857295164604,933.382396447278,191.4608011479946,468.963000235126,626.9088321103513,340.56393562844386,211.49953930452443,305.0058564638139,328.18968538799777,355.2280938487873,667.1276983262256,151.15556709961263,552.2015527748985,140.14227981036936,320.33154313714056,1058.8225154881231,569.218024430999,561.017994394848,913.1385305337884,642.2051488095238,141.15942257426855,340.3486244383797,168.38929569972257,945.5200368029192,230.60580358282056,835.5008779614529,106.84041906665556,129.10278169179344,409.86095274558784,366.5394278706075,246.67144497584545,359.3344952328538,157.16450750201693,247.9722433232945,1069.4089890265127,157.47982369529484,1200.819023391053,214.02212036890353],\"type\":\"scatter\",\"xaxis\":\"x\",\"yaxis\":\"y\"},{\"line\":{\"color\":\"rgb(128,177,211)\"},\"mode\":\"lines+markers\",\"name\":\"average\",\"x\":[\"Sample 0\",\"Sample 1\",\"Sample 2\",\"Sample 3\",\"Sample 4\",\"Sample 5\",\"Sample 6\",\"Sample 7\",\"Sample 8\",\"Sample 9\",\"Sample 10\",\"Sample 11\",\"Sample 12\",\"Sample 13\",\"Sample 14\",\"Sample 15\",\"Sample 16\",\"Sample 17\",\"Sample 18\",\"Sample 19\",\"Sample 20\",\"Sample 21\",\"Sample 22\",\"Sample 23\",\"Sample 24\",\"Sample 25\",\"Sample 26\",\"Sample 27\",\"Sample 28\",\"Sample 29\",\"Sample 30\",\"Sample 31\",\"Sample 32\",\"Sample 33\",\"Sample 34\",\"Sample 35\",\"Sample 36\",\"Sample 37\",\"Sample 38\",\"Sample 39\",\"Sample 40\",\"Sample 41\",\"Sample 42\",\"Sample 43\",\"Sample 44\",\"Sample 45\",\"Sample 46\",\"Sample 47\",\"Sample 48\",\"Sample 49\",\"Sample 50\",\"Sample 51\",\"Sample 52\",\"Sample 53\",\"Sample 54\",\"Sample 55\",\"Sample 56\",\"Sample 57\",\"Sample 58\",\"Sample 59\",\"Sample 60\",\"Sample 61\",\"Sample 62\",\"Sample 63\",\"Sample 64\",\"Sample 65\",\"Sample 66\",\"Sample 67\",\"Sample 68\",\"Sample 69\",\"Sample 70\",\"Sample 71\",\"Sample 72\",\"Sample 73\",\"Sample 74\",\"Sample 75\",\"Sample 76\",\"Sample 77\",\"Sample 78\",\"Sample 79\",\"Sample 80\",\"Sample 81\",\"Sample 82\",\"Sample 83\",\"Sample 84\",\"Sample 85\",\"Sample 86\",\"Sample 87\",\"Sample 88\",\"Sample 89\",\"Sample 90\",\"Sample 91\",\"Sample 92\",\"Sample 93\",\"Sample 94\",\"Sample 95\",\"Sample 96\",\"Sample 97\",\"Sample 98\",\"Sample 99\"],\"y\":[440.9045999999999,401.7214,374.04799999999994,517.8476,507.51359999999994,498.46359999999993,402.9914,442.9968,541.9448,519.9964,369.8402,568.5242,554.913,400.22520000000003,458.96659999999997,480.26199999999994,472.5364,522.6392000000001,553.2204,419.55299999999994,508.6778,468.29119999999995,441.7824,460.3742,562.2692000000001,404.67240000000004,433.90280000000007,664.4062000000001,441.8306,473.5248,492.361,433.48079999999993,384.88559999999995,496.69180000000006,483.5608,488.07840000000004,393.0828000000001,538.9900000000001,465.3106,538.8745999999999,451.15659999999997,467.4632,475.42040000000003,531.4222,484.0116000000001,511.957,484.81360000000006,515.828,484.59240000000005,539.5688,548.6436,439.4100000000001,496.441,410.16020000000003,492.32099999999997,374.3354,491.37700000000007,507.69020000000006,514.6022,552.9442,478.20099999999996,386.68299999999994,618.0956000000001,468.1332,411.7002,360.84340000000003,404.16159999999996,494.1382000000001,427.83099999999996,454.6617999999999,506.3672000000001,494.54019999999997,442.7854,421.09340000000003,484.01559999999995,505.5064,547.1322000000001,484.35380000000004,575.7344,486.68019999999996,464.5965999999999,390.29720000000003,495.9531999999999,449.1994,325.38579999999996,386.72020000000003,453.4974,561.9698,457.31019999999995,447.5985999999999,501.375,484.1872,477.66020000000003,425.6102,432.26399999999995,428.45539999999994,570.0067999999999,461.31059999999997,421.36979999999994,468.60940000000005],\"type\":\"scatter\",\"xaxis\":\"x\",\"yaxis\":\"y\"},{\"line\":{\"color\":\"rgb(253,180,98)\"},\"mode\":\"lines+markers\",\"name\":\"last\",\"x\":[\"Sample 0\",\"Sample 1\",\"Sample 2\",\"Sample 3\",\"Sample 4\",\"Sample 5\",\"Sample 6\",\"Sample 7\",\"Sample 8\",\"Sample 9\",\"Sample 10\",\"Sample 11\",\"Sample 12\",\"Sample 13\",\"Sample 14\",\"Sample 15\",\"Sample 16\",\"Sample 17\",\"Sample 18\",\"Sample 19\",\"Sample 20\",\"Sample 21\",\"Sample 22\",\"Sample 23\",\"Sample 24\",\"Sample 25\",\"Sample 26\",\"Sample 27\",\"Sample 28\",\"Sample 29\",\"Sample 30\",\"Sample 31\",\"Sample 32\",\"Sample 33\",\"Sample 34\",\"Sample 35\",\"Sample 36\",\"Sample 37\",\"Sample 38\",\"Sample 39\",\"Sample 40\",\"Sample 41\",\"Sample 42\",\"Sample 43\",\"Sample 44\",\"Sample 45\",\"Sample 46\",\"Sample 47\",\"Sample 48\",\"Sample 49\",\"Sample 50\",\"Sample 51\",\"Sample 52\",\"Sample 53\",\"Sample 54\",\"Sample 55\",\"Sample 56\",\"Sample 57\",\"Sample 58\",\"Sample 59\",\"Sample 60\",\"Sample 61\",\"Sample 62\",\"Sample 63\",\"Sample 64\",\"Sample 65\",\"Sample 66\",\"Sample 67\",\"Sample 68\",\"Sample 69\",\"Sample 70\",\"Sample 71\",\"Sample 72\",\"Sample 73\",\"Sample 74\",\"Sample 75\",\"Sample 76\",\"Sample 77\",\"Sample 78\",\"Sample 79\",\"Sample 80\",\"Sample 81\",\"Sample 82\",\"Sample 83\",\"Sample 84\",\"Sample 85\",\"Sample 86\",\"Sample 87\",\"Sample 88\",\"Sample 89\",\"Sample 90\",\"Sample 91\",\"Sample 92\",\"Sample 93\",\"Sample 94\",\"Sample 95\",\"Sample 96\",\"Sample 97\",\"Sample 98\",\"Sample 99\"],\"y\":[1157.03,56.95,522.95,1259.45,540.64,858.1,536.62,182.78,802.64,887.14,70.31,408.33,381.36,187.32,633.46,454.0,964.86,398.73,1182.45,1086.52,1377.9,356.23,1189.07,73.95,1358.65,465.68,825.54,161.54,192.07,355.91,1194.82,762.8,1083.04,200.5,61.77,994.06,318.25,831.22,678.65,70.01,608.07,138.31,912.09,63.74,167.33,1168.32,29.55,229.05,450.7,31.54,199.5,381.84,840.6,287.97,86.27,143.35,607.04,165.53,287.45,140.43,1442.19,204.29,518.63,769.03,260.92,275.15,982.98,122.9,664.07,20.69,702.49,300.43,179.18,79.11,380.67,637.93,1039.02,100.41,643.82,112.12,400.73,268.96,587.02,1368.11,160.51,240.25,111.83,157.51,95.41,495.92,319.21,301.56,134.93,1562.66,159.21,140.32,907.53,1250.96,379.02,322.69],\"type\":\"scatter\",\"xaxis\":\"x\",\"yaxis\":\"y\"},{\"line\":{\"color\":\"rgb(179,222,105)\"},\"mode\":\"lines+markers\",\"name\":\"random\",\"x\":[\"Sample 0\",\"Sample 1\",\"Sample 2\",\"Sample 3\",\"Sample 4\",\"Sample 5\",\"Sample 6\",\"Sample 7\",\"Sample 8\",\"Sample 9\",\"Sample 10\",\"Sample 11\",\"Sample 12\",\"Sample 13\",\"Sample 14\",\"Sample 15\",\"Sample 16\",\"Sample 17\",\"Sample 18\",\"Sample 19\",\"Sample 20\",\"Sample 21\",\"Sample 22\",\"Sample 23\",\"Sample 24\",\"Sample 25\",\"Sample 26\",\"Sample 27\",\"Sample 28\",\"Sample 29\",\"Sample 30\",\"Sample 31\",\"Sample 32\",\"Sample 33\",\"Sample 34\",\"Sample 35\",\"Sample 36\",\"Sample 37\",\"Sample 38\",\"Sample 39\",\"Sample 40\",\"Sample 41\",\"Sample 42\",\"Sample 43\",\"Sample 44\",\"Sample 45\",\"Sample 46\",\"Sample 47\",\"Sample 48\",\"Sample 49\",\"Sample 50\",\"Sample 51\",\"Sample 52\",\"Sample 53\",\"Sample 54\",\"Sample 55\",\"Sample 56\",\"Sample 57\",\"Sample 58\",\"Sample 59\",\"Sample 60\",\"Sample 61\",\"Sample 62\",\"Sample 63\",\"Sample 64\",\"Sample 65\",\"Sample 66\",\"Sample 67\",\"Sample 68\",\"Sample 69\",\"Sample 70\",\"Sample 71\",\"Sample 72\",\"Sample 73\",\"Sample 74\",\"Sample 75\",\"Sample 76\",\"Sample 77\",\"Sample 78\",\"Sample 79\",\"Sample 80\",\"Sample 81\",\"Sample 82\",\"Sample 83\",\"Sample 84\",\"Sample 85\",\"Sample 86\",\"Sample 87\",\"Sample 88\",\"Sample 89\",\"Sample 90\",\"Sample 91\",\"Sample 92\",\"Sample 93\",\"Sample 94\",\"Sample 95\",\"Sample 96\",\"Sample 97\",\"Sample 98\",\"Sample 99\"],\"y\":[1156.23,310.23,156.9,432.48,696.05,341.01,54.42,987.17,82.0,96.23,265.26,461.33,1076.95,146.15,389.03,607.29,364.34,138.28,278.84,428.85,183.76,115.56,184.55,141.41,77.68,829.53,554.15,400.02,123.16,736.44,88.71,307.87,117.93,707.81,254.94,58.81,172.99,483.02,788.1,117.99,1225.43,111.66,511.89,110.06,157.71,715.43,58.33,132.81,63.21,391.92,457.8,95.64,662.38,151.09,347.54,248.74,248.9,152.23,174.07,530.87,337.1,339.23,1522.01,266.75,627.76,167.94,1149.28,926.67,732.59,52.73,316.4,159.24,434.53,87.77,210.39,428.44,598.25,407.94,156.62,966.28,775.08,31.49,1354.0,825.33,155.02,375.99,261.54,187.93,824.93,270.93,419.08,331.11,275.86,321.08,901.96,388.17,59.2,604.44,672.41,262.32],\"type\":\"scatter\",\"xaxis\":\"x\",\"yaxis\":\"y\"},{\"marker\":{\"color\":[\"rgb(141,211,199)\",\"rgb(255,255,179)\",\"rgb(190,186,218)\",\"rgb(251,128,114)\",\"rgb(128,177,211)\",\"rgb(253,180,98)\",\"rgb(179,222,105)\"]},\"name\":\"Average MSE\",\"x\":[\"llama\",\"linear_regression\",\"knn\",\"random_forest\",\"average\",\"last\",\"random\"],\"y\":[63821.827749,24899.851092326677,105285.75593239996,21799.98956386101,187452.500750902,312698.28588,320765.3498700001],\"type\":\"bar\",\"xaxis\":\"x2\",\"yaxis\":\"y2\"}],                        {\"template\":{\"data\":{\"histogram2dcontour\":[{\"type\":\"histogram2dcontour\",\"colorbar\":{\"outlinewidth\":0,\"ticks\":\"\"},\"colorscale\":[[0.0,\"#0d0887\"],[0.1111111111111111,\"#46039f\"],[0.2222222222222222,\"#7201a8\"],[0.3333333333333333,\"#9c179e\"],[0.4444444444444444,\"#bd3786\"],[0.5555555555555556,\"#d8576b\"],[0.6666666666666666,\"#ed7953\"],[0.7777777777777778,\"#fb9f3a\"],[0.8888888888888888,\"#fdca26\"],[1.0,\"#f0f921\"]]}],\"choropleth\":[{\"type\":\"choropleth\",\"colorbar\":{\"outlinewidth\":0,\"ticks\":\"\"}}],\"histogram2d\":[{\"type\":\"histogram2d\",\"colorbar\":{\"outlinewidth\":0,\"ticks\":\"\"},\"colorscale\":[[0.0,\"#0d0887\"],[0.1111111111111111,\"#46039f\"],[0.2222222222222222,\"#7201a8\"],[0.3333333333333333,\"#9c179e\"],[0.4444444444444444,\"#bd3786\"],[0.5555555555555556,\"#d8576b\"],[0.6666666666666666,\"#ed7953\"],[0.7777777777777778,\"#fb9f3a\"],[0.8888888888888888,\"#fdca26\"],[1.0,\"#f0f921\"]]}],\"heatmap\":[{\"type\":\"heatmap\",\"colorbar\":{\"outlinewidth\":0,\"ticks\":\"\"},\"colorscale\":[[0.0,\"#0d0887\"],[0.1111111111111111,\"#46039f\"],[0.2222222222222222,\"#7201a8\"],[0.3333333333333333,\"#9c179e\"],[0.4444444444444444,\"#bd3786\"],[0.5555555555555556,\"#d8576b\"],[0.6666666666666666,\"#ed7953\"],[0.7777777777777778,\"#fb9f3a\"],[0.8888888888888888,\"#fdca26\"],[1.0,\"#f0f921\"]]}],\"heatmapgl\":[{\"type\":\"heatmapgl\",\"colorbar\":{\"outlinewidth\":0,\"ticks\":\"\"},\"colorscale\":[[0.0,\"#0d0887\"],[0.1111111111111111,\"#46039f\"],[0.2222222222222222,\"#7201a8\"],[0.3333333333333333,\"#9c179e\"],[0.4444444444444444,\"#bd3786\"],[0.5555555555555556,\"#d8576b\"],[0.6666666666666666,\"#ed7953\"],[0.7777777777777778,\"#fb9f3a\"],[0.8888888888888888,\"#fdca26\"],[1.0,\"#f0f921\"]]}],\"contourcarpet\":[{\"type\":\"contourcarpet\",\"colorbar\":{\"outlinewidth\":0,\"ticks\":\"\"}}],\"contour\":[{\"type\":\"contour\",\"colorbar\":{\"outlinewidth\":0,\"ticks\":\"\"},\"colorscale\":[[0.0,\"#0d0887\"],[0.1111111111111111,\"#46039f\"],[0.2222222222222222,\"#7201a8\"],[0.3333333333333333,\"#9c179e\"],[0.4444444444444444,\"#bd3786\"],[0.5555555555555556,\"#d8576b\"],[0.6666666666666666,\"#ed7953\"],[0.7777777777777778,\"#fb9f3a\"],[0.8888888888888888,\"#fdca26\"],[1.0,\"#f0f921\"]]}],\"surface\":[{\"type\":\"surface\",\"colorbar\":{\"outlinewidth\":0,\"ticks\":\"\"},\"colorscale\":[[0.0,\"#0d0887\"],[0.1111111111111111,\"#46039f\"],[0.2222222222222222,\"#7201a8\"],[0.3333333333333333,\"#9c179e\"],[0.4444444444444444,\"#bd3786\"],[0.5555555555555556,\"#d8576b\"],[0.6666666666666666,\"#ed7953\"],[0.7777777777777778,\"#fb9f3a\"],[0.8888888888888888,\"#fdca26\"],[1.0,\"#f0f921\"]]}],\"mesh3d\":[{\"type\":\"mesh3d\",\"colorbar\":{\"outlinewidth\":0,\"ticks\":\"\"}}],\"scatter\":[{\"fillpattern\":{\"fillmode\":\"overlay\",\"size\":10,\"solidity\":0.2},\"type\":\"scatter\"}],\"parcoords\":[{\"type\":\"parcoords\",\"line\":{\"colorbar\":{\"outlinewidth\":0,\"ticks\":\"\"}}}],\"scatterpolargl\":[{\"type\":\"scatterpolargl\",\"marker\":{\"colorbar\":{\"outlinewidth\":0,\"ticks\":\"\"}}}],\"bar\":[{\"error_x\":{\"color\":\"#2a3f5f\"},\"error_y\":{\"color\":\"#2a3f5f\"},\"marker\":{\"line\":{\"color\":\"#E5ECF6\",\"width\":0.5},\"pattern\":{\"fillmode\":\"overlay\",\"size\":10,\"solidity\":0.2}},\"type\":\"bar\"}],\"scattergeo\":[{\"type\":\"scattergeo\",\"marker\":{\"colorbar\":{\"outlinewidth\":0,\"ticks\":\"\"}}}],\"scatterpolar\":[{\"type\":\"scatterpolar\",\"marker\":{\"colorbar\":{\"outlinewidth\":0,\"ticks\":\"\"}}}],\"histogram\":[{\"marker\":{\"pattern\":{\"fillmode\":\"overlay\",\"size\":10,\"solidity\":0.2}},\"type\":\"histogram\"}],\"scattergl\":[{\"type\":\"scattergl\",\"marker\":{\"colorbar\":{\"outlinewidth\":0,\"ticks\":\"\"}}}],\"scatter3d\":[{\"type\":\"scatter3d\",\"line\":{\"colorbar\":{\"outlinewidth\":0,\"ticks\":\"\"}},\"marker\":{\"colorbar\":{\"outlinewidth\":0,\"ticks\":\"\"}}}],\"scattermapbox\":[{\"type\":\"scattermapbox\",\"marker\":{\"colorbar\":{\"outlinewidth\":0,\"ticks\":\"\"}}}],\"scatterternary\":[{\"type\":\"scatterternary\",\"marker\":{\"colorbar\":{\"outlinewidth\":0,\"ticks\":\"\"}}}],\"scattercarpet\":[{\"type\":\"scattercarpet\",\"marker\":{\"colorbar\":{\"outlinewidth\":0,\"ticks\":\"\"}}}],\"carpet\":[{\"aaxis\":{\"endlinecolor\":\"#2a3f5f\",\"gridcolor\":\"white\",\"linecolor\":\"white\",\"minorgridcolor\":\"white\",\"startlinecolor\":\"#2a3f5f\"},\"baxis\":{\"endlinecolor\":\"#2a3f5f\",\"gridcolor\":\"white\",\"linecolor\":\"white\",\"minorgridcolor\":\"white\",\"startlinecolor\":\"#2a3f5f\"},\"type\":\"carpet\"}],\"table\":[{\"cells\":{\"fill\":{\"color\":\"#EBF0F8\"},\"line\":{\"color\":\"white\"}},\"header\":{\"fill\":{\"color\":\"#C8D4E3\"},\"line\":{\"color\":\"white\"}},\"type\":\"table\"}],\"barpolar\":[{\"marker\":{\"line\":{\"color\":\"#E5ECF6\",\"width\":0.5},\"pattern\":{\"fillmode\":\"overlay\",\"size\":10,\"solidity\":0.2}},\"type\":\"barpolar\"}],\"pie\":[{\"automargin\":true,\"type\":\"pie\"}]},\"layout\":{\"autotypenumbers\":\"strict\",\"colorway\":[\"#636efa\",\"#EF553B\",\"#00cc96\",\"#ab63fa\",\"#FFA15A\",\"#19d3f3\",\"#FF6692\",\"#B6E880\",\"#FF97FF\",\"#FECB52\"],\"font\":{\"color\":\"#2a3f5f\"},\"hovermode\":\"closest\",\"hoverlabel\":{\"align\":\"left\"},\"paper_bgcolor\":\"white\",\"plot_bgcolor\":\"#E5ECF6\",\"polar\":{\"bgcolor\":\"#E5ECF6\",\"angularaxis\":{\"gridcolor\":\"white\",\"linecolor\":\"white\",\"ticks\":\"\"},\"radialaxis\":{\"gridcolor\":\"white\",\"linecolor\":\"white\",\"ticks\":\"\"}},\"ternary\":{\"bgcolor\":\"#E5ECF6\",\"aaxis\":{\"gridcolor\":\"white\",\"linecolor\":\"white\",\"ticks\":\"\"},\"baxis\":{\"gridcolor\":\"white\",\"linecolor\":\"white\",\"ticks\":\"\"},\"caxis\":{\"gridcolor\":\"white\",\"linecolor\":\"white\",\"ticks\":\"\"}},\"coloraxis\":{\"colorbar\":{\"outlinewidth\":0,\"ticks\":\"\"}},\"colorscale\":{\"sequential\":[[0.0,\"#0d0887\"],[0.1111111111111111,\"#46039f\"],[0.2222222222222222,\"#7201a8\"],[0.3333333333333333,\"#9c179e\"],[0.4444444444444444,\"#bd3786\"],[0.5555555555555556,\"#d8576b\"],[0.6666666666666666,\"#ed7953\"],[0.7777777777777778,\"#fb9f3a\"],[0.8888888888888888,\"#fdca26\"],[1.0,\"#f0f921\"]],\"sequentialminus\":[[0.0,\"#0d0887\"],[0.1111111111111111,\"#46039f\"],[0.2222222222222222,\"#7201a8\"],[0.3333333333333333,\"#9c179e\"],[0.4444444444444444,\"#bd3786\"],[0.5555555555555556,\"#d8576b\"],[0.6666666666666666,\"#ed7953\"],[0.7777777777777778,\"#fb9f3a\"],[0.8888888888888888,\"#fdca26\"],[1.0,\"#f0f921\"]],\"diverging\":[[0,\"#8e0152\"],[0.1,\"#c51b7d\"],[0.2,\"#de77ae\"],[0.3,\"#f1b6da\"],[0.4,\"#fde0ef\"],[0.5,\"#f7f7f7\"],[0.6,\"#e6f5d0\"],[0.7,\"#b8e186\"],[0.8,\"#7fbc41\"],[0.9,\"#4d9221\"],[1,\"#276419\"]]},\"xaxis\":{\"gridcolor\":\"white\",\"linecolor\":\"white\",\"ticks\":\"\",\"title\":{\"standoff\":15},\"zerolinecolor\":\"white\",\"automargin\":true,\"zerolinewidth\":2},\"yaxis\":{\"gridcolor\":\"white\",\"linecolor\":\"white\",\"ticks\":\"\",\"title\":{\"standoff\":15},\"zerolinecolor\":\"white\",\"automargin\":true,\"zerolinewidth\":2},\"scene\":{\"xaxis\":{\"backgroundcolor\":\"#E5ECF6\",\"gridcolor\":\"white\",\"linecolor\":\"white\",\"showbackground\":true,\"ticks\":\"\",\"zerolinecolor\":\"white\",\"gridwidth\":2},\"yaxis\":{\"backgroundcolor\":\"#E5ECF6\",\"gridcolor\":\"white\",\"linecolor\":\"white\",\"showbackground\":true,\"ticks\":\"\",\"zerolinecolor\":\"white\",\"gridwidth\":2},\"zaxis\":{\"backgroundcolor\":\"#E5ECF6\",\"gridcolor\":\"white\",\"linecolor\":\"white\",\"showbackground\":true,\"ticks\":\"\",\"zerolinecolor\":\"white\",\"gridwidth\":2}},\"shapedefaults\":{\"line\":{\"color\":\"#2a3f5f\"}},\"annotationdefaults\":{\"arrowcolor\":\"#2a3f5f\",\"arrowhead\":0,\"arrowwidth\":1},\"geo\":{\"bgcolor\":\"white\",\"landcolor\":\"#E5ECF6\",\"subunitcolor\":\"white\",\"showland\":true,\"showlakes\":true,\"lakecolor\":\"white\"},\"title\":{\"x\":0.05},\"mapbox\":{\"style\":\"light\"}}},\"xaxis\":{\"anchor\":\"y\",\"domain\":[0.0,1.0]},\"yaxis\":{\"anchor\":\"x\",\"domain\":[0.6499999999999999,0.9999999999999999],\"title\":{\"text\":\"Prediction Value\"}},\"xaxis2\":{\"anchor\":\"y2\",\"domain\":[0.0,1.0]},\"yaxis2\":{\"anchor\":\"x2\",\"domain\":[0.0,0.35],\"title\":{\"text\":\"MSE\"}},\"annotations\":[{\"font\":{\"size\":16},\"showarrow\":false,\"text\":\"Individual Sample Predictions\",\"x\":0.5,\"xanchor\":\"center\",\"xref\":\"paper\",\"y\":0.9999999999999999,\"yanchor\":\"bottom\",\"yref\":\"paper\"},{\"font\":{\"size\":16},\"showarrow\":false,\"text\":\"Average MSE Across Samples\",\"x\":0.5,\"xanchor\":\"center\",\"xref\":\"paper\",\"y\":0.35,\"yanchor\":\"bottom\",\"yref\":\"paper\"}],\"legend\":{\"orientation\":\"h\",\"yanchor\":\"bottom\",\"y\":1.02,\"xanchor\":\"right\",\"x\":1},\"title\":{\"text\":\"Model vs Regression Methods Comparison Across Multiple Samples\"},\"showlegend\":true,\"height\":1000},                        {\"responsive\": true}                    ).then(function(){\n",
       "                            \n",
       "var gd = document.getElementById('01471729-2568-4fe3-8f44-b7d2b7d27a73');\n",
       "var x = new MutationObserver(function (mutations, observer) {{\n",
       "        var display = window.getComputedStyle(gd).display;\n",
       "        if (!display || display === 'none') {{\n",
       "            console.log([gd, 'removed!']);\n",
       "            Plotly.purge(gd);\n",
       "            observer.disconnect();\n",
       "        }}\n",
       "}});\n",
       "\n",
       "// Listen for the removal of the full notebook cells\n",
       "var notebookContainer = gd.closest('#notebook-container');\n",
       "if (notebookContainer) {{\n",
       "    x.observe(notebookContainer, {childList: true});\n",
       "}}\n",
       "\n",
       "// Listen for the clearing of the current output cell\n",
       "var outputEl = gd.closest('.output');\n",
       "if (outputEl) {{\n",
       "    x.observe(outputEl, {childList: true});\n",
       "}}\n",
       "\n",
       "                        })                };                });            </script>        </div>"
      ]
     },
     "metadata": {},
     "output_type": "display_data"
    }
   ],
   "source": [
    "def generate_and_compare_predictions(model, dataset_func, regressors, num_samples=5, seq_len=None):\n",
    "    \"\"\"\n",
    "    Generate model predictions and compare against regression baselines using MSE across multiple prompts\n",
    "    \n",
    "    Args:\n",
    "        model (HookedTransformer): The transformer model\n",
    "        dataset_func (callable): Function that returns dataset splits\n",
    "        regressors (list): List of regression functions to compare\n",
    "        num_samples (int): Number of different prompts to generate and test\n",
    "        seq_len (int, optional): Length to slice dataset\n",
    "        \n",
    "    Returns:\n",
    "        dict: MSE scores and predictions for each sample\n",
    "    \"\"\"\n",
    "    all_results = []\n",
    "    \n",
    "    # Generate multiple samples\n",
    "    for i in range(num_samples):\n",
    "        # Get data and predictions using create_comparison_data\n",
    "        data = create_comparison_data(model, dataset_func, regressors, random_state=i, seq_len=seq_len)\n",
    "        \n",
    "        # Get the prompt\n",
    "        prompt = data['prompt']\n",
    "        \n",
    "        # Generate model prediction\n",
    "        pred_text = model.generate(prompt, max_new_tokens=4, temperature=0)\n",
    "        # No need to convert to string since generate() returns string directly\n",
    "        \n",
    "        # Extract the numeric prediction from the generated text\n",
    "        try:\n",
    "            # Clean the prediction text - remove the prompt and keep only the generated part\n",
    "            # This assumes the model's output follows the prompt\n",
    "            generated_part = pred_text.replace(prompt, '').strip()\n",
    "            model_pred = float(generated_part)\n",
    "        except ValueError:\n",
    "            print(f\"Warning: Could not parse model prediction for sample {i}: {pred_text}\")\n",
    "            model_pred = None\n",
    "            \n",
    "        # Get gold value and regression predictions\n",
    "        sample_results = {\n",
    "            'sample_id': i,\n",
    "            'predictions': {\n",
    "                'llama': model_pred,  # Changed 'model' to 'llama' for clarity\n",
    "                'gold': data['predictions']['gold'],\n",
    "            },\n",
    "            'mse_scores': {}\n",
    "        }\n",
    "        \n",
    "        # Add predictions from all regressors\n",
    "        for reg_name, pred_value in data['predictions'].items():\n",
    "            if reg_name != 'gold':\n",
    "                sample_results['predictions'][reg_name] = pred_value\n",
    "        \n",
    "        # Calculate MSE scores for all predictions including the model's\n",
    "        gold = sample_results['predictions']['gold']\n",
    "        for method, pred in sample_results['predictions'].items():\n",
    "            if method != 'gold' and pred is not None:\n",
    "                sample_results['mse_scores'][method] = (pred - gold) ** 2\n",
    "                \n",
    "        all_results.append(sample_results)\n",
    "    \n",
    "    # Calculate average MSE across all samples\n",
    "    avg_mse = {method: [] for method in all_results[0]['mse_scores'].keys()}\n",
    "    for result in all_results:\n",
    "        for method, mse in result['mse_scores'].items():\n",
    "            avg_mse[method].append(mse)\n",
    "    \n",
    "    avg_mse = {method: sum(scores)/len(scores) for method, scores in avg_mse.items()}\n",
    "    \n",
    "    return {\n",
    "        'individual_results': all_results,\n",
    "        'average_mse': avg_mse\n",
    "    }\n",
    "\n",
    "def plot_comparison_results(results):\n",
    "    import plotly.graph_objects as go\n",
    "    import plotly.express as px\n",
    "    from plotly.subplots import make_subplots\n",
    "    \n",
    "    # Create figure with secondary y-axis\n",
    "    fig = make_subplots(rows=2, cols=1, \n",
    "                       subplot_titles=('Individual Sample Predictions', 'Average MSE Across Samples'),\n",
    "                       vertical_spacing=0.3)\n",
    "    \n",
    "    # Colors for different methods\n",
    "    methods = list(results['individual_results'][0]['predictions'].keys())\n",
    "    methods.remove('gold')\n",
    "    colors = px.colors.qualitative.Set3[:len(methods)]\n",
    "    color_map = dict(zip(methods, colors))\n",
    "    \n",
    "    # Plot individual predictions\n",
    "    for method in methods:\n",
    "        x_vals = []\n",
    "        y_vals = []\n",
    "        for sample in results['individual_results']:\n",
    "            x_vals.append(f\"Sample {sample['sample_id']}\")\n",
    "            y_vals.append(sample['predictions'][method])\n",
    "        \n",
    "        fig.add_trace(\n",
    "            go.Scatter(\n",
    "                name=method,\n",
    "                x=x_vals,\n",
    "                y=y_vals,\n",
    "                mode='lines+markers',\n",
    "                line=dict(color=color_map[method])\n",
    "            ),\n",
    "            row=1, col=1\n",
    "        )\n",
    "        \n",
    "        # Add gold values\n",
    "        if method == methods[0]:  # Only add gold once\n",
    "            gold_vals = [sample['predictions']['gold'] for sample in results['individual_results']]\n",
    "            fig.add_trace(\n",
    "                go.Scatter(\n",
    "                    name='Gold',\n",
    "                    x=x_vals,\n",
    "                    y=gold_vals,\n",
    "                    mode='lines+markers',\n",
    "                    line=dict(color='black', dash='dash')\n",
    "                ),\n",
    "                row=1, col=1\n",
    "            )\n",
    "    \n",
    "    # Plot average MSE\n",
    "    fig.add_trace(\n",
    "        go.Bar(\n",
    "            name='Average MSE',\n",
    "            x=list(results['average_mse'].keys()),\n",
    "            y=list(results['average_mse'].values()),\n",
    "            marker_color=[color_map[method] for method in results['average_mse'].keys()]\n",
    "        ),\n",
    "        row=2, col=1\n",
    "    )\n",
    "    \n",
    "    # Update layout\n",
    "    fig.update_layout(\n",
    "        title='Model vs Regression Methods Comparison Across Multiple Samples',\n",
    "        showlegend=True,\n",
    "        height=1000,\n",
    "        legend=dict(\n",
    "            orientation=\"h\",\n",
    "            yanchor=\"bottom\",\n",
    "            y=1.02,\n",
    "            xanchor=\"right\",\n",
    "            x=1\n",
    "        )\n",
    "    )\n",
    "    \n",
    "    # Update y-axes labels\n",
    "    fig.update_yaxes(title_text=\"Prediction Value\", row=1, col=1)\n",
    "    fig.update_yaxes(title_text=\"MSE\", row=2, col=1)\n",
    "    \n",
    "    return fig\n",
    "\n",
    "# Run comparison\n",
    "regressors = [linear_regression, knn_regression, random_forest, \n",
    "              baseline_average, baseline_last, baseline_random]\n",
    "\n",
    "results = generate_and_compare_predictions(\n",
    "    model=model,\n",
    "    dataset_func=get_dataset_friedman_2,\n",
    "    regressors=regressors,\n",
    "    num_samples=100,\n",
    "    seq_len=None\n",
    ")\n",
    "\n",
    "# Create and display visualization\n",
    "fig = plot_comparison_results(results)\n",
    "fig.show()"
   ]
  },
  {
   "cell_type": "code",
   "execution_count": 6,
   "id": "02c0135b",
   "metadata": {},
   "outputs": [],
   "source": [
    "model.clear_contexts()\n",
    "\n",
    "seq_len = 25\n",
    "# TODO we need to be able to run more batches but not over \n",
    "batch = 1\n",
    "(linreg_tokens, linreg_logits, linreg_cache, linreg_data_store) = run_and_cache_model_linreg_tokens(model, seq_len, batch)"
   ]
  },
  {
   "cell_type": "code",
   "execution_count": 8,
   "id": "94176e06",
   "metadata": {},
   "outputs": [],
   "source": [
    "def create_logit_lens_plot(logit_lens_logit_diffs, labels, comparison_name):\n",
    "    \"\"\"\n",
    "    Creates a lightweight, themed logit lens plot suitable for web embedding.\n",
    "    \n",
    "    Args:\n",
    "        logit_lens_logit_diffs: Tensor of logit differences\n",
    "        labels: List of layer labels\n",
    "        comparison_name: Name of the comparison being plotted\n",
    "    \n",
    "    Returns:\n",
    "        str: HTML/JavaScript code for the plot using Plotly\n",
    "    \"\"\"\n",
    "    import plotly.graph_objects as go\n",
    "    \n",
    "    # Convert tensor to list\n",
    "    logit_diffs = logit_lens_logit_diffs.tolist()\n",
    "    \n",
    "    # Create the trace\n",
    "    trace = go.Scatter(\n",
    "        x=list(range(len(logit_diffs))),\n",
    "        y=logit_diffs,\n",
    "        mode='lines+markers',\n",
    "        line=dict(\n",
    "            color='#9ec5fe',  # Matches website theme\n",
    "            width=2\n",
    "        ),\n",
    "        marker=dict(\n",
    "            size=6,\n",
    "            color='#9ec5fe',\n",
    "            line=dict(\n",
    "                color='#ffffff',\n",
    "                width=1\n",
    "            )\n",
    "        ),\n",
    "        hovertemplate='Layer: %{x}<br>Logit Diff: %{y:.3f}<extra></extra>'\n",
    "    )\n",
    "\n",
    "    # Create the layout\n",
    "    layout = go.Layout(\n",
    "        template='plotly_dark',  # Dark theme to match website\n",
    "        plot_bgcolor='rgba(26,26,26,0)',  # Transparent background\n",
    "        paper_bgcolor='rgba(26,26,26,0)',\n",
    "        margin=dict(l=50, r=20, t=50, b=50),\n",
    "        xaxis=dict(\n",
    "            title='Layer',\n",
    "            gridcolor='#444',\n",
    "            ticktext=labels,\n",
    "            tickvals=list(range(len(labels))),\n",
    "            tickmode='array',\n",
    "            showgrid=True,\n",
    "            zeroline=False\n",
    "        ),\n",
    "        yaxis=dict(\n",
    "            title='Logit Difference',\n",
    "            gridcolor='#444',\n",
    "            showgrid=True,\n",
    "            zeroline=False\n",
    "        ),\n",
    "        title=dict(\n",
    "            text=f'Logit Difference Across Layers<br><sub>{comparison_name}</sub>',\n",
    "            font=dict(\n",
    "                size=14,\n",
    "                color='#e0e0e0'\n",
    "            ),\n",
    "            x=0.5,\n",
    "            xanchor='center'\n",
    "        ),\n",
    "        hoverlabel=dict(\n",
    "            bgcolor='#333',\n",
    "            font_size=12,\n",
    "            font_family=\"monospace\"\n",
    "        ),\n",
    "        width=600,\n",
    "        height=400\n",
    "    )\n",
    "\n",
    "    # Create figure\n",
    "    fig = go.Figure(data=[trace], layout=layout)\n",
    "    \n",
    "    # Add light theme configuration\n",
    "    fig.update_layout(\n",
    "        updatemenus=[dict(\n",
    "            type=\"buttons\",\n",
    "            showactive=False,\n",
    "            buttons=[\n",
    "                dict(\n",
    "                    label=\"Light Theme\",\n",
    "                    method=\"relayout\",\n",
    "                    args=[{\n",
    "                        \"plot_bgcolor\": \"rgba(253,246,227,0)\",\n",
    "                        \"paper_bgcolor\": \"rgba(253,246,227,0)\",\n",
    "                        \"font.color\": \"#073642\",\n",
    "                        \"xaxis.gridcolor\": \"#93a1a1\",\n",
    "                        \"yaxis.gridcolor\": \"#93a1a1\",\n",
    "                        \"title.font.color\": \"#073642\"\n",
    "                    }]\n",
    "                ),\n",
    "                dict(\n",
    "                    label=\"Dark Theme\",\n",
    "                    method=\"relayout\",\n",
    "                    args=[{\n",
    "                        \"plot_bgcolor\": \"rgba(26,26,26,0)\",\n",
    "                        \"paper_bgcolor\": \"rgba(26,26,26,0)\",\n",
    "                        \"font.color\": \"#e0e0e0\",\n",
    "                        \"xaxis.gridcolor\": \"#444\",\n",
    "                        \"yaxis.gridcolor\": \"#444\",\n",
    "                        \"title.font.color\": \"#e0e0e0\"\n",
    "                    }]\n",
    "                )\n",
    "            ],\n",
    "            x=0.9,\n",
    "            y=1.1,\n",
    "            xanchor=\"right\",\n",
    "            yanchor=\"top\",\n",
    "        )]\n",
    "    )\n",
    "\n",
    "    # Generate minimal HTML\n",
    "    plot_html = fig.to_html(\n",
    "        full_html=False,\n",
    "        include_plotlyjs='cdn',\n",
    "        config={'displayModeBar': False}\n",
    "    )\n",
    "    \n",
    "    return plot_html\n",
    "\n",
    "# # Modify your existing loop to use the new plotting function\n",
    "# for i, token_pair in enumerate(token_pairs):\n",
    "#     logit_lens_logit_diffs = residual_stack_to_logit_diff(accumulated_residual, linreg_cache)\n",
    "    # plot_html = create_logit_lens_plot(\n",
    "    #     logit_lens_logit_diffs,\n",
    "    #     labels,\n",
    "    #     token_pairs_names[i]\n",
    "    # )\n",
    "    \n",
    "    # # Save just the plot HTML\n",
    "    # output_path = f\"../docs/logit_lens_{token_pairs_names[i].replace(' ', '_')}.html\"\n",
    "    # with open(output_path, 'w') as f:\n",
    "    #     f.write(plot_html)"
   ]
  },
  {
   "cell_type": "code",
   "execution_count": 11,
   "id": "b3f7effd",
   "metadata": {},
   "outputs": [],
   "source": [
    "model.clear_contexts()\n",
    "linreg_tokens = linreg_tokens.to('cpu')\n",
    "linreg_logits = linreg_logits.to('cpu')\n",
    "linreg_cache = linreg_cache.to('cpu')\n",
    "\n",
    "# Verify all datasets have the same comparison names\n",
    "base_comparison_names = linreg_data_store[0][\"comparison_names\"]\n",
    "all_match = all(dataset[\"comparison_names\"] == base_comparison_names for dataset in linreg_data_store[1:])\n",
    "assert all_match, \"Mismatch in comparison names across datasets.\"\n",
    "\n",
    "# Extract comparison names from the first dataset\n",
    "token_pairs_names = base_comparison_names.copy()\n",
    "\n",
    "# Extract token pairs across all datasets for each comparison\n",
    "token_pairs = [\n",
    "    t.stack([dataset[\"token_pairs\"][i] for dataset in linreg_data_store])[0]\n",
    "    for i in range(len(token_pairs_names))\n",
    "]\n",
    "\n",
    "logger.info(f\"Number of comparisons: {len(token_pairs_names)}\")\n",
    "logger.info(f\"Number of token_pairs: {len(token_pairs)}\")\n",
    "\n",
    "# Iterate over token pairs and generate plots\n",
    "for i, token_pair in enumerate(token_pairs):\n",
    "    logger.info(f\"Processing comparison {i}: {token_pairs_names[i]}\")\n",
    "    token_pair = token_pair.to('cpu')\n",
    "\n",
    "    def logits_to_ave_logit_diff(\n",
    "        logits: Float[Tensor, \"batch seq d_vocab\"],\n",
    "        answer_tokens: Float[Tensor, \"batch 2\"] = token_pair,\n",
    "        per_prompt: bool = False\n",
    "    ) -> Float[Tensor, \"*batch\"]:\n",
    "        '''\n",
    "        Returns logit difference between the correct and incorrect answer.\n",
    "\n",
    "        If per_prompt=True, return the array of differences rather than the average.\n",
    "        '''\n",
    "        # Extract token IDs for correct and incorrect answers\n",
    "        correct = answer_tokens[:, 0]  # Correct token IDs\n",
    "        incorrect = answer_tokens[:, 1]  # Incorrect token IDs\n",
    "\n",
    "        # Extract logits for the final token in the sequence\n",
    "        final_logits = logits[:, -1, :]  # Shape: (batch, d_vocab)\n",
    "\n",
    "        # Get logits for the correct and incorrect answers\n",
    "        correct_logits = final_logits[t.arange(final_logits.size(0)), correct]  # Shape: (batch,)\n",
    "        incorrect_logits = final_logits[t.arange(final_logits.size(0)), incorrect]  # Shape: (batch,)\n",
    "\n",
    "        # Calculate logit difference\n",
    "        logit_diff = correct_logits - incorrect_logits  # Shape: (batch,)\n",
    "\n",
    "        if per_prompt:\n",
    "            return logit_diff  # Return per-prompt logit differences\n",
    "        else:\n",
    "            return logit_diff.mean()  # Return mean logit difference over the batch\n",
    "\n",
    "    original_per_prompt_diff = logits_to_ave_logit_diff(linreg_logits, token_pair, per_prompt=True)\n",
    "    logger.debug(f\"Per prompt logit difference for comparison '{token_pairs_names[i]}': {original_per_prompt_diff}\")\n",
    "    original_average_logit_diff = logits_to_ave_logit_diff(linreg_logits, token_pair)\n",
    "    logger.debug(f\"Average logit difference for comparison '{token_pairs_names[i]}': {original_average_logit_diff}\")\n",
    "\n",
    "    # Retrieve final residual stream\n",
    "    final_residual_stream: Float[Tensor, \"batch seq d_model\"] = linreg_cache[\"resid_post\", -1]\n",
    "    logger.debug(f\"Final residual stream shape: {final_residual_stream.shape}\")\n",
    "    final_token_residual_stream: Float[Tensor, \"batch d_model\"] = final_residual_stream[:, -1, :]\n",
    "\n",
    "    # Compute residual directions\n",
    "    pair_residual_directions = model.tokens_to_residual_directions(token_pair.to('cpu'))  # [batch 2 d_model]\n",
    "    logger.debug(f\"Answer residual directions shape: {pair_residual_directions.shape}\")\n",
    "\n",
    "    correct_residual_directions, incorrect_residual_directions = pair_residual_directions.unbind(dim=1)\n",
    "    logit_diff_directions = correct_residual_directions - incorrect_residual_directions  # [batch d_model]\n",
    "    logger.debug(f\"Logit difference directions shape: {logit_diff_directions.shape}\")\n",
    "\n",
    "    def residual_stack_to_logit_diff(\n",
    "        residual_stack: Float[Tensor, \"... batch d_model\"],\n",
    "        cache: ActivationCache,\n",
    "        logit_diff_directions: Float[Tensor, \"batch d_model\"] = logit_diff_directions,\n",
    "    ) -> Float[Tensor, \"...\"]:\n",
    "        '''\n",
    "        Gets the avg logit difference between the correct and incorrect answer for a given\n",
    "        stack of components in the residual stream.\n",
    "        '''\n",
    "        # Apply LayerNorm scaling (to just the final sequence position)\n",
    "        scaled_residual_stream = cache.apply_ln_to_stack(residual_stack, layer=-1, pos_slice=-1)\n",
    "\n",
    "        logit_diff_directions = logit_diff_directions.to(dtype=scaled_residual_stream.dtype)\n",
    "\n",
    "        logit_diff_directions = logit_diff_directions.to('cpu')\n",
    "\n",
    "        logger.debug(f\"Scaled residual stream shape: {scaled_residual_stream.shape}\")\n",
    "        logger.debug(f\"Logit diff directions shape: {logit_diff_directions.shape}\")\n",
    "\n",
    "        # Projection\n",
    "        batch_size = residual_stack.size(-2)\n",
    "        avg_logit_diff = einops.einsum(\n",
    "            scaled_residual_stream,\n",
    "            logit_diff_directions,\n",
    "            \"... batch d_model, batch d_model -> ...\"\n",
    "        ) / batch_size\n",
    "        return avg_logit_diff\n",
    "\n",
    "    # Verify residual stack computation\n",
    "    t.testing.assert_close(\n",
    "        residual_stack_to_logit_diff(final_token_residual_stream.to(t.float32), linreg_cache.to(t.float32)),\n",
    "        original_average_logit_diff.to(t.float32),\n",
    "        rtol=5e-3,  # Increased tolerance\n",
    "        atol=5e-3\n",
    "    )\n",
    "\n",
    "    # Accumulate residuals\n",
    "    accumulated_residual, labels = linreg_cache.accumulated_resid(layer=-1, incl_mid=True, pos_slice=-1, return_labels=True)\n",
    "    # accumulated_residual has shape (component, batch, d_model)\n",
    "\n",
    "    logit_lens_logit_diffs: Float[Tensor, \"component\"] = residual_stack_to_logit_diff(accumulated_residual, linreg_cache)\n",
    "    # Convert to half precision\n",
    "    logit_lens_logit_diffs = logit_lens_logit_diffs.half()\n",
    "\n",
    "    # # # Generate plot\n",
    "    # line(\n",
    "    #     logit_lens_logit_diffs,\n",
    "    #     hovermode=\"x unified\",\n",
    "    #     title=f\"Logit Difference From Accumulated Residual Stream for {token_pairs_names[i]}\",\n",
    "    #     labels={\"x\": \"Layer\", \"y\": \"Logit Diff\"},\n",
    "    #     xaxis_tickvals=labels,\n",
    "    #     width=800\n",
    "    # )\n",
    "    # # Save the logit lens plot\n",
    "    # fig = line(\n",
    "    #     logit_lens_logit_diffs,\n",
    "    #     hovermode=\"x unified\", \n",
    "    #     title=f\"Logit Difference From Accumulated Residual Stream for {token_pairs_names[i]}\",\n",
    "    #     labels={\"x\": \"Layer\", \"y\": \"Logit Diff\"},\n",
    "    #     xaxis_tickvals=labels,\n",
    "    #     width=800,\n",
    "    #     return_fig=True\n",
    "    # )\n",
    "    # # Save the file, creating it if it doesn't exist\n",
    "    # output_path = f\"../docs/logit_lens_{token_pairs_names[i].replace(' ', '_')}.html\"\n",
    "    # with open(output_path, 'w') as f:\n",
    "    #     fig.write_html(f)\n",
    "        # Create the plot\n",
    "    # fig = create_logit_lens_plot(\n",
    "    #     logit_lens_logit_diffs,\n",
    "    #     labels,\n",
    "    #     token_pairs_names[i]\n",
    "    # )\n",
    "    \n",
    "    # # Save just the plot HTML\n",
    "    # output_path = f\"../docs/logit_lens_{token_pairs_names[i].replace(' ', '_')}.html\"\n",
    "    # with open(output_path, 'w') as f:\n",
    "    #     f.write(fig.to_html(\n",
    "    #         full_html=False,\n",
    "    #         include_plotlyjs='cdn',\n",
    "    #         config={'displayModeBar': False}\n",
    "    #     ))\n",
    "    plot_html = create_logit_lens_plot(\n",
    "        logit_lens_logit_diffs,\n",
    "        labels,\n",
    "        token_pairs_names[i]\n",
    "    )\n",
    "    \n",
    "    # Save just the plot HTML\n",
    "    output_path = f\"../docs/logit_lens_{token_pairs_names[i].replace(' ', '_')}.html\"\n",
    "    with open(output_path, 'w') as f:\n",
    "        f.write(plot_html)"
   ]
  }
 ],
 "metadata": {
  "kernelspec": {
   "display_name": "Python 3 (ipykernel)",
   "language": "python",
   "name": "python3"
  },
  "language_info": {
   "codemirror_mode": {
    "name": "ipython",
    "version": 3
   },
   "file_extension": ".py",
   "mimetype": "text/x-python",
   "name": "python",
   "nbconvert_exporter": "python",
   "pygments_lexer": "ipython3",
   "version": "3.12.5"
  }
 },
 "nbformat": 4,
 "nbformat_minor": 5
}
